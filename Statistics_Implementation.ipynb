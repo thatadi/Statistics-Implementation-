{
  "nbformat": 4,
  "nbformat_minor": 0,
  "metadata": {
    "colab": {
      "provenance": [],
      "authorship_tag": "ABX9TyMV9x7eK2Mv5Nz5jBX06hoN",
      "include_colab_link": true
    },
    "kernelspec": {
      "name": "python3",
      "display_name": "Python 3"
    },
    "language_info": {
      "name": "python"
    }
  },
  "cells": [
    {
      "cell_type": "markdown",
      "metadata": {
        "id": "view-in-github",
        "colab_type": "text"
      },
      "source": [
        "<a href=\"https://colab.research.google.com/github/thatadi/Statistics-Implementation-/blob/main/Statistics_Implementation.ipynb\" target=\"_parent\"><img src=\"https://colab.research.google.com/assets/colab-badge.svg\" alt=\"Open In Colab\"/></a>"
      ]
    },
    {
      "cell_type": "markdown",
      "source": [
        "# Experiment-1"
      ],
      "metadata": {
        "id": "15sXd9-Wxoqv"
      }
    },
    {
      "cell_type": "code",
      "execution_count": null,
      "metadata": {
        "id": "uNg3V6LbdNsm"
      },
      "outputs": [],
      "source": [
        "# Hello World"
      ]
    },
    {
      "cell_type": "code",
      "source": [
        "\"\"\"\n",
        "Jana-gana-mana-adhinayaka, jaya he\n",
        "\n",
        "Bharata-bhagya-vidhata.\n",
        "\n",
        "Punjab-Sindh-Gujarat-Maratha\n",
        "\n",
        "Dravida-Utkala-Banga\n",
        "\n",
        "Vindhya-Himachala-Yamuna-Ganga\n",
        "\n",
        "Uchchala-Jaladhi-taranga.\n",
        "\n",
        "Tava shubha name jage,\n",
        "\n",
        "Tava shubha asisa mage,\n",
        "\n",
        "Gahe tava jaya gatha,\n",
        "\n",
        "Jana-gana-mangala-dayaka jaya he\n",
        "\n",
        "Bharata-bhagya-vidhata.\n",
        "\n",
        "Jaya he, jaya he, jaya he, Jaya jaya jaya, jaya he!\n",
        "\n",
        "\"\"\""
      ],
      "metadata": {
        "id": "7uPANzBdeids",
        "colab": {
          "base_uri": "https://localhost:8080/",
          "height": 70
        },
        "outputId": "a2376188-9f33-49f3-eb36-c576ed48c237"
      },
      "execution_count": null,
      "outputs": [
        {
          "output_type": "execute_result",
          "data": {
            "text/plain": [
              "'\\nJana-gana-mana-adhinayaka, jaya he\\n\\nBharata-bhagya-vidhata.\\n\\nPunjab-Sindh-Gujarat-Maratha \\n\\nDravida-Utkala-Banga\\n\\nVindhya-Himachala-Yamuna-Ganga \\n\\nUchchala-Jaladhi-taranga.\\n\\nTava shubha name jage, \\n\\nTava shubha asisa mage, \\n\\nGahe tava jaya gatha, \\n\\nJana-gana-mangala-dayaka jaya he \\n\\nBharata-bhagya-vidhata.\\n\\nJaya he, jaya he, jaya he, Jaya jaya jaya, jaya he! \\n\\n'"
            ],
            "application/vnd.google.colaboratory.intrinsic+json": {
              "type": "string"
            }
          },
          "metadata": {},
          "execution_count": 3
        }
      ]
    },
    {
      "cell_type": "code",
      "source": [
        "print(5,type(5))\n",
        "print(5.0987,type(5.0987))\n",
        "print(\"hello world\",type(\"hello world\"))\n",
        "print(complex('5-7j'),type(complex('5-7j')))\n",
        "print(True,type(True))\n",
        "print(bytes(12),type(bytes(12)))"
      ],
      "metadata": {
        "id": "UDSlrhKPepHm",
        "colab": {
          "base_uri": "https://localhost:8080/"
        },
        "outputId": "5556eae5-c26b-490b-ba15-409a89fdcc0c"
      },
      "execution_count": null,
      "outputs": [
        {
          "output_type": "stream",
          "name": "stdout",
          "text": [
            "5 <class 'int'>\n",
            "5.0987 <class 'float'>\n",
            "hello world <class 'str'>\n",
            "(5-7j) <class 'complex'>\n",
            "True <class 'bool'>\n",
            "b'\\x00\\x00\\x00\\x00\\x00\\x00\\x00\\x00\\x00\\x00\\x00\\x00' <class 'bytes'>\n"
          ]
        }
      ]
    },
    {
      "cell_type": "code",
      "source": [
        "mylist=[1,3.5,\"hello\",'a']\n",
        "print(mylist)\n",
        "mylist.append(5)\n",
        "mylist.append(\"Aditya\")\n",
        "print(mylist)"
      ],
      "metadata": {
        "colab": {
          "base_uri": "https://localhost:8080/"
        },
        "id": "c9KxM34Jhce5",
        "outputId": "834cbe9e-8b53-4ac4-bc24-db28228ce378"
      },
      "execution_count": null,
      "outputs": [
        {
          "output_type": "stream",
          "name": "stdout",
          "text": [
            "[1, 3.5, 'hello', 'a']\n",
            "[1, 3.5, 'hello', 'a', 5, 'Aditya']\n"
          ]
        }
      ]
    },
    {
      "cell_type": "code",
      "source": [
        "x=mylist\n",
        "print(x)"
      ],
      "metadata": {
        "colab": {
          "base_uri": "https://localhost:8080/"
        },
        "id": "ZDRJd0f9jN62",
        "outputId": "d3aaff9e-335a-481c-a9f9-f22624704861"
      },
      "execution_count": null,
      "outputs": [
        {
          "output_type": "stream",
          "name": "stdout",
          "text": [
            "[1, 3.5, 'hello', 'a', 5, 'Aditya']\n"
          ]
        }
      ]
    },
    {
      "cell_type": "code",
      "source": [
        "new=[78,\"myname\",8.9]\n",
        "print(mylist+new)"
      ],
      "metadata": {
        "colab": {
          "base_uri": "https://localhost:8080/"
        },
        "id": "PZaCZp3zji9d",
        "outputId": "e2b0da91-4180-43c0-b86f-60e2b0e49dfb"
      },
      "execution_count": null,
      "outputs": [
        {
          "output_type": "stream",
          "name": "stdout",
          "text": [
            "[1, 3.5, 'hello', 'a', 5, 'Aditya', 78, 'myname', 8.9]\n"
          ]
        }
      ]
    },
    {
      "cell_type": "code",
      "source": [
        "print(len(mylist))\n"
      ],
      "metadata": {
        "colab": {
          "base_uri": "https://localhost:8080/"
        },
        "id": "i48c7I1jkG3n",
        "outputId": "77606653-1a0b-4077-d00c-5262e4507627"
      },
      "execution_count": null,
      "outputs": [
        {
          "output_type": "stream",
          "name": "stdout",
          "text": [
            "12\n",
            "None\n"
          ]
        }
      ]
    },
    {
      "cell_type": "code",
      "source": [
        "mylist.extend([100,\"bye\",7.23])\n",
        "print(mylist)"
      ],
      "metadata": {
        "colab": {
          "base_uri": "https://localhost:8080/"
        },
        "id": "iLiBxRl8kQXO",
        "outputId": "78aa6a20-25bc-4986-f3e3-dc0a89f87015"
      },
      "execution_count": null,
      "outputs": [
        {
          "output_type": "stream",
          "name": "stdout",
          "text": [
            "[1, 3.5, 'hello', 'a', 5, 'Aditya', 100, 'bye', 7.23, 11, 12, 13, 100, 'lion', 100, 'bye', 7.23]\n"
          ]
        }
      ]
    },
    {
      "cell_type": "code",
      "source": [
        "Dict = { 'Dict1': {'name': 'Ali', 'age': '19'},\n",
        "         'Dict2': {'name': 'Bob', 'age': '25'}}\n",
        "\n",
        "\n",
        "print(Dict['Dict1']['name'])\n",
        "\n",
        "\n",
        "print(Dict['Dict2']['age'])"
      ],
      "metadata": {
        "colab": {
          "base_uri": "https://localhost:8080/"
        },
        "id": "QfNf0cWCk7yw",
        "outputId": "4c312d71-249b-4c33-bf3a-5569b216d2cf"
      },
      "execution_count": null,
      "outputs": [
        {
          "output_type": "stream",
          "name": "stdout",
          "text": [
            "Ali\n",
            "25\n"
          ]
        }
      ]
    },
    {
      "cell_type": "code",
      "source": [
        "mylist.insert(0,2003)\n",
        "print(mylist)"
      ],
      "metadata": {
        "colab": {
          "base_uri": "https://localhost:8080/"
        },
        "id": "i9fGz35Fkyb0",
        "outputId": "dbe34109-8c75-47a0-f628-9e899f541dfb"
      },
      "execution_count": null,
      "outputs": [
        {
          "output_type": "stream",
          "name": "stdout",
          "text": [
            "[2003, 1, 3.5, 'hello', 'a', 5, 'Aditya', 100, 'bye', 7.23, 11, 12, 13, 100, 'lion', 100, 'bye', 7.23]\n"
          ]
        }
      ]
    },
    {
      "cell_type": "code",
      "source": [
        "mylist.remove(1)\n",
        "print(mylist)"
      ],
      "metadata": {
        "colab": {
          "base_uri": "https://localhost:8080/"
        },
        "id": "fA0FdLqimFZg",
        "outputId": "83155a9d-f5b0-4f40-db4a-e09a17e87ee7"
      },
      "execution_count": null,
      "outputs": [
        {
          "output_type": "stream",
          "name": "stdout",
          "text": [
            "[2003, 3.5, 'hello', 'a', 5, 'Aditya', 100, 'bye', 7.23, 11, 12, 13, 100, 'lion', 100, 'bye', 7.23]\n"
          ]
        }
      ]
    },
    {
      "cell_type": "code",
      "source": [
        "print(mylist[::])"
      ],
      "metadata": {
        "colab": {
          "base_uri": "https://localhost:8080/"
        },
        "id": "RorDKe6emorH",
        "outputId": "1378b947-30fa-4c79-ebb1-0031b47c30e0"
      },
      "execution_count": null,
      "outputs": [
        {
          "output_type": "stream",
          "name": "stdout",
          "text": [
            "[2003, 3.5, 'hello', 'a', 5, 'Aditya', 100, 'bye', 7.23, 11, 12, 13, 100, 'lion', 100, 'bye', 7.23]\n"
          ]
        }
      ]
    },
    {
      "cell_type": "code",
      "source": [
        "print(mylist[3:8])"
      ],
      "metadata": {
        "colab": {
          "base_uri": "https://localhost:8080/"
        },
        "id": "2WFl-wIwnMSX",
        "outputId": "cec0bfaa-4533-4829-e917-972cd3317e78"
      },
      "execution_count": null,
      "outputs": [
        {
          "output_type": "stream",
          "name": "stdout",
          "text": [
            "['a', 5, 'Aditya', 100, 'bye']\n"
          ]
        }
      ]
    },
    {
      "cell_type": "code",
      "source": [
        "print(mylist[-8:])"
      ],
      "metadata": {
        "colab": {
          "base_uri": "https://localhost:8080/"
        },
        "id": "hEZw7isDnk2X",
        "outputId": "dd6fe830-2b97-4651-c292-ebe679aec038"
      },
      "execution_count": null,
      "outputs": [
        {
          "output_type": "stream",
          "name": "stdout",
          "text": [
            "[11, 12, 13, 100, 'lion', 100, 'bye', 7.23]\n"
          ]
        }
      ]
    },
    {
      "cell_type": "code",
      "source": [
        "print(mylist[-1:])"
      ],
      "metadata": {
        "colab": {
          "base_uri": "https://localhost:8080/"
        },
        "id": "EoYdOz7TnC7X",
        "outputId": "f56c3949-3a72-4ea5-8e35-90e0131226da"
      },
      "execution_count": null,
      "outputs": [
        {
          "output_type": "stream",
          "name": "stdout",
          "text": [
            "[7.23]\n"
          ]
        }
      ]
    },
    {
      "cell_type": "code",
      "source": [
        "print(mylist[len(mylist)//2])"
      ],
      "metadata": {
        "colab": {
          "base_uri": "https://localhost:8080/"
        },
        "id": "kBtpJuc8oWzf",
        "outputId": "0653ccc1-dbe2-4840-e6f0-93cb4fed0229"
      },
      "execution_count": null,
      "outputs": [
        {
          "output_type": "stream",
          "name": "stdout",
          "text": [
            "7.23\n"
          ]
        }
      ]
    },
    {
      "cell_type": "code",
      "source": [
        "newlist=(1,\"new\",'b',80)\n",
        "print(newlist)\n"
      ],
      "metadata": {
        "colab": {
          "base_uri": "https://localhost:8080/"
        },
        "id": "J_kGTMCkpE52",
        "outputId": "732ae63c-ac9c-4878-8550-8d3a76c4947e"
      },
      "execution_count": null,
      "outputs": [
        {
          "output_type": "stream",
          "name": "stdout",
          "text": [
            "(1, 'new', 'b', 80)\n"
          ]
        }
      ]
    },
    {
      "cell_type": "code",
      "source": [
        "newlist.index(80)"
      ],
      "metadata": {
        "colab": {
          "base_uri": "https://localhost:8080/"
        },
        "id": "WIT0JrYipk8u",
        "outputId": "265ed79b-3238-4685-97a8-256a01d8ade5"
      },
      "execution_count": null,
      "outputs": [
        {
          "output_type": "execute_result",
          "data": {
            "text/plain": [
              "3"
            ]
          },
          "metadata": {},
          "execution_count": 46
        }
      ]
    },
    {
      "cell_type": "code",
      "source": [
        "conclist=(24,\"myworld\",66)\n",
        "z=newlist+conclist\n",
        "print(z)"
      ],
      "metadata": {
        "colab": {
          "base_uri": "https://localhost:8080/"
        },
        "id": "wKE6ix3qp32m",
        "outputId": "c6d1fd43-fe55-4a72-ab23-17fa2747f315"
      },
      "execution_count": null,
      "outputs": [
        {
          "output_type": "stream",
          "name": "stdout",
          "text": [
            "(1, 'new', 'b', 80, 24, 'myworld', 66)\n"
          ]
        }
      ]
    },
    {
      "cell_type": "code",
      "source": [
        "print(z[2])"
      ],
      "metadata": {
        "colab": {
          "base_uri": "https://localhost:8080/"
        },
        "id": "OMAVScYXqJUe",
        "outputId": "107230fc-4ab6-4e85-b5c7-d03dbcc09cf4"
      },
      "execution_count": null,
      "outputs": [
        {
          "output_type": "stream",
          "name": "stdout",
          "text": [
            "b\n"
          ]
        }
      ]
    },
    {
      "cell_type": "code",
      "source": [
        "c=list(z)\n",
        "c[0]=55\n",
        "tuple(c)\n",
        "print(c)"
      ],
      "metadata": {
        "colab": {
          "base_uri": "https://localhost:8080/"
        },
        "id": "hA5NXlGaqSHl",
        "outputId": "5991b636-a428-40ec-9c1a-b3adb57569ac"
      },
      "execution_count": null,
      "outputs": [
        {
          "output_type": "stream",
          "name": "stdout",
          "text": [
            "[55, 'new', 'b', 80, 24, 'myworld', 66]\n"
          ]
        }
      ]
    },
    {
      "cell_type": "code",
      "source": [
        "thisdict = {\n",
        "  \"brand\": \"Ford\",\n",
        "  \"model\": \"Mustang\",\n",
        "  \"year\": 1964\n",
        "}\n",
        "print(thisdict)"
      ],
      "metadata": {
        "id": "NWxKm0LZq6JN",
        "colab": {
          "base_uri": "https://localhost:8080/"
        },
        "outputId": "887d6fd8-5d29-4c8d-9220-41bc28dcbe98"
      },
      "execution_count": null,
      "outputs": [
        {
          "output_type": "stream",
          "name": "stdout",
          "text": [
            "{'brand': 'Ford', 'model': 'Mustang', 'year': 1964}\n"
          ]
        }
      ]
    },
    {
      "cell_type": "code",
      "source": [
        "people = {1: {'name': 'John', 'age': '27', 'gender': 'Male'},\n",
        "          2: {'name': 'Marie', 'age': '22', 'gender': 'Female'}}\n",
        "\n",
        "print(people)\n"
      ],
      "metadata": {
        "colab": {
          "base_uri": "https://localhost:8080/"
        },
        "id": "WkDJG_nBrd-n",
        "outputId": "3251a88a-a09f-4f69-a81a-5f8ffe5a9234"
      },
      "execution_count": null,
      "outputs": [
        {
          "output_type": "stream",
          "name": "stdout",
          "text": [
            "{1: {'name': 'John', 'age': '27', 'gender': 'Male'}, 2: {'name': 'Marie', 'age': '22', 'gender': 'Female'}}\n",
            "{'name': 'John', 'age': '27', 'gender': 'Male'}\n"
          ]
        }
      ]
    },
    {
      "cell_type": "code",
      "source": [],
      "metadata": {
        "colab": {
          "base_uri": "https://localhost:8080/",
          "height": 165
        },
        "id": "st-39-irsNvW",
        "outputId": "cd3cd7bd-11c0-4ebf-ec97-5683efc8b77a"
      },
      "execution_count": null,
      "outputs": [
        {
          "output_type": "error",
          "ename": "NameError",
          "evalue": "ignored",
          "traceback": [
            "\u001b[0;31m---------------------------------------------------------------------------\u001b[0m",
            "\u001b[0;31mNameError\u001b[0m                                 Traceback (most recent call last)",
            "\u001b[0;32m<ipython-input-10-4f764fc4ec6f>\u001b[0m in \u001b[0;36m<module>\u001b[0;34m\u001b[0m\n\u001b[0;32m----> 1\u001b[0;31m \u001b[0mprint\u001b[0m\u001b[0;34m(\u001b[0m\u001b[0mpeople\u001b[0m\u001b[0;34m[\u001b[0m\u001b[0;36m1\u001b[0m\u001b[0;34m]\u001b[0m\u001b[0;34m)\u001b[0m\u001b[0;34m\u001b[0m\u001b[0;34m\u001b[0m\u001b[0m\n\u001b[0m",
            "\u001b[0;31mNameError\u001b[0m: name 'people' is not defined"
          ]
        }
      ]
    },
    {
      "cell_type": "code",
      "source": [
        "brother=12\n",
        "sister=15\n",
        "if brother>sister:\n",
        "  print(\"brother is older\")\n",
        "else: print(\"sister is older\")"
      ],
      "metadata": {
        "colab": {
          "base_uri": "https://localhost:8080/"
        },
        "id": "AnOuSpa6sYk1",
        "outputId": "b65185e7-b99b-4b24-d64c-5bf4ad95a9d1"
      },
      "execution_count": null,
      "outputs": [
        {
          "output_type": "stream",
          "name": "stdout",
          "text": [
            "sister is older\n"
          ]
        }
      ]
    },
    {
      "cell_type": "code",
      "source": [
        "brother=int (input(\"brother Age: \"))\n",
        "sister=int (input(\"sister Age: \"))\n",
        "if brother>sister:\n",
        "  print(\"brother is older\")\n",
        "else: print(\"sister is older\")"
      ],
      "metadata": {
        "colab": {
          "base_uri": "https://localhost:8080/"
        },
        "id": "uFK1AdBds4nY",
        "outputId": "dd44c43e-72c7-41ac-fd8e-839d205714ec"
      },
      "execution_count": null,
      "outputs": [
        {
          "output_type": "stream",
          "name": "stdout",
          "text": [
            "brother Age: 15\n",
            "sister Age: 12\n",
            "brother is older\n"
          ]
        }
      ]
    },
    {
      "cell_type": "code",
      "source": [
        "for q in mylist:\n",
        "  print(q)"
      ],
      "metadata": {
        "colab": {
          "base_uri": "https://localhost:8080/"
        },
        "id": "kefGkrx9tI9o",
        "outputId": "312b5dc9-7f9e-465f-9936-d8dd4c13d9e9"
      },
      "execution_count": null,
      "outputs": [
        {
          "output_type": "stream",
          "name": "stdout",
          "text": [
            "2003\n",
            "3.5\n",
            "hello\n",
            "a\n",
            "5\n",
            "Aditya\n",
            "100\n",
            "bye\n",
            "7.23\n",
            "11\n",
            "12\n",
            "13\n",
            "100\n",
            "lion\n",
            "100\n",
            "bye\n",
            "7.23\n"
          ]
        }
      ]
    },
    {
      "cell_type": "code",
      "source": [
        "for i,j in enumerate(mylist):\n",
        "  print(i,j)"
      ],
      "metadata": {
        "colab": {
          "base_uri": "https://localhost:8080/"
        },
        "id": "ezy1YZ6GtYaC",
        "outputId": "960706b0-8c28-4877-bf52-b637bb5caf8d"
      },
      "execution_count": null,
      "outputs": [
        {
          "output_type": "stream",
          "name": "stdout",
          "text": [
            "0 2003\n",
            "1 3.5\n",
            "2 hello\n",
            "3 a\n",
            "4 5\n",
            "5 Aditya\n",
            "6 100\n",
            "7 bye\n",
            "8 7.23\n",
            "9 11\n",
            "10 12\n",
            "11 13\n",
            "12 100\n",
            "13 lion\n",
            "14 100\n",
            "15 bye\n",
            "16 7.23\n"
          ]
        }
      ]
    },
    {
      "cell_type": "code",
      "source": [
        "def my_function():\n",
        "  print(\"Hello from a function\")\n",
        "\n",
        "my_function()\n"
      ],
      "metadata": {
        "colab": {
          "base_uri": "https://localhost:8080/"
        },
        "id": "3QdE7BhfuzFw",
        "outputId": "73b7434c-ab26-4b40-f1cd-6dfd8ece300f"
      },
      "execution_count": null,
      "outputs": [
        {
          "output_type": "stream",
          "name": "stdout",
          "text": [
            "Hello from a function\n"
          ]
        }
      ]
    },
    {
      "cell_type": "code",
      "source": [
        "def new():\n",
        "  a=int(input(\"enter number: \"))\n",
        "  b=int(input(\"enter number: \"))\n",
        "  c=a+b\n",
        "  print(c)\n",
        "\n",
        "new()"
      ],
      "metadata": {
        "colab": {
          "base_uri": "https://localhost:8080/"
        },
        "id": "Se5rBAtYu67_",
        "outputId": "e63d9efc-178c-4865-de94-a3fbbca7e9f7"
      },
      "execution_count": null,
      "outputs": [
        {
          "output_type": "stream",
          "name": "stdout",
          "text": [
            "enter number: 3\n",
            "enter number: 2\n",
            "5\n"
          ]
        }
      ]
    },
    {
      "cell_type": "code",
      "source": [
        "def new():\n",
        "  a=input(\"enter string: \")\n",
        "  b=input(\"enter string: \")\n",
        "  c=a+b\n",
        "  print(c)\n",
        "\n",
        "new()"
      ],
      "metadata": {
        "colab": {
          "base_uri": "https://localhost:8080/"
        },
        "id": "jnlbvhaavUkO",
        "outputId": "7367753d-dfa1-4652-eb58-5fbfafbf21e0"
      },
      "execution_count": null,
      "outputs": [
        {
          "output_type": "stream",
          "name": "stdout",
          "text": [
            "enter string: aditya\n",
            "enter string: ryaka\n",
            "adityaryaka\n"
          ]
        }
      ]
    },
    {
      "cell_type": "code",
      "source": [
        "thisset = {\"apple\", \"banana\", \"cherry\"}\n",
        "print(thisset)"
      ],
      "metadata": {
        "colab": {
          "base_uri": "https://localhost:8080/"
        },
        "id": "4RmfmNiRvjX3",
        "outputId": "2dbbf30a-8a31-4c2f-d5e2-7c00b8a47c89"
      },
      "execution_count": null,
      "outputs": [
        {
          "output_type": "stream",
          "name": "stdout",
          "text": [
            "{'apple', 'cherry', 'banana'}\n"
          ]
        }
      ]
    },
    {
      "cell_type": "code",
      "source": [
        "print(len(thisset))"
      ],
      "metadata": {
        "colab": {
          "base_uri": "https://localhost:8080/"
        },
        "id": "u0KM2wjCvwzg",
        "outputId": "c41e25d0-23f1-4b07-c3b3-01e7a4e204a5"
      },
      "execution_count": null,
      "outputs": [
        {
          "output_type": "stream",
          "name": "stdout",
          "text": [
            "3\n"
          ]
        }
      ]
    },
    {
      "cell_type": "code",
      "source": [
        "a = {1, 2, 3, 4, 5, 6}\n",
        "print(type(a))"
      ],
      "metadata": {
        "colab": {
          "base_uri": "https://localhost:8080/"
        },
        "id": "ufO8Q5vKv2FQ",
        "outputId": "9ce1c490-9e11-4741-a441-b1ebd03d7899"
      },
      "execution_count": null,
      "outputs": [
        {
          "output_type": "stream",
          "name": "stdout",
          "text": [
            "<class 'set'>\n"
          ]
        }
      ]
    },
    {
      "cell_type": "code",
      "source": [],
      "metadata": {
        "id": "mJbQLyBTwN7n"
      },
      "execution_count": null,
      "outputs": []
    },
    {
      "cell_type": "code",
      "source": [
        "thisset = {\"apple\", \"banana\", \"cherry\"}\n",
        "thisset.add('mango')\n",
        "print(thisset)"
      ],
      "metadata": {
        "colab": {
          "base_uri": "https://localhost:8080/"
        },
        "id": "7wRjRKv9jY1y",
        "outputId": "1ae183cc-2d57-4656-92b2-f9de10587544"
      },
      "execution_count": null,
      "outputs": [
        {
          "output_type": "stream",
          "name": "stdout",
          "text": [
            "{'mango', 'cherry', 'apple', 'banana'}\n"
          ]
        }
      ]
    },
    {
      "cell_type": "code",
      "source": [
        "thisset.add(\"MANGo\")\n",
        "print(thisset)"
      ],
      "metadata": {
        "colab": {
          "base_uri": "https://localhost:8080/"
        },
        "id": "3z9GNfRYwbmf",
        "outputId": "cb8b92af-bfa4-419e-b86c-c60cd09d24f8"
      },
      "execution_count": null,
      "outputs": [
        {
          "output_type": "stream",
          "name": "stdout",
          "text": [
            "{'apple', 'cherry', 'banana', 'MANGo', 'mango'}\n"
          ]
        }
      ]
    },
    {
      "cell_type": "markdown",
      "source": [
        "# Experiment-2"
      ],
      "metadata": {
        "id": "HpCBir3Ixur0"
      }
    },
    {
      "cell_type": "code",
      "source": [
        "import statistics\n",
        "import pandas as pd\n",
        "import numpy as np\n",
        "from scipy import stats\n"
      ],
      "metadata": {
        "id": "FZeM-JbOhOTb"
      },
      "execution_count": null,
      "outputs": []
    },
    {
      "cell_type": "code",
      "source": [
        "lst=[20, 2, 7, 1, 34]\n",
        "sum=0\n",
        "for i in lst:\n",
        "  sum+=i\n",
        "total=len(lst)\n",
        "print(sum/total)"
      ],
      "metadata": {
        "colab": {
          "base_uri": "https://localhost:8080/"
        },
        "id": "N5RS-TCXxyx2",
        "outputId": "7278159a-216a-4acf-c7a5-ebc71460bf53"
      },
      "execution_count": null,
      "outputs": [
        {
          "output_type": "stream",
          "name": "stdout",
          "text": [
            "12.8\n"
          ]
        }
      ]
    },
    {
      "cell_type": "code",
      "source": [
        "multi=[[14, 17, 12, 33, 44],[ 15, 6, 27, 8, 19],[ 23, 2, 54 ,1 ,4]]\n",
        "\n",
        "df=pd.DataFrame(multi)\n",
        "print(df)\n",
        "column=df.mean(axis=0)\n",
        "row=df.mean(axis=1)\n",
        "print(\"column:\\n\",column)\n",
        "print(\"rows:\\n\",row)\n",
        "print(np.mean(multi))"
      ],
      "metadata": {
        "colab": {
          "base_uri": "https://localhost:8080/"
        },
        "id": "4H6wNQ9vll4k",
        "outputId": "203a8c8e-af24-4c3d-e404-4fcde0053e01"
      },
      "execution_count": null,
      "outputs": [
        {
          "output_type": "stream",
          "name": "stdout",
          "text": [
            "    0   1   2   3   4\n",
            "0  14  17  12  33  44\n",
            "1  15   6  27   8  19\n",
            "2  23   2  54   1   4\n",
            "column:\n",
            " 0    17.333333\n",
            "1     8.333333\n",
            "2    31.000000\n",
            "3    14.000000\n",
            "4    22.333333\n",
            "dtype: float64\n",
            "rows:\n",
            " 0    24.0\n",
            "1    15.0\n",
            "2    16.8\n",
            "dtype: float64\n",
            "18.6\n"
          ]
        }
      ]
    },
    {
      "cell_type": "code",
      "source": [
        "lst=[[3,7,5],[8,4,3],[2,4,9]]\n",
        "array=np.array(lst)\n",
        "columnmax=np.max(lst,axis=0)\n",
        "columnmin=np.min(lst,axis=0)\n",
        "print(columnmax,columnmin)\n",
        "rowmax=np.max(lst,axis=1)\n",
        "rowmin=np.min(lst,axis=1)\n",
        "print(rowmax,rowmin)\n",
        "totalmax=np.max(array)\n",
        "totalmin=np.min(array)\n",
        "print(totalmax,totalmin)\n",
        "print(np.ptp(array,axis=0),np.ptp(array,axis=1),np.ptp(array))"
      ],
      "metadata": {
        "colab": {
          "base_uri": "https://localhost:8080/"
        },
        "id": "u1ZAa6yxo5is",
        "outputId": "a88599d1-8751-4007-9849-1e10918bea43"
      },
      "execution_count": null,
      "outputs": [
        {
          "output_type": "stream",
          "name": "stdout",
          "text": [
            "[8 7 9] [2 4 3]\n",
            "[7 8 9] [3 3 2]\n",
            "9 2\n",
            "[6 3 6] [4 5 7] 7\n"
          ]
        }
      ]
    },
    {
      "cell_type": "code",
      "source": [
        "outcome=[1,2,3,4]\n",
        "frequency=[4,3,2,1]\n",
        "data=[]\n",
        "for i in range(len(frequency)):\n",
        "\n",
        "  a=(outcome[i])*(frequency[i])\n",
        "  data.append(a)\n",
        "print(data)\n",
        "print(statistics.mean(data))"
      ],
      "metadata": {
        "colab": {
          "base_uri": "https://localhost:8080/"
        },
        "id": "kdG859uMsMp4",
        "outputId": "cb037bd2-2fe7-452e-fb9d-9235db7896ff"
      },
      "execution_count": null,
      "outputs": [
        {
          "output_type": "stream",
          "name": "stdout",
          "text": [
            "[4, 6, 6, 4]\n",
            "5\n"
          ]
        }
      ]
    },
    {
      "cell_type": "code",
      "source": [
        "speeds=[99,86,87,88,111,86,103,87,94,78,77,85,86]\n",
        "x=np.mean(speeds)\n",
        "y=np.median(speeds)\n",
        "z=stats.mode(speeds)\n",
        "print(x,y)\n",
        "print(z)\n"
      ],
      "metadata": {
        "colab": {
          "base_uri": "https://localhost:8080/"
        },
        "id": "SrqhOlIivy8I",
        "outputId": "a199fb9a-274c-41c9-d9da-074757f4f4fe"
      },
      "execution_count": null,
      "outputs": [
        {
          "output_type": "stream",
          "name": "stdout",
          "text": [
            "89.76923076923077 87.0\n",
            "ModeResult(mode=array([86]), count=array([3]))\n"
          ]
        }
      ]
    },
    {
      "cell_type": "code",
      "source": [
        "import numpy as np\n",
        "\n",
        "\n",
        "def g_mean(x):\n",
        "    a = np.log(x)\n",
        "    return np.exp(a.mean())\n",
        "\n",
        "\n",
        "g_mean([1,3,27])\n",
        "g_mean([3,4,6])\n",
        "g_mean([7,6,3])\n",
        "g_mean([3,6,8])\n",
        "\n",
        "\n"
      ],
      "metadata": {
        "colab": {
          "base_uri": "https://localhost:8080/"
        },
        "id": "K9KrhmZhxA6W",
        "outputId": "9f70532d-5337-48fc-d084-9a4db1032d92"
      },
      "execution_count": null,
      "outputs": [
        {
          "output_type": "execute_result",
          "data": {
            "text/plain": [
              "5.241482788417792"
            ]
          },
          "metadata": {},
          "execution_count": 47
        }
      ]
    },
    {
      "cell_type": "code",
      "source": [
        "import statistics\n",
        "\n",
        "# list of positive real valued numbers\n",
        "data = [1, 3, 5, 7, 9]\n",
        "print(\"Harmonic Mean is % s \" % (statistics.harmonic_mean(data)))"
      ],
      "metadata": {
        "colab": {
          "base_uri": "https://localhost:8080/"
        },
        "id": "Nb8zDtAgzSw1",
        "outputId": "e348a780-ab3d-4c53-e72c-56e47e5e6ca2"
      },
      "execution_count": null,
      "outputs": [
        {
          "output_type": "stream",
          "name": "stdout",
          "text": [
            "Harmonic Mean is 2.797513321492007 \n"
          ]
        }
      ]
    },
    {
      "cell_type": "code",
      "source": [
        "import numpy as np\n",
        "\n",
        "data = [32, 36, 46, 47, 56, 69, 75, 79, 79, 88, 89, 91, 92, 93, 96, 97,\n",
        "        101, 105, 112, 116]\n",
        "\n",
        "Q1 = np.median(data[:10])\n",
        "\n",
        "\n",
        "Q3 = np.median(data[10:])\n",
        "\n",
        "\n",
        "IQR = Q3 - Q1\n",
        "\n",
        "print(IQR)"
      ],
      "metadata": {
        "colab": {
          "base_uri": "https://localhost:8080/"
        },
        "id": "eyvZ3f6-zv7e",
        "outputId": "25bf6a86-67f8-4903-9446-bf4e16080f4f"
      },
      "execution_count": null,
      "outputs": [
        {
          "output_type": "stream",
          "name": "stdout",
          "text": [
            "34.0\n"
          ]
        }
      ]
    },
    {
      "cell_type": "markdown",
      "source": [
        "# Experiment-5"
      ],
      "metadata": {
        "id": "JchN3xH6ukn4"
      }
    },
    {
      "cell_type": "code",
      "source": [
        "import random\n",
        "\n",
        "# Generate a random integer between 0 and 100 (inclusive)\n",
        "random_number = random.randint(0, 100)\n",
        "\n",
        "# Print the random number\n",
        "print(random_number)\n",
        "\n"
      ],
      "metadata": {
        "colab": {
          "base_uri": "https://localhost:8080/"
        },
        "id": "dfzEdXX2upkO",
        "outputId": "db9246c2-941a-47c9-b6fd-a043703c6f9d"
      },
      "execution_count": null,
      "outputs": [
        {
          "output_type": "stream",
          "name": "stdout",
          "text": [
            "91\n"
          ]
        }
      ]
    },
    {
      "cell_type": "code",
      "source": [
        "import random\n",
        "\n",
        "# Generate a random floating-point number between 0 and 100\n",
        "random_number = random.uniform(0, 100)\n",
        "\n",
        "# Print the random number\n",
        "print(random_number)\n"
      ],
      "metadata": {
        "colab": {
          "base_uri": "https://localhost:8080/"
        },
        "id": "9C5r97BDwIp9",
        "outputId": "e7558a26-e9b0-4bda-96e7-0cf4b167e6d5"
      },
      "execution_count": null,
      "outputs": [
        {
          "output_type": "stream",
          "name": "stdout",
          "text": [
            "88.08534474760255\n"
          ]
        }
      ]
    },
    {
      "cell_type": "code",
      "source": [
        "import random\n",
        "\n",
        "population = []\n",
        "\n",
        "# Generate 1000 random integers in the range 0 to 100\n",
        "for i in range(1000):\n",
        "    random_number = random.randint(0, 100)\n",
        "    population.append(random_number)\n",
        "print(population)"
      ],
      "metadata": {
        "colab": {
          "base_uri": "https://localhost:8080/"
        },
        "id": "xKa3BsxCwPeN",
        "outputId": "6dc65830-add4-4e2a-a58e-49efb4c50acd"
      },
      "execution_count": null,
      "outputs": [
        {
          "output_type": "stream",
          "name": "stdout",
          "text": [
            "[19, 97, 53, 92, 1, 86, 68, 78, 26, 26, 32, 87, 33, 95, 60, 25, 70, 44, 29, 85, 84, 63, 40, 94, 1, 72, 69, 15, 92, 2, 32, 57, 79, 79, 32, 66, 89, 45, 60, 41, 5, 41, 37, 9, 10, 54, 90, 95, 68, 68, 20, 21, 43, 69, 24, 55, 75, 24, 57, 60, 61, 77, 98, 11, 54, 67, 78, 40, 60, 76, 81, 41, 70, 8, 19, 77, 20, 86, 30, 97, 89, 15, 84, 77, 64, 68, 81, 90, 94, 95, 100, 1, 33, 80, 51, 4, 0, 66, 57, 31, 47, 92, 73, 79, 28, 39, 16, 45, 17, 69, 43, 95, 47, 10, 27, 91, 61, 30, 93, 66, 62, 24, 43, 1, 89, 4, 59, 40, 56, 50, 27, 33, 41, 36, 28, 62, 37, 97, 68, 74, 65, 65, 26, 40, 47, 16, 18, 61, 100, 75, 72, 73, 25, 52, 72, 37, 7, 35, 93, 5, 36, 42, 88, 14, 69, 25, 46, 40, 92, 50, 71, 56, 45, 9, 75, 74, 66, 28, 76, 15, 33, 29, 21, 71, 56, 44, 9, 53, 13, 48, 80, 93, 43, 46, 98, 27, 12, 49, 96, 52, 100, 26, 44, 66, 43, 85, 85, 32, 84, 54, 33, 90, 71, 96, 17, 81, 0, 92, 52, 2, 98, 14, 70, 28, 38, 13, 13, 73, 1, 55, 96, 39, 58, 93, 88, 27, 82, 81, 61, 0, 1, 59, 90, 86, 35, 16, 11, 92, 52, 13, 0, 65, 8, 46, 48, 6, 84, 100, 78, 5, 16, 67, 69, 22, 59, 96, 27, 50, 1, 68, 80, 92, 15, 71, 99, 92, 80, 35, 96, 41, 85, 62, 47, 56, 10, 9, 70, 79, 98, 43, 38, 28, 40, 95, 100, 63, 4, 2, 33, 77, 13, 22, 39, 45, 43, 87, 47, 69, 3, 87, 52, 18, 84, 2, 40, 33, 51, 63, 6, 22, 50, 31, 56, 72, 94, 61, 41, 71, 95, 89, 85, 8, 89, 52, 66, 11, 65, 91, 35, 16, 63, 33, 43, 23, 51, 31, 34, 37, 78, 61, 70, 91, 51, 25, 84, 40, 51, 53, 45, 43, 59, 89, 32, 96, 20, 54, 69, 100, 35, 4, 81, 89, 97, 12, 68, 79, 93, 81, 98, 90, 78, 90, 38, 11, 99, 84, 47, 43, 15, 31, 61, 48, 91, 31, 1, 39, 14, 96, 69, 54, 48, 68, 64, 67, 55, 97, 84, 71, 83, 77, 43, 52, 39, 22, 46, 77, 15, 16, 3, 5, 74, 31, 44, 93, 86, 53, 12, 39, 10, 75, 28, 41, 33, 30, 56, 26, 16, 66, 93, 97, 7, 55, 4, 17, 50, 39, 43, 21, 22, 30, 4, 65, 78, 86, 88, 12, 52, 13, 7, 8, 52, 60, 94, 79, 67, 66, 88, 5, 100, 33, 29, 92, 89, 47, 1, 11, 95, 53, 53, 70, 24, 56, 54, 47, 69, 83, 56, 34, 94, 60, 85, 46, 49, 87, 72, 44, 89, 29, 32, 35, 90, 85, 76, 4, 93, 90, 82, 61, 25, 11, 31, 25, 98, 8, 33, 48, 1, 42, 24, 36, 1, 100, 63, 94, 72, 1, 21, 87, 12, 94, 45, 75, 57, 81, 45, 27, 93, 2, 9, 99, 35, 15, 68, 89, 41, 40, 77, 51, 29, 100, 99, 62, 3, 40, 33, 47, 36, 39, 92, 96, 73, 73, 3, 84, 54, 22, 27, 98, 89, 46, 26, 2, 97, 75, 71, 47, 41, 53, 0, 43, 65, 31, 91, 74, 39, 70, 61, 24, 14, 44, 50, 67, 46, 47, 61, 32, 76, 74, 23, 80, 2, 11, 45, 71, 20, 56, 75, 80, 56, 54, 27, 24, 33, 72, 30, 61, 53, 50, 72, 54, 96, 83, 85, 86, 44, 79, 23, 42, 90, 77, 22, 89, 91, 59, 86, 24, 52, 93, 3, 81, 93, 94, 17, 10, 13, 76, 32, 40, 65, 29, 9, 88, 69, 15, 79, 89, 13, 96, 75, 60, 16, 4, 44, 100, 42, 37, 89, 74, 20, 53, 0, 6, 64, 23, 8, 77, 2, 88, 8, 20, 70, 40, 47, 75, 76, 24, 69, 29, 96, 65, 68, 1, 87, 53, 51, 61, 100, 57, 12, 74, 74, 18, 64, 43, 58, 38, 46, 48, 25, 40, 35, 83, 10, 43, 85, 89, 39, 87, 98, 74, 41, 94, 6, 25, 34, 49, 3, 52, 52, 29, 13, 11, 100, 41, 43, 67, 25, 45, 47, 1, 32, 18, 12, 36, 46, 18, 30, 39, 72, 62, 35, 72, 47, 99, 77, 89, 34, 84, 51, 41, 0, 31, 55, 22, 46, 60, 29, 96, 28, 89, 40, 23, 19, 55, 64, 75, 90, 47, 29, 16, 21, 59, 38, 33, 2, 91, 12, 37, 55, 92, 5, 20, 14, 30, 13, 100, 55, 55, 92, 3, 77, 84, 69, 52, 5, 77, 73, 70, 72, 15, 83, 59, 64, 68, 62, 98, 45, 81, 46, 93, 100, 48, 45, 9, 56, 36, 49, 6, 98, 65, 0, 80, 5, 55, 89, 62, 61, 47, 60, 62, 31, 15, 91, 54, 85, 81, 34, 74, 85, 59, 10, 74, 75, 58, 46, 45, 24, 64, 61, 33, 18, 2, 24, 1, 73, 97, 81, 11, 29, 34, 25, 52, 68, 71, 68, 50, 97, 40, 42, 30, 18, 39, 1, 60, 30, 38, 43, 100, 77, 39, 14, 52, 37, 76, 69, 23, 54, 10, 82, 23, 91, 11, 50, 15, 39, 53, 19, 58, 19, 36, 35, 72, 33, 6, 100, 49, 22, 78, 6, 0, 63, 43, 86, 57, 15, 17, 18, 16, 51, 34, 87, 18, 49, 66, 97, 30, 17, 21, 10, 26, 0, 13, 85, 23, 95, 33, 78, 87, 27, 15, 60, 88, 78, 29, 83, 62, 85, 73, 41, 55, 18, 93, 55, 69, 84, 1, 9, 58, 87, 10, 59, 13, 98, 30, 9, 6, 21, 60, 65, 79, 4, 62, 54, 98, 53, 50, 63, 25, 49, 63, 54, 49, 15, 85, 55, 79, 84, 62, 31, 93]\n"
          ]
        }
      ]
    },
    {
      "cell_type": "code",
      "source": [
        "import matplotlib.pyplot as plt\n",
        "\n",
        "# Create a histogram of the population list\n",
        "plt.hist(population, bins=10, range=(0, 100),edgecolor='black')\n",
        "\n",
        "# Set the title and labels for the histogram\n",
        "plt.title(\"Histogram of Population\")\n",
        "plt.xlabel(\"Value\")\n",
        "plt.ylabel(\"Frequency\")\n",
        "\n",
        "# Show the histogram\n",
        "plt.show()\n"
      ],
      "metadata": {
        "colab": {
          "base_uri": "https://localhost:8080/",
          "height": 295
        },
        "id": "hCMUi1tnwwnu",
        "outputId": "7e5b6540-c6bf-40d2-80e2-746f668a0e39"
      },
      "execution_count": null,
      "outputs": [
        {
          "output_type": "display_data",
          "data": {
            "text/plain": [
              "<Figure size 432x288 with 1 Axes>"
            ],
            "image/png": "[encoded data removed]"
          },
          "metadata": {
            "needs_background": "light"
          }
        }
      ]
    },
    {
      "cell_type": "code",
      "source": [
        "import statistics\n",
        "\n",
        "# Calculate the mean of the population list\n",
        "mean = statistics.mean(population)\n",
        "\n",
        "# Calculate the variance of the population list\n",
        "variance = statistics.variance(population)\n",
        "\n",
        "# Print the mean and variance\n",
        "print(\"Mean: \", mean)\n",
        "print(\"Variance: \", variance)\n"
      ],
      "metadata": {
        "colab": {
          "base_uri": "https://localhost:8080/"
        },
        "id": "a6gSx6N8xrOc",
        "outputId": "8326a49b-0ea5-4221-ee48-31761fc9db90"
      },
      "execution_count": null,
      "outputs": [
        {
          "output_type": "stream",
          "name": "stdout",
          "text": [
            "Mean:  51.277\n",
            "Variance:  836.3065775775776\n"
          ]
        }
      ]
    },
    {
      "cell_type": "code",
      "source": [
        "import random\n",
        "\n",
        "# Draw a random sample of size 10 from the population\n",
        "sample = random.sample(population, k=10)\n",
        "\n",
        "# Print the sample\n",
        "print(sample)\n",
        "\n"
      ],
      "metadata": {
        "colab": {
          "base_uri": "https://localhost:8080/"
        },
        "id": "mOOol5c9xtuV",
        "outputId": "14a49fb9-e988-4f10-f645-12bfb7aec027"
      },
      "execution_count": null,
      "outputs": [
        {
          "output_type": "stream",
          "name": "stdout",
          "text": [
            "[89, 62, 11, 10, 2, 2, 70, 70, 18, 30]\n"
          ]
        }
      ]
    },
    {
      "cell_type": "code",
      "source": [
        "import random\n",
        "import matplotlib.pyplot as plt\n",
        "\n",
        "# Create a list to store the sample means\n",
        "sample_means = []\n",
        "\n",
        "# Draw 20 samples of size 20 from the population, and calculate the mean of each sample\n",
        "for i in range(20):\n",
        "    sample = random.sample(population, k=20)\n",
        "    sample_mean = sum(sample) / len(sample)\n",
        "    sample_means.append(sample_mean)\n",
        "\n",
        "# Plot the distribution of sample means using a histogram\n",
        "plt.hist(sample_means, bins=10, range=(0, 100))\n",
        "\n",
        "# Set the title and labels for the histogram\n",
        "plt.title(\"Distribution of Sample Means\")\n",
        "plt.xlabel(\"Sample Mean\")\n",
        "plt.ylabel(\"Frequency\")\n",
        "\n",
        "# Show the histogram\n",
        "plt.show()\n"
      ],
      "metadata": {
        "colab": {
          "base_uri": "https://localhost:8080/",
          "height": 295
        },
        "id": "cHTfOmiIy3tm",
        "outputId": "1415b651-d88e-475c-f417-5b97fef2bc0d"
      },
      "execution_count": null,
      "outputs": [
        {
          "output_type": "display_data",
          "data": {
            "text/plain": [
              "<Figure size 432x288 with 1 Axes>"
            ],
            "image/png": "[encoded data removed]"
          },
          "metadata": {
            "needs_background": "light"
          }
        }
      ]
    },
    {
      "cell_type": "code",
      "source": [
        "import matplotlib.pyplot as plt\n",
        "\n",
        "# Create a histogram of the sample means\n",
        "plt.hist(sample_means, bins=10, range=(0, 100))\n",
        "\n",
        "# Set the title and labels for the histogram\n",
        "plt.title(\"Histogram of Sample Means\")\n",
        "plt.xlabel(\"Sample Mean\")\n",
        "plt.ylabel(\"Frequency\")\n",
        "\n",
        "# Show the histogram\n",
        "plt.show()\n"
      ],
      "metadata": {
        "colab": {
          "base_uri": "https://localhost:8080/",
          "height": 295
        },
        "id": "R9JlEDzW0zsN",
        "outputId": "5fcb7ce7-0f80-4308-9255-d63441265b9a"
      },
      "execution_count": null,
      "outputs": [
        {
          "output_type": "display_data",
          "data": {
            "text/plain": [
              "<Figure size 432x288 with 1 Axes>"
            ],
            "image/png": "[encoded data removed]"
          },
          "metadata": {
            "needs_background": "light"
          }
        }
      ]
    },
    {
      "cell_type": "code",
      "source": [
        "import random\n",
        "\n",
        "# Create a list of 1000 random floating-point numbers in the range 0 to 100\n",
        "population = [random.uniform(0, 100) for i in range(1000)]\n",
        "\n",
        "# Print the population\n",
        "print(population)\n",
        "\n"
      ],
      "metadata": {
        "colab": {
          "base_uri": "https://localhost:8080/"
        },
        "id": "oiT6ggiI07tl",
        "outputId": "d14fe91c-cc9b-4a59-914a-dc6022b15168"
      },
      "execution_count": null,
      "outputs": [
        {
          "output_type": "stream",
          "name": "stdout",
          "text": [
            "[67.7635615318302, 79.11426780997141, 86.078490604225, 24.388416228079855, 44.57739220332536, 4.484519328737213, 82.11867510873154, 19.381299245400584, 62.9310693650564, 83.93895690562022, 98.01439506644039, 36.480745815802265, 99.3222954936069, 13.300798326156581, 83.29762653109279, 97.12383808737826, 43.41923007909807, 10.757224608391159, 82.37992854150694, 4.989218471924451, 81.84725721556006, 77.2795299027064, 69.40827080504627, 47.50490020254448, 77.80250800309841, 21.220816370962194, 9.658756459155416, 10.811636301598782, 98.03992895961368, 70.16392067060464, 55.48856523624348, 75.91795216054751, 68.40505532930457, 68.74788981490218, 4.340747590982086, 36.619026669484775, 13.81393524715946, 43.9566962669883, 36.839375530027795, 87.59864920909561, 1.870377387265909, 53.149779298036115, 97.77034899719695, 17.059113680049474, 22.9929896372705, 35.000214063852454, 37.67655478203042, 87.15635608144868, 33.67656822446463, 4.9550351768381296, 26.902506451917528, 59.06230205335532, 98.8878450439153, 86.29261427412466, 67.20215963700463, 67.1816530829005, 40.73784352709563, 3.204743183332015, 47.59533924722772, 4.7421208827685195, 48.881003607020126, 13.743111932683316, 34.857214502498465, 88.47011128767296, 80.04625370845314, 9.929857145456445, 6.2822602838195625, 72.44496763019852, 86.61439847538125, 74.22301268446498, 75.12614645889391, 69.75315879791397, 31.676407078520175, 19.67297109052234, 39.29872315345938, 77.20007590231994, 39.937148759473, 84.42098072260134, 84.97716846688135, 14.497771975843909, 22.988521842836896, 46.35303860737415, 63.43812669598605, 77.58519785913906, 23.464762085184265, 75.69542006346364, 43.41057834554274, 24.733857336924537, 67.60238985709981, 86.59681153050232, 58.44155288345364, 89.76811992821087, 19.671040386295257, 95.8407684723161, 50.794319969240156, 79.08040578634021, 87.04992941346077, 76.15047712535498, 94.95850050689295, 97.31810117182687, 43.62582182927374, 32.68899065184203, 95.59825330383828, 81.31859484596151, 28.057290348454643, 2.8894827476873663, 71.77018722786453, 77.07000165329431, 51.24417510042245, 21.552884724903933, 57.45130395514422, 69.7199138808281, 32.89283459079597, 7.344111326373781, 92.94106949766937, 13.231784108256694, 30.745431518385146, 66.23376987581469, 87.19144217073692, 41.473431420063775, 39.966156133460494, 90.29177777987883, 93.25233333544011, 47.63849223828763, 93.47883365831538, 33.770739963970996, 78.89250654027632, 94.84947992075162, 12.116275775850749, 93.08815340841652, 32.13646282049447, 50.395011467856655, 4.734858254055774, 18.648641901211114, 62.154067237902275, 69.24863951956756, 82.42176621018322, 55.03358112299856, 39.302265776029365, 61.66552411369261, 71.19159053320897, 74.99156039167852, 49.29452450856262, 74.68925828067941, 34.38515852731845, 32.22345317601613, 57.085567530776174, 22.747565522452696, 31.078874911166753, 51.77941155386666, 56.160269633442184, 74.46878894516435, 80.67296156701353, 6.592606952743052, 71.80696666751378, 3.004610492430282, 93.96493119362503, 75.33372813363586, 0.6687655192589625, 88.17515029972097, 69.69725564400851, 88.25276213453886, 70.86025260547656, 10.116459457174166, 60.9877975163068, 60.35683843992771, 86.37526321334921, 64.97258414370172, 58.30597002530836, 9.703505979799044, 51.935947155540816, 79.3499548359173, 64.92476723102827, 43.70315212823854, 24.198569192937637, 67.43633582329348, 36.53663782268516, 5.9339985296496645, 12.248137606952891, 77.68419292348969, 57.715278728882936, 61.26702998887651, 89.55183249784724, 51.526070814525724, 29.51722659925734, 65.38559215119429, 32.85855395767796, 37.49441995770961, 61.08620691450866, 16.760647464626853, 50.435978100452594, 56.99894400754202, 79.38256924167243, 6.712056281811607, 23.623902092956108, 67.48034554791731, 12.5444561125596, 58.013534453156524, 73.54693171001811, 55.88844682626244, 24.838243959318195, 76.95133454382031, 53.72274453165635, 5.989662866643752, 52.75206817798795, 93.16630314576378, 14.49892654967252, 45.21363753514762, 5.709341758852727, 3.189239949480438, 78.3559107060895, 38.61967223262502, 96.05814752830742, 82.98016892441933, 88.83853482534451, 75.88657115125706, 83.7384636545395, 92.18199727621776, 8.78720022785724, 46.40273398113126, 59.89416261383902, 82.77218421808294, 18.711352839044405, 78.38062733284107, 75.47536305814133, 27.82270134859186, 39.56198578961053, 18.307190356854985, 98.6806998638413, 29.176495307374072, 48.860911522002695, 98.29813878228792, 77.25778110673322, 66.55973243035585, 57.544616384906334, 20.343712395319823, 3.912648123746232, 46.54845294095868, 54.99312778151968, 33.24133385776423, 79.04042601156885, 39.38054716896262, 17.985599447079935, 64.95391745766376, 59.04518974088381, 29.74470330130824, 88.38708156183846, 78.92933677553683, 73.30169740364497, 2.9090158561890123, 20.95012062155047, 79.07969854834556, 7.593670881912673, 67.74920768253759, 93.0233505450262, 59.06231159292615, 46.95507156802341, 6.835320748897045, 62.759111857808826, 11.764051159821598, 58.141275557937576, 67.78380990732693, 74.25644112126585, 89.4592847690376, 35.24206928064895, 6.46701101096393, 72.64220382960927, 85.85742937118815, 84.8559062982544, 57.12118894594644, 74.73210339731362, 0.6058408784352931, 83.67315001375508, 30.39593426751408, 10.138779990738001, 41.98054376915679, 92.30111712300338, 50.54354088286227, 55.51604468176466, 45.728218213472886, 87.65182930932157, 79.80041394557362, 47.41553758105468, 45.27779503900524, 51.29645120717723, 5.830211714780587, 92.84111593283579, 17.649470386196754, 70.98333732532218, 44.15313766490944, 7.510674977109022, 54.898867827419416, 53.34081898565467, 90.17735998819175, 35.60329216286391, 10.369606676128484, 3.4289899598938134, 96.80541418930065, 53.66982638070622, 80.82241264317948, 29.087689251487035, 32.096518686993825, 33.95723559828411, 28.344780989481833, 81.28548465480651, 89.35085515043035, 91.71387285129197, 4.198742844807413, 13.901480338478612, 87.63257896654322, 63.300976579822766, 49.67360554172278, 71.81546569565533, 16.328702298638376, 82.23980077363456, 13.749663721430105, 8.145963543874402, 62.48151068121467, 33.17583052315369, 9.68389985832957, 64.14985956697116, 99.51426579069833, 38.956335137267075, 45.349357053011886, 94.094241218774, 8.703966109747341, 36.45270121974764, 66.87317536807397, 53.07704686820339, 29.291419197709835, 86.8196355793253, 0.7830668304702582, 86.45634525294722, 10.895130477525615, 52.90322956411339, 21.597728757836, 80.50467435962906, 28.39404278586628, 28.694236947311925, 41.49196547411951, 73.45932834266965, 38.42747328625836, 93.86057016502245, 52.69692001207095, 14.24764210860574, 28.306121678849692, 67.09539985194937, 79.19236181880345, 73.24107731612352, 98.09936207862536, 50.304737699601354, 14.465686673241684, 4.05259076665655, 34.17429607293927, 90.68669672298797, 98.90371265665003, 72.52640966941429, 98.7498280784179, 30.214799210596, 56.75876606257968, 36.94283115515608, 29.738424182874688, 15.633634121101691, 42.27150936611203, 59.80704288996864, 42.20872987675942, 48.05383297133942, 31.061457889848075, 0.8168919479563219, 10.495592850912704, 47.68244799530945, 92.21995078307079, 55.13934890893017, 28.18763949188272, 21.53136949637454, 77.03178225132639, 83.8750394335479, 68.87840374033111, 7.200366037137018, 96.0457666920828, 60.29390342103903, 99.10119413201501, 44.40138007939092, 31.436204648520373, 0.9870925164657485, 81.01259705049823, 72.22263958083896, 55.06620619116758, 31.650464753153386, 58.994480159610696, 40.88002403961883, 58.84162352887636, 60.920672899664055, 40.38197760161886, 36.1720812476225, 24.26327218186033, 84.57395664572215, 86.40017098240294, 69.50139948646171, 36.99638910587906, 98.6904061624471, 76.01463345641403, 7.45355504011348, 0.9864105484094332, 33.051445598606776, 12.032030929961346, 95.72401515354979, 92.90458165571552, 69.61464708621264, 87.87482879447685, 72.25836855578083, 8.959149158827017, 30.326071993255287, 78.11634251382335, 17.662804092131534, 50.70711313480204, 91.24715623424414, 58.196986843528364, 69.77923780466563, 56.40546668294607, 38.43707966998712, 25.860291894632205, 59.62756568270774, 78.1415817410601, 84.62702361624403, 43.66168816389072, 12.057445006342238, 24.09726845778707, 90.93031828512379, 25.808135955388234, 21.951664518049874, 69.98580954520469, 57.96583364935074, 89.13940370756998, 40.24846468341481, 14.804270406824616, 33.78082412259623, 3.958890314038954, 81.85079069949538, 82.31875251507178, 18.525515165691843, 14.029559455690176, 68.98118362213881, 88.36104223991592, 83.86074580377802, 12.60109074929524, 85.35767888840618, 20.381457386771864, 23.88052306827739, 51.88660540313224, 15.592351155152906, 19.815907740990724, 15.906044868101898, 79.16481841369635, 79.16975125116639, 67.9456506738576, 27.96829770323631, 17.528145898901414, 31.49103714958287, 31.47690734809331, 61.75043721760306, 54.16115141275577, 56.8734546965004, 4.910789373631563, 65.50626417641668, 21.72540049051187, 88.83584265477185, 92.74254076181616, 68.2630989683634, 1.6808668856493347, 85.2014630998827, 99.355804478995, 25.472928252727222, 92.47324626234558, 24.24894314872943, 91.9072276076889, 22.065149422269638, 19.821129738965183, 37.68708140307022, 34.34245843034975, 85.27663833218874, 86.44282653846882, 90.92977369083923, 78.50840606166936, 61.03983197187465, 66.07207172392974, 57.073216336899705, 28.35524375222993, 87.43792333660625, 49.310881281265885, 40.92885973146747, 62.62346566893305, 15.455345715743885, 32.866403905338714, 47.538038867649256, 74.58997892729158, 70.43385886351, 90.3156400941086, 64.15220804365906, 30.701709945276857, 88.39008589195852, 80.85254469369433, 32.624914414050174, 70.05698546713928, 10.130793404186733, 90.88616175747578, 21.3815068142985, 61.440476439794836, 7.58824081503654, 49.14177525108015, 16.926464976488408, 0.5533238584532363, 40.74508108475684, 19.413918763078254, 78.12209865071283, 74.29358220762792, 90.06912229309819, 70.94439654258589, 86.07145996512234, 35.547291416741935, 97.6077834965366, 1.2872738718211485, 67.83284042751264, 34.71179706937004, 90.18701547818236, 80.56994578015441, 36.029742156842794, 48.62478849598371, 59.960281060640895, 89.77683494829067, 74.18051346424657, 24.53895417650951, 71.5834056944237, 95.26728757414142, 87.9927024587716, 26.038246093669837, 36.6739156617128, 51.94784571707911, 52.470890117612555, 71.91672281659082, 67.84243359787406, 16.969223659405596, 88.1780617136839, 37.79496177184637, 93.3271360310672, 7.286154615664131, 1.0480785119169056, 3.1446996461515164, 0.8649781662982914, 84.4345169014827, 31.087919313566992, 65.12035113005051, 88.0418946197264, 64.30701544929015, 59.87662483213919, 59.79383869063947, 40.21602653789256, 59.22420597712266, 33.43657292027207, 37.05327012846239, 68.4796936615965, 63.95573224046055, 98.92775108314605, 91.91927335306261, 0.3177712008877842, 40.7689640472129, 60.07836981210642, 15.801106630566919, 30.538827118301615, 21.473313903175097, 59.410788354190124, 58.14960947232783, 79.66688980136047, 45.99563480059638, 59.58156104224972, 83.06321902041849, 31.15945586919966, 57.463497797004, 76.46818670233628, 38.00996119173209, 85.85703183016632, 68.44637133187496, 4.4864426674563145, 38.377296317647044, 81.43269400200249, 66.8361141946749, 29.898120527814285, 72.43823117324767, 58.2124174162583, 34.27759255677471, 94.1041210538524, 37.67138038967207, 92.61294727798938, 93.25541320188842, 19.580242169536554, 35.538655831515676, 31.05358411718424, 30.150003017165094, 82.25939591347307, 75.18619216530765, 72.13329626030819, 70.60647605723793, 56.413634775390875, 81.31462952682551, 68.11492367414623, 88.5031511396616, 7.346866814519315, 40.32539556162176, 1.4754860390041702, 36.57491284927629, 76.2735167013365, 82.18097189849883, 48.52688261556919, 23.315243215258473, 43.90684817895894, 86.09224312987422, 74.50810108163328, 44.222111038783495, 63.23477976094322, 48.8963337950277, 70.44999706656954, 60.25004762216013, 99.78764241670738, 78.35020830271702, 41.425085411007736, 97.20064286986556, 58.15168657670403, 22.700162980941975, 14.92188475621562, 34.491045280585354, 21.518346792734445, 85.74039291382638, 81.92359680467978, 2.3921301509164827, 60.689403589557166, 59.090582054771936, 79.97631907083267, 15.04433271182577, 51.01064437587001, 16.8364803334189, 60.84365336746923, 45.47367066946186, 36.59896526912387, 27.50868286160657, 24.077523885133655, 55.235808520780935, 31.342927656162455, 33.93848399306151, 47.20770546423203, 84.73687998727986, 52.042727162694455, 27.7874481879409, 39.37056373229587, 91.5945712615111, 44.881835465401444, 56.37189775282927, 40.54090809309703, 96.19589892317958, 15.446739160944867, 98.93864186250568, 18.497232716132274, 84.85461324609354, 80.33102677702745, 64.47845480249363, 88.0818200549661, 69.86864887593563, 30.935944764475398, 36.81348929207166, 29.687120630511444, 77.10210755006283, 74.52717215203752, 81.50438047579456, 91.69447626972442, 20.114312581560647, 19.94169282231765, 24.11670323750731, 43.31534998212623, 40.18279571498202, 51.62003156910339, 41.41543891833083, 10.988643416928024, 9.90000424576487, 78.26253489171266, 12.857649441079033, 49.610211266835556, 52.02844704076289, 98.4702384087224, 54.86036171078179, 30.425020350702138, 41.16357076815129, 5.773836510275099, 43.89441722982025, 10.292932048438297, 45.75948540139849, 50.050144701420706, 46.62875819139426, 40.980905335817184, 32.112698240231744, 79.51796067056961, 62.29566515754884, 47.50442361591624, 2.5493129605374976, 39.95432838254985, 7.075034273744285, 88.43300083231098, 13.007650834029638, 96.63096348795497, 91.87639401200991, 47.860582027803765, 76.92048726066749, 59.30972860049113, 87.28586444574653, 73.8772479777912, 94.60844725236599, 46.71280141404358, 55.045144129896016, 33.430341950864154, 11.330892430207252, 93.27760820452673, 99.3243238559015, 36.02251020140456, 98.49509830460924, 99.29138520413092, 42.73921921918491, 77.57200601864537, 41.44552348833188, 70.7552687853645, 25.501727107789417, 51.322153420700104, 76.98926567096936, 2.9782677936084467, 71.26844464295148, 84.23785026519724, 28.625171329265275, 55.95592848390664, 36.46604923439428, 25.956864353512042, 18.558143142006234, 53.764591779806615, 24.51649752947429, 67.85434904706999, 17.688488631858878, 51.506165058833254, 30.223133792443548, 94.98811575442166, 45.1024356602123, 20.269860751116163, 29.63651599059186, 30.412023458755556, 82.89962777030394, 65.6065542828205, 69.29513855160661, 42.22715700392947, 72.94882801210808, 6.364972280930081, 25.977998120382615, 72.34854015645288, 97.91173379572078, 15.72862313226886, 40.20416108470955, 75.2039957387758, 60.85767357942652, 70.82487430699406, 40.86169426523071, 65.7052427927797, 75.30780280168813, 42.698902797720486, 57.02058968504994, 41.252299282120205, 67.97746084032816, 94.22281814696221, 47.363386502866355, 68.30273534479396, 47.54641657474333, 76.08397721937096, 85.02473928047725, 3.329547461514082, 77.8163660927177, 68.07641065347158, 17.497555428875234, 52.21648571768347, 58.53216192770731, 34.770648390219925, 30.803747889567056, 47.9306664847786, 83.64700869354841, 44.05790647339477, 62.165761348707484, 57.417400270420124, 95.1659418072966, 34.87253587340796, 68.61986816115352, 44.0060904569774, 0.9550818557998442, 70.21896733288335, 11.180018603588348, 59.19366316378346, 91.36850055996916, 9.512470999505284, 23.435164399736298, 37.36357577303841, 30.578380633327008, 57.813278401993486, 32.21964452508443, 9.079416547299846, 40.89038372694331, 69.10211457539481, 48.40080772662931, 78.73397644850296, 73.03401349099893, 46.08369876784347, 90.61681596914534, 45.40950048211374, 59.07532890331576, 32.77290175354365, 48.53005836690032, 28.088005952869132, 58.14261920476371, 30.16001917295966, 1.3521378692647246, 2.7916179417527442, 80.23469152772063, 53.80009981568057, 23.77998099860087, 48.10250854027039, 9.765737016232956, 24.142426772285617, 31.056367096680038, 86.96667857893766, 8.533156521029884, 54.10237235518542, 12.98875484440879, 36.676835769558025, 69.780349688718, 89.51670296997528, 43.837052257041165, 49.73115869084518, 45.208648691136425, 75.05533409197619, 34.75941220313723, 26.66243687200408, 45.46535121919999, 71.35542333183234, 86.27497612559554, 99.47544655895297, 39.57956353656061, 89.38398359770052, 35.26392197795424, 82.38449102069072, 59.81455915639623, 98.60292325070755, 82.33639913602542, 95.06987960393178, 56.745259421204565, 61.23931159056687, 21.879597618336145, 77.88905619546821, 88.95596304348453, 46.57082572185375, 71.08065792258579, 66.29320643929111, 32.532977177560106, 83.26543669146241, 36.803972039709656, 48.01202278349368, 61.075687917748326, 23.946576955426558, 86.53812171634493, 61.6491998133358, 50.91571759066468, 44.98335112627907, 54.56669998792623, 63.563928979491024, 24.70171557774552, 70.762086659816, 75.94734082925602, 48.37508572800817, 17.90562763229211, 76.73033317861882, 49.770241625770225, 61.64638346546092, 97.32756538806512, 86.2623207648767, 72.16659228565662, 46.41570450369156, 38.21266397096653, 61.81634019812989, 32.586796849284326, 41.110868338240266, 98.58332983261829, 54.99940921607962, 59.590669798872106, 1.3977629926752666, 3.7234893111024014, 36.853149476886, 56.30069673130114, 25.166408453560784, 15.380328930442499, 49.28376156576054, 83.18058459267493, 93.57365660779226, 8.696139420161753, 80.48649120775947, 85.9820495188853, 49.95662852285132, 61.63051964091997, 4.914896217939068, 66.6245036183189, 25.153983729549978, 52.089296612936884, 94.85320083228866, 51.22470522298623, 30.106955927587197, 96.25570357921194, 77.46191312500814, 73.35533927259486, 39.910990950479444, 57.01054427474096, 43.84692405089602, 17.02975814510238, 10.356725794596521, 52.50673089108676, 36.00526953056043, 30.03545743480536, 52.07547837201661, 15.94658743066203, 43.05981951532705, 1.824869482321645, 6.76895693146049, 93.89226004508875, 10.659957107737682, 25.58558055831056, 54.90705084426225, 77.33402849044862, 83.91232441042781, 27.895019783405573, 56.960431862267946, 48.0512861907323, 47.8594805435147, 23.242859687319484, 0.9578713540087436, 59.72523399590683, 12.030574706442387, 13.64626187766077, 22.357481182358065, 67.22792183704924, 82.228675895473, 54.79918809375944, 59.977247038748935, 63.60623329054849, 40.53735244484889, 60.37321087059356, 36.37142325640321, 95.82286101016024, 74.87893192415976, 78.845480186958, 8.03757935800421, 55.189899258792565, 55.45382169319388, 37.95253104041713, 19.236933043358807, 57.10390494836327, 97.96267734922242, 2.8328567455883413, 10.866077753062886, 20.560207542528364, 87.37152573892149, 34.38983871341793, 55.673778052353754, 80.11229465243585, 69.79568620007612, 48.68625491166212, 76.53676453582162, 8.66490349926633, 61.04122629554477, 25.355066167298858, 2.761729019854886, 68.53358271330737, 33.471759717327764, 36.527336909622385, 51.85059373547559, 90.76197944578023, 84.4021375582289, 9.516270112966719, 11.788246661504632, 60.58420267511318, 68.87290822166752, 4.966755838861747, 11.519917149924808, 38.42049472414747, 42.06657575863089, 50.07190212232108, 18.112314907525285, 21.49416003821316, 10.043314591576536, 61.03423603889455, 8.673197657626975, 67.66960888487536, 82.8487506936481, 86.55724450439284]\n"
          ]
        }
      ]
    },
    {
      "cell_type": "code",
      "source": [
        "import matplotlib.pyplot as plt\n",
        "\n",
        "# Create a histogram of the population\n",
        "plt.hist(population, bins=10, range=(0, 100))\n",
        "\n",
        "# Set the title and labels for the histogram\n",
        "plt.title(\"Histogram of Population\")\n",
        "plt.xlabel(\"Value\")\n",
        "plt.ylabel(\"Frequency\")\n",
        "\n",
        "# Show the histogram\n",
        "plt.show()\n"
      ],
      "metadata": {
        "colab": {
          "base_uri": "https://localhost:8080/",
          "height": 295
        },
        "id": "Yd4Vavm71Qbc",
        "outputId": "2cd6bab5-29a0-4d08-fbc0-d42a080625c2"
      },
      "execution_count": null,
      "outputs": [
        {
          "output_type": "display_data",
          "data": {
            "text/plain": [
              "<Figure size 432x288 with 1 Axes>"
            ],
            "image/png": "[encoded data removed]"
          },
          "metadata": {
            "needs_background": "light"
          }
        }
      ]
    },
    {
      "cell_type": "code",
      "source": [
        "import numpy as np\n",
        "\n",
        "# Find the mean of the population\n",
        "mean = np.mean(population)\n",
        "print(\"Mean of population:\", mean)\n",
        "\n",
        "# Find the variance of the population\n",
        "variance = np.var(population)\n",
        "print(\"Variance of population:\", variance)\n"
      ],
      "metadata": {
        "colab": {
          "base_uri": "https://localhost:8080/"
        },
        "id": "sfcCdijo1Z_U",
        "outputId": "e663bf1f-6080-4f5d-af1c-c8fed330b97d"
      },
      "execution_count": null,
      "outputs": [
        {
          "output_type": "stream",
          "name": "stdout",
          "text": [
            "Mean of population: 51.82221268281548\n",
            "Variance of population: 784.5310252243313\n"
          ]
        }
      ]
    },
    {
      "cell_type": "code",
      "source": [
        "import random\n",
        "\n",
        "# Define the sample size\n",
        "n = 10\n",
        "\n",
        "# Draw a random sample of size n from the population\n",
        "sample = random.sample(population, n)\n",
        "\n",
        "# Print the sample\n",
        "print(sample)\n"
      ],
      "metadata": {
        "colab": {
          "base_uri": "https://localhost:8080/"
        },
        "id": "utc5lw_b10UE",
        "outputId": "c3ff0180-4874-447c-c8ff-7c3eacd560cf"
      },
      "execution_count": null,
      "outputs": [
        {
          "output_type": "stream",
          "name": "stdout",
          "text": [
            "[5.9339985296496645, 67.85434904706999, 40.88002403961883, 78.73397644850296, 54.99940921607962, 70.94439654258589, 63.60623329054849, 56.745259421204565, 36.59896526912387, 69.86864887593563]\n"
          ]
        }
      ]
    },
    {
      "cell_type": "code",
      "source": [
        "import numpy as np\n",
        "\n",
        "# Define the sample size and number of samples\n",
        "sample_size = 20\n",
        "num_samples = 20\n",
        "\n",
        "# Create a list to store the sample means\n",
        "sample_means = []\n",
        "\n",
        "# Draw num_samples samples of size sample_size from the population\n",
        "for i in range(num_samples):\n",
        "    sample = np.random.choice(population, sample_size)\n",
        "    sample_mean = np.mean(sample)\n",
        "    sample_means.append(sample_mean)\n",
        "\n",
        "# Print the list of sample means\n",
        "print(\"Sample means:\", sample_means)\n"
      ],
      "metadata": {
        "colab": {
          "base_uri": "https://localhost:8080/"
        },
        "id": "4K0lNHyU2Mos",
        "outputId": "c8cd4ea8-473c-4b72-eab5-73c4428c601e"
      },
      "execution_count": null,
      "outputs": [
        {
          "output_type": "stream",
          "name": "stdout",
          "text": [
            "Sample means: [45.75272967185561, 54.27308964456844, 58.7523211162616, 53.816601493481436, 59.77379359350833, 46.43304492482466, 56.97527649825405, 43.64530835719735, 52.436338904980595, 56.41714874976337, 47.248287139585734, 58.22902005219786, 48.61716074559233, 44.14002679415051, 51.34562284023101, 50.85303270375258, 50.762973091212075, 56.15679165322088, 58.23972148276437, 53.329376497883665]\n"
          ]
        }
      ]
    },
    {
      "cell_type": "code",
      "source": [
        "import matplotlib.pyplot as plt\n",
        "\n",
        "# Define the sample size and number of samples\n",
        "sample_size = 20\n",
        "num_samples = 20\n",
        "\n",
        "# Create a list to store the sample means\n",
        "sample_means = []\n",
        "\n",
        "# Draw num_samples samples of size sample_size from the population\n",
        "for i in range(num_samples):\n",
        "    sample = np.random.choice(population, sample_size)\n",
        "    sample_mean = np.mean(sample)\n",
        "    sample_means.append(sample_mean)\n",
        "\n",
        "# Create a histogram of the sample means\n",
        "plt.hist(sample_means, bins=10)\n",
        "plt.xlabel('Sample Mean')\n",
        "plt.ylabel('Frequency')\n",
        "plt.title('Distribution of Sample Means')\n",
        "\n",
        "# Show the plot\n",
        "plt.show()\n"
      ],
      "metadata": {
        "colab": {
          "base_uri": "https://localhost:8080/",
          "height": 295
        },
        "id": "zGKvi8HO2XNl",
        "outputId": "8b631884-ea61-4404-d77e-4e1577b2241a"
      },
      "execution_count": null,
      "outputs": [
        {
          "output_type": "display_data",
          "data": {
            "text/plain": [
              "<Figure size 432x288 with 1 Axes>"
            ],
            "image/png": "[encoded data removed]"
          },
          "metadata": {
            "needs_background": "light"
          }
        }
      ]
    },
    {
      "cell_type": "code",
      "source": [
        "import matplotlib.pyplot as plt\n",
        "\n",
        "# Define the mean and standard deviation of the normal distribution\n",
        "mean = 50\n",
        "std_dev = 10\n",
        "\n",
        "# Generate a normal population with mean and standard deviation using numpy\n",
        "population = np.random.normal(mean, std_dev, 1000)\n",
        "\n",
        "# Create a histogram of the population\n",
        "plt.hist(population, bins=20)\n",
        "plt.xlabel('Value')\n",
        "plt.ylabel('Frequency')\n",
        "plt.title('Distribution of Population')\n",
        "\n",
        "# Show the plot\n",
        "plt.show()\n"
      ],
      "metadata": {
        "colab": {
          "base_uri": "https://localhost:8080/",
          "height": 295
        },
        "id": "eUy-pbxb3U50",
        "outputId": "547091a5-9c58-45e2-8a91-abadbb5ff516"
      },
      "execution_count": null,
      "outputs": [
        {
          "output_type": "display_data",
          "data": {
            "text/plain": [
              "<Figure size 432x288 with 1 Axes>"
            ],
            "image/png": "[encoded data removed]"
          },
          "metadata": {
            "needs_background": "light"
          }
        }
      ]
    },
    {
      "cell_type": "code",
      "source": [
        "import numpy as np\n",
        "\n",
        "# Define the mean and standard deviation of the normal distribution\n",
        "mean = 50\n",
        "std_dev = 10\n",
        "\n",
        "# Generate a normal population with mean and standard deviation using numpy\n",
        "population = np.random.normal(mean, std_dev, 1000)\n",
        "\n",
        "# Find the mean and variance of the population using numpy\n",
        "pop_mean = np.mean(population)\n",
        "pop_var = np.var(population)\n",
        "\n",
        "# Print the results\n",
        "print(\"Population mean:\", pop_mean)\n",
        "print(\"Population variance:\", pop_var)\n"
      ],
      "metadata": {
        "colab": {
          "base_uri": "https://localhost:8080/"
        },
        "id": "PPzu-yvL3dvr",
        "outputId": "90ef1fd2-9724-47e6-f663-915360a33fb8"
      },
      "execution_count": null,
      "outputs": [
        {
          "output_type": "stream",
          "name": "stdout",
          "text": [
            "Population mean: 49.81467787423613\n",
            "Population variance: 95.47634575513061\n"
          ]
        }
      ]
    },
    {
      "cell_type": "code",
      "source": [
        "import numpy as np\n",
        "\n",
        "# Define the mean and standard deviation of the normal distribution\n",
        "mean = 50\n",
        "std_dev = 10\n",
        "\n",
        "# Generate a normal population with mean and standard deviation using numpy\n",
        "population = np.random.normal(mean, std_dev, 1000)\n",
        "\n",
        "# Draw a random sample of size n from the population using numpy\n",
        "n = 100  # user-defined sample size\n",
        "sample = np.random.choice(population, n)\n",
        "\n",
        "# Print the sample\n",
        "print(\"Sample:\", sample)\n"
      ],
      "metadata": {
        "colab": {
          "base_uri": "https://localhost:8080/"
        },
        "id": "DRoLTPxA4E1E",
        "outputId": "4213f2dd-7cd7-4311-b4ff-b3a549cd177e"
      },
      "execution_count": null,
      "outputs": [
        {
          "output_type": "stream",
          "name": "stdout",
          "text": [
            "Sample: [46.69876084 58.24483951 47.97974665 62.30513463 59.55500683 56.61841622\n",
            " 48.69805138 51.84279086 37.11335285 46.96223034 53.8781444  57.57497679\n",
            " 35.33277797 52.5925794  63.32980045 54.69094445 56.62888631 25.77476245\n",
            " 44.03127939 54.73184415 45.20270433 69.52174059 47.73677798 54.68047971\n",
            " 50.63629938 51.72735293 62.64953598 44.50660631 50.072841   61.60945991\n",
            " 53.38613399 58.07532898 47.56631097 38.1480133  64.23593923 52.06891389\n",
            " 65.8049263  54.68047971 30.78409795 58.11022104 54.00098772 32.18350106\n",
            " 57.5822693  53.38613399 49.25598401 49.44494955 35.26695765 65.11510029\n",
            " 43.43189753 52.03789433 54.49980794 37.6968022  72.41579618 37.9933617\n",
            " 59.82952974 47.1049371  41.9296285  66.89042302 72.41579618 64.62708484\n",
            " 33.57528849 24.41732433 40.70012291 45.67124984 50.2242753  52.22784234\n",
            " 47.08942062 51.54449244 49.31468423 47.56631097 45.58390634 63.21953389\n",
            " 35.89192187 54.11300339 52.41040262 37.871015   59.01143984 35.45183694\n",
            " 56.7593341  45.52201867 44.60777699 55.04224568 43.12003453 55.87844855\n",
            " 29.98282798 32.02433803 24.97014024 58.31617309 50.63629938 52.50744042\n",
            " 51.7107338  50.86796418 56.62193769 52.42364557 48.68314897 51.39850914\n",
            " 55.00731589 62.27980144 51.23113708 48.71940751]\n"
          ]
        }
      ]
    },
    {
      "cell_type": "code",
      "source": [
        "import numpy as np\n",
        "import matplotlib.pyplot as plt\n",
        "\n",
        "# Define the mean and standard deviation of the normal distribution\n",
        "mean = 50\n",
        "std_dev = 10\n",
        "\n",
        "# Generate a normal population with mean and standard deviation using numpy\n",
        "population = np.random.normal(mean, std_dev, 1000)\n",
        "\n",
        "# Define the sample size and number of samples\n",
        "sample_size = 50  # user-defined sample size\n",
        "num_samples = 1000  # user-defined number of samples\n",
        "\n",
        "# Draw num_samples samples of size sample_size from the population\n",
        "samples = np.random.choice(population, (num_samples, sample_size))\n",
        "\n",
        "# Compute the mean of each sample\n",
        "sample_means = np.mean(samples, axis=1)\n",
        "\n",
        "# Plot a histogram of the sample means\n",
        "plt.hist(sample_means, bins=30)\n",
        "plt.xlabel('Sample Mean')\n",
        "plt.ylabel('Frequency')\n",
        "plt.title('Distribution of Sample Means (n={0}, N={1})'.format(sample_size, num_samples))\n",
        "plt.show()\n"
      ],
      "metadata": {
        "colab": {
          "base_uri": "https://localhost:8080/",
          "height": 295
        },
        "id": "fAGQkPYV5DJb",
        "outputId": "9db30ffd-1638-4d42-e0d1-64a0b3ab4fa0"
      },
      "execution_count": null,
      "outputs": [
        {
          "output_type": "display_data",
          "data": {
            "text/plain": [
              "<Figure size 432x288 with 1 Axes>"
            ],
            "image/png": "[encoded data removed]"
          },
          "metadata": {
            "needs_background": "light"
          }
        }
      ]
    },
    {
      "cell_type": "code",
      "source": [
        "import numpy as np\n",
        "import matplotlib.pyplot as plt\n",
        "\n",
        "# Define the mean and standard deviation of the normal distribution\n",
        "mean = 50\n",
        "std_dev = 10\n",
        "\n",
        "# Generate a normal population with mean and standard deviation using numpy\n",
        "population = np.random.normal(mean, std_dev, 1000)\n",
        "\n",
        "# Define the sample size and number of samples\n",
        "sample_size = 100  # user-defined sample size\n",
        "num_samples = 1000  # user-defined number of samples\n",
        "\n",
        "# Generate the distribution of sample means using numpy\n",
        "sample_means = []\n",
        "for i in range(num_samples):\n",
        "    sample = np.random.choice(population, sample_size)\n",
        "    sample_means.append(np.mean(sample))\n",
        "\n",
        "# Construct a histogram of the distribution of sample means using matplotlib\n",
        "plt.hist(sample_means, bins=30)\n",
        "plt.xlabel('Sample Means')\n",
        "plt.ylabel('Frequency')\n",
        "plt.title('Distribution of Sample Means')\n",
        "plt.show()\n"
      ],
      "metadata": {
        "colab": {
          "base_uri": "https://localhost:8080/",
          "height": 295
        },
        "id": "ZhG9HqT16gXC",
        "outputId": "9ea402ce-229a-4792-8251-133e70e66243"
      },
      "execution_count": null,
      "outputs": [
        {
          "output_type": "display_data",
          "data": {
            "text/plain": [
              "<Figure size 432x288 with 1 Axes>"
            ],
            "image/png": "[encoded data removed]"
          },
          "metadata": {
            "needs_background": "light"
          }
        }
      ]
    },
    {
      "cell_type": "markdown",
      "source": [
        "# Experiment-6"
      ],
      "metadata": {
        "id": "kJQ8gg7O7Q7k"
      }
    },
    {
      "cell_type": "code",
      "source": [
        "import numpy as np\n",
        "\n",
        "# Generate a non-normal population using the uniform distribution\n",
        "population = np.random.uniform(low=0, high=100, size=10000)\n",
        "# Calculate the population mean and standard deviation\n",
        "pop_mean = np.mean(population)\n",
        "pop_std = np.std(population)\n",
        "\n",
        "print('Population Mean:', pop_mean)\n",
        "print('Population Standard Deviation:', pop_std)\n",
        "# Generate random samples of size 30 and calculate the sample means\n",
        "sample_means = []\n",
        "\n",
        "for i in range(10000):\n",
        "    sample = np.random.choice(population, size=30)\n",
        "    sample_mean = np.mean(sample)\n",
        "    sample_means.append(sample_mean)\n",
        "# Calculate the mean and standard deviation of the sample means\n",
        "sample_mean_mean = np.mean(sample_means)\n",
        "sample_mean_std = np.std(sample_means)\n",
        "\n",
        "print('Sample Mean Mean:', sample_mean_mean)\n",
        "print('Sample Mean Standard Deviation:', sample_mean_std)\n",
        "import matplotlib.pyplot as plt\n",
        "\n",
        "# Plot a histogram of the sample means\n",
        "plt.hist(sample_means, bins=30)\n",
        "plt.xlabel('Sample Means')\n",
        "plt.ylabel('Frequency')\n",
        "plt.title('Distribution of Sample Means')\n",
        "plt.show()\n",
        "print('Population Mean:', pop_mean)\n",
        "print('Sample Mean Mean:', sample_mean_mean)\n",
        "print('Population Standard Deviation:', pop_std)\n",
        "print('Sample Mean Standard Deviation:', sample_mean_std)\n"
      ],
      "metadata": {
        "colab": {
          "base_uri": "https://localhost:8080/",
          "height": 434
        },
        "id": "A-4XzdcI7TlS",
        "outputId": "848804f9-ed4e-4798-d230-05c47caf8ca5"
      },
      "execution_count": null,
      "outputs": [
        {
          "output_type": "stream",
          "name": "stdout",
          "text": [
            "Population Mean: 50.11074002736132\n",
            "Population Standard Deviation: 28.704630607980206\n",
            "Sample Mean Mean: 50.1645895186748\n",
            "Sample Mean Standard Deviation: 5.280448135589508\n"
          ]
        },
        {
          "output_type": "display_data",
          "data": {
            "text/plain": [
              "<Figure size 432x288 with 1 Axes>"
            ],
            "image/png": "[encoded data removed]"
          },
          "metadata": {
            "needs_background": "light"
          }
        },
        {
          "output_type": "stream",
          "name": "stdout",
          "text": [
            "Population Mean: 50.11074002736132\n",
            "Sample Mean Mean: 50.1645895186748\n",
            "Population Standard Deviation: 28.704630607980206\n",
            "Sample Mean Standard Deviation: 5.280448135589508\n"
          ]
        }
      ]
    },
    {
      "cell_type": "code",
      "source": [
        "import numpy\n",
        "import matplotlib.pyplot as plt\n",
        "\n",
        "# number of sample\n",
        "num = [1, 10, 50, 100]\n",
        "# list of sample means\n",
        "means = []\n",
        "\n",
        "# Generating 1, 10, 30, 100 random numbers from -40 to 40\n",
        "# taking their mean and appending it to list means.\n",
        "for j in num:\n",
        "\t# Generating seed so that we can get same result\n",
        "\t# every time the loop is run...\n",
        "\tnumpy.random.seed(1)\n",
        "\tx = [numpy.mean(\n",
        "\t\tnumpy.random.randint(\n",
        "\t\t\t-40, 40, j)) for _i in range(1000)]\n",
        "\tmeans.append(x)\n",
        "k = 0\n",
        "\n",
        "# plotting all the means in one figure\n",
        "fig, ax = plt.subplots(2, 2, figsize =(8, 8))\n",
        "for i in range(0, 2):\n",
        "\tfor j in range(0, 2):\n",
        "\t\t# Histogram for each x stored in means\n",
        "\t\tax[i, j].hist(means[k], 10, density = True)\n",
        "\t\tax[i, j].set_title(label = num[k])\n",
        "\t\tk = k + 1\n",
        "plt.show()\n"
      ],
      "metadata": {
        "colab": {
          "base_uri": "https://localhost:8080/",
          "height": 499
        },
        "id": "hch54GTl90QS",
        "outputId": "5ea1e548-d93d-4475-f471-30151e678418"
      },
      "execution_count": null,
      "outputs": [
        {
          "output_type": "display_data",
          "data": {
            "text/plain": [
              "<Figure size 576x576 with 4 Axes>"
            ],
            "image/png": "[encoded data removed]"
          },
          "metadata": {
            "needs_background": "light"
          }
        }
      ]
    },
    {
      "cell_type": "markdown",
      "source": [
        "# Experiment-8"
      ],
      "metadata": {
        "id": "7u-WmchgH0Jx"
      }
    },
    {
      "cell_type": "code",
      "source": [
        "import pandas as pd\n",
        "import numpy as np\n",
        "import matplotlib.pyplot as plt\n",
        "import seaborn as sns"
      ],
      "metadata": {
        "id": "5eydajWAH3yz"
      },
      "execution_count": null,
      "outputs": []
    },
    {
      "cell_type": "code",
      "source": [
        "df = pd.read_csv(r'US_Accidents_Dec21_updated.csv')\n",
        "df"
      ],
      "metadata": {
        "colab": {
          "base_uri": "https://localhost:8080/",
          "height": 850
        },
        "id": "ydl91TXlH6wF",
        "outputId": "817bec62-3e2a-42cc-b940-b98bb7a434f8"
      },
      "execution_count": null,
      "outputs": [
        {
          "output_type": "execute_result",
          "data": {
            "text/plain": [
              "            ID  Severity           Start_Time             End_Time  Start_Lat  \\\n",
              "0          A-1         3  2016-02-08 00:37:08  2016-02-08 06:37:08  40.108910   \n",
              "1          A-2         2  2016-02-08 05:56:20  2016-02-08 11:56:20  39.865420   \n",
              "2          A-3         2  2016-02-08 06:15:39  2016-02-08 12:15:39  39.102660   \n",
              "3          A-4         2  2016-02-08 06:51:45  2016-02-08 12:51:45  41.062130   \n",
              "4          A-5         3  2016-02-08 07:53:43  2016-02-08 13:53:43  39.172393   \n",
              "...        ...       ...                  ...                  ...        ...   \n",
              "96515  A-96516         3  2016-03-25 18:25:40  2016-03-26 00:25:40  41.930550   \n",
              "96516  A-96517         2  2016-03-25 18:34:24  2016-03-26 00:34:24  40.480876   \n",
              "96517  A-96518         2  2016-03-25 18:58:43  2016-03-26 00:58:43  41.747820   \n",
              "96518  A-96519         2  2016-03-25 19:00:01  2016-03-26 01:00:01  43.172120   \n",
              "96519  A-96520         3  2016-03-25 22:56:49  2016-03-26 04:56:49  40.071940   \n",
              "\n",
              "       Start_Lng    End_Lat    End_Lng  Distance(mi)  \\\n",
              "0     -83.092860  40.112060 -83.031870         3.230   \n",
              "1     -84.062800  39.865010 -84.048730         0.747   \n",
              "2     -84.524680  39.102090 -84.523960         0.055   \n",
              "3     -81.537840  41.062170 -81.535470         0.123   \n",
              "4     -84.492792  39.170476 -84.501798         0.500   \n",
              "...          ...        ...        ...           ...   \n",
              "96515 -72.382890  41.969850 -72.357980         3.002   \n",
              "96516 -74.402838  40.483000 -74.401300         0.168   \n",
              "96517 -72.658840  41.760580 -72.665470         0.946   \n",
              "96518 -73.711500  43.171725 -73.711674         0.029   \n",
              "96519 -74.962460  40.068440 -74.964090         0.257   \n",
              "\n",
              "                                             Description  ...  Roundabout  \\\n",
              "0      Between Sawmill Rd/Exit 20 and OH-315/Olentang...  ...       False   \n",
              "1                     At OH-4/OH-235/Exit 41 - Accident.  ...       False   \n",
              "2                       At I-71/US-50/Exit 1 - Accident.  ...       False   \n",
              "3                        At Dart Ave/Exit 21 - Accident.  ...       False   \n",
              "4                     At Mitchell Ave/Exit 6 - Accident.  ...       False   \n",
              "...                                                  ...  ...         ...   \n",
              "96515                           At Webber Rd - Accident.  ...       False   \n",
              "96516                        At RT-18/Exit 9 - Accident.  ...       False   \n",
              "96517  Between US-5/Exit 29 and Whitehead Hwy/Exit 29...  ...       False   \n",
              "96518                  At Ballard Rd/Exit 16 - Accident.  ...       False   \n",
              "96519                   Ramp to Woodhaven Rd - Accident.  ...       False   \n",
              "\n",
              "      Station   Stop Traffic_Calming Traffic_Signal Turning_Loop  \\\n",
              "0       False  False           False          False        False   \n",
              "1       False  False           False          False        False   \n",
              "2       False  False           False          False        False   \n",
              "3       False  False           False          False        False   \n",
              "4       False  False           False          False        False   \n",
              "...       ...    ...             ...            ...          ...   \n",
              "96515   False  False           False          False        False   \n",
              "96516   False  False           False          False        False   \n",
              "96517   False  False           False          False        False   \n",
              "96518   False  False           False          False        False   \n",
              "96519   False  False           False          False        False   \n",
              "\n",
              "      Sunrise_Sunset Civil_Twilight Nautical_Twilight Astronomical_Twilight  \n",
              "0              Night          Night             Night                 Night  \n",
              "1              Night          Night             Night                 Night  \n",
              "2              Night          Night             Night                   Day  \n",
              "3              Night          Night               Day                   Day  \n",
              "4                Day            Day               Day                   Day  \n",
              "...              ...            ...               ...                   ...  \n",
              "96515            Day            Day               Day                   Day  \n",
              "96516            Day            Day               Day                   Day  \n",
              "96517            Day            Day               Day                   Day  \n",
              "96518            Day            Day               Day                   Day  \n",
              "96519           Nigh            NaN               NaN                   NaN  \n",
              "\n",
              "[96520 rows x 47 columns]"
            ],
            "text/html": [
              "\n",
              "  <div id=\"df-bede5131-9c01-4d47-9bcd-f4fd9875640e\">\n",
              "    <div class=\"colab-df-container\">\n",
              "      <div>\n",
              "<style scoped>\n",
              "    .dataframe tbody tr th:only-of-type {\n",
              "        vertical-align: middle;\n",
              "    }\n",
              "\n",
              "    .dataframe tbody tr th {\n",
              "        vertical-align: top;\n",
              "    }\n",
              "\n",
              "    .dataframe thead th {\n",
              "        text-align: right;\n",
              "    }\n",
              "</style>\n",
              "<table border=\"1\" class=\"dataframe\">\n",
              "  <thead>\n",
              "    <tr style=\"text-align: right;\">\n",
              "      <th></th>\n",
              "      <th>ID</th>\n",
              "      <th>Severity</th>\n",
              "      <th>Start_Time</th>\n",
              "      <th>End_Time</th>\n",
              "      <th>Start_Lat</th>\n",
              "      <th>Start_Lng</th>\n",
              "      <th>End_Lat</th>\n",
              "      <th>End_Lng</th>\n",
              "      <th>Distance(mi)</th>\n",
              "      <th>Description</th>\n",
              "      <th>...</th>\n",
              "      <th>Roundabout</th>\n",
              "      <th>Station</th>\n",
              "      <th>Stop</th>\n",
              "      <th>Traffic_Calming</th>\n",
              "      <th>Traffic_Signal</th>\n",
              "      <th>Turning_Loop</th>\n",
              "      <th>Sunrise_Sunset</th>\n",
              "      <th>Civil_Twilight</th>\n",
              "      <th>Nautical_Twilight</th>\n",
              "      <th>Astronomical_Twilight</th>\n",
              "    </tr>\n",
              "  </thead>\n",
              "  <tbody>\n",
              "    <tr>\n",
              "      <th>0</th>\n",
              "      <td>A-1</td>\n",
              "      <td>3</td>\n",
              "      <td>2016-02-08 00:37:08</td>\n",
              "      <td>2016-02-08 06:37:08</td>\n",
              "      <td>40.108910</td>\n",
              "      <td>-83.092860</td>\n",
              "      <td>40.112060</td>\n",
              "      <td>-83.031870</td>\n",
              "      <td>3.230</td>\n",
              "      <td>Between Sawmill Rd/Exit 20 and OH-315/Olentang...</td>\n",
              "      <td>...</td>\n",
              "      <td>False</td>\n",
              "      <td>False</td>\n",
              "      <td>False</td>\n",
              "      <td>False</td>\n",
              "      <td>False</td>\n",
              "      <td>False</td>\n",
              "      <td>Night</td>\n",
              "      <td>Night</td>\n",
              "      <td>Night</td>\n",
              "      <td>Night</td>\n",
              "    </tr>\n",
              "    <tr>\n",
              "      <th>1</th>\n",
              "      <td>A-2</td>\n",
              "      <td>2</td>\n",
              "      <td>2016-02-08 05:56:20</td>\n",
              "      <td>2016-02-08 11:56:20</td>\n",
              "      <td>39.865420</td>\n",
              "      <td>-84.062800</td>\n",
              "      <td>39.865010</td>\n",
              "      <td>-84.048730</td>\n",
              "      <td>0.747</td>\n",
              "      <td>At OH-4/OH-235/Exit 41 - Accident.</td>\n",
              "      <td>...</td>\n",
              "      <td>False</td>\n",
              "      <td>False</td>\n",
              "      <td>False</td>\n",
              "      <td>False</td>\n",
              "      <td>False</td>\n",
              "      <td>False</td>\n",
              "      <td>Night</td>\n",
              "      <td>Night</td>\n",
              "      <td>Night</td>\n",
              "      <td>Night</td>\n",
              "    </tr>\n",
              "    <tr>\n",
              "      <th>2</th>\n",
              "      <td>A-3</td>\n",
              "      <td>2</td>\n",
              "      <td>2016-02-08 06:15:39</td>\n",
              "      <td>2016-02-08 12:15:39</td>\n",
              "      <td>39.102660</td>\n",
              "      <td>-84.524680</td>\n",
              "      <td>39.102090</td>\n",
              "      <td>-84.523960</td>\n",
              "      <td>0.055</td>\n",
              "      <td>At I-71/US-50/Exit 1 - Accident.</td>\n",
              "      <td>...</td>\n",
              "      <td>False</td>\n",
              "      <td>False</td>\n",
              "      <td>False</td>\n",
              "      <td>False</td>\n",
              "      <td>False</td>\n",
              "      <td>False</td>\n",
              "      <td>Night</td>\n",
              "      <td>Night</td>\n",
              "      <td>Night</td>\n",
              "      <td>Day</td>\n",
              "    </tr>\n",
              "    <tr>\n",
              "      <th>3</th>\n",
              "      <td>A-4</td>\n",
              "      <td>2</td>\n",
              "      <td>2016-02-08 06:51:45</td>\n",
              "      <td>2016-02-08 12:51:45</td>\n",
              "      <td>41.062130</td>\n",
              "      <td>-81.537840</td>\n",
              "      <td>41.062170</td>\n",
              "      <td>-81.535470</td>\n",
              "      <td>0.123</td>\n",
              "      <td>At Dart Ave/Exit 21 - Accident.</td>\n",
              "      <td>...</td>\n",
              "      <td>False</td>\n",
              "      <td>False</td>\n",
              "      <td>False</td>\n",
              "      <td>False</td>\n",
              "      <td>False</td>\n",
              "      <td>False</td>\n",
              "      <td>Night</td>\n",
              "      <td>Night</td>\n",
              "      <td>Day</td>\n",
              "      <td>Day</td>\n",
              "    </tr>\n",
              "    <tr>\n",
              "      <th>4</th>\n",
              "      <td>A-5</td>\n",
              "      <td>3</td>\n",
              "      <td>2016-02-08 07:53:43</td>\n",
              "      <td>2016-02-08 13:53:43</td>\n",
              "      <td>39.172393</td>\n",
              "      <td>-84.492792</td>\n",
              "      <td>39.170476</td>\n",
              "      <td>-84.501798</td>\n",
              "      <td>0.500</td>\n",
              "      <td>At Mitchell Ave/Exit 6 - Accident.</td>\n",
              "      <td>...</td>\n",
              "      <td>False</td>\n",
              "      <td>False</td>\n",
              "      <td>False</td>\n",
              "      <td>False</td>\n",
              "      <td>False</td>\n",
              "      <td>False</td>\n",
              "      <td>Day</td>\n",
              "      <td>Day</td>\n",
              "      <td>Day</td>\n",
              "      <td>Day</td>\n",
              "    </tr>\n",
              "    <tr>\n",
              "      <th>...</th>\n",
              "      <td>...</td>\n",
              "      <td>...</td>\n",
              "      <td>...</td>\n",
              "      <td>...</td>\n",
              "      <td>...</td>\n",
              "      <td>...</td>\n",
              "      <td>...</td>\n",
              "      <td>...</td>\n",
              "      <td>...</td>\n",
              "      <td>...</td>\n",
              "      <td>...</td>\n",
              "      <td>...</td>\n",
              "      <td>...</td>\n",
              "      <td>...</td>\n",
              "      <td>...</td>\n",
              "      <td>...</td>\n",
              "      <td>...</td>\n",
              "      <td>...</td>\n",
              "      <td>...</td>\n",
              "      <td>...</td>\n",
              "      <td>...</td>\n",
              "    </tr>\n",
              "    <tr>\n",
              "      <th>96515</th>\n",
              "      <td>A-96516</td>\n",
              "      <td>3</td>\n",
              "      <td>2016-03-25 18:25:40</td>\n",
              "      <td>2016-03-26 00:25:40</td>\n",
              "      <td>41.930550</td>\n",
              "      <td>-72.382890</td>\n",
              "      <td>41.969850</td>\n",
              "      <td>-72.357980</td>\n",
              "      <td>3.002</td>\n",
              "      <td>At Webber Rd - Accident.</td>\n",
              "      <td>...</td>\n",
              "      <td>False</td>\n",
              "      <td>False</td>\n",
              "      <td>False</td>\n",
              "      <td>False</td>\n",
              "      <td>False</td>\n",
              "      <td>False</td>\n",
              "      <td>Day</td>\n",
              "      <td>Day</td>\n",
              "      <td>Day</td>\n",
              "      <td>Day</td>\n",
              "    </tr>\n",
              "    <tr>\n",
              "      <th>96516</th>\n",
              "      <td>A-96517</td>\n",
              "      <td>2</td>\n",
              "      <td>2016-03-25 18:34:24</td>\n",
              "      <td>2016-03-26 00:34:24</td>\n",
              "      <td>40.480876</td>\n",
              "      <td>-74.402838</td>\n",
              "      <td>40.483000</td>\n",
              "      <td>-74.401300</td>\n",
              "      <td>0.168</td>\n",
              "      <td>At RT-18/Exit 9 - Accident.</td>\n",
              "      <td>...</td>\n",
              "      <td>False</td>\n",
              "      <td>False</td>\n",
              "      <td>False</td>\n",
              "      <td>False</td>\n",
              "      <td>False</td>\n",
              "      <td>False</td>\n",
              "      <td>Day</td>\n",
              "      <td>Day</td>\n",
              "      <td>Day</td>\n",
              "      <td>Day</td>\n",
              "    </tr>\n",
              "    <tr>\n",
              "      <th>96517</th>\n",
              "      <td>A-96518</td>\n",
              "      <td>2</td>\n",
              "      <td>2016-03-25 18:58:43</td>\n",
              "      <td>2016-03-26 00:58:43</td>\n",
              "      <td>41.747820</td>\n",
              "      <td>-72.658840</td>\n",
              "      <td>41.760580</td>\n",
              "      <td>-72.665470</td>\n",
              "      <td>0.946</td>\n",
              "      <td>Between US-5/Exit 29 and Whitehead Hwy/Exit 29...</td>\n",
              "      <td>...</td>\n",
              "      <td>False</td>\n",
              "      <td>False</td>\n",
              "      <td>False</td>\n",
              "      <td>False</td>\n",
              "      <td>False</td>\n",
              "      <td>False</td>\n",
              "      <td>Day</td>\n",
              "      <td>Day</td>\n",
              "      <td>Day</td>\n",
              "      <td>Day</td>\n",
              "    </tr>\n",
              "    <tr>\n",
              "      <th>96518</th>\n",
              "      <td>A-96519</td>\n",
              "      <td>2</td>\n",
              "      <td>2016-03-25 19:00:01</td>\n",
              "      <td>2016-03-26 01:00:01</td>\n",
              "      <td>43.172120</td>\n",
              "      <td>-73.711500</td>\n",
              "      <td>43.171725</td>\n",
              "      <td>-73.711674</td>\n",
              "      <td>0.029</td>\n",
              "      <td>At Ballard Rd/Exit 16 - Accident.</td>\n",
              "      <td>...</td>\n",
              "      <td>False</td>\n",
              "      <td>False</td>\n",
              "      <td>False</td>\n",
              "      <td>False</td>\n",
              "      <td>False</td>\n",
              "      <td>False</td>\n",
              "      <td>Day</td>\n",
              "      <td>Day</td>\n",
              "      <td>Day</td>\n",
              "      <td>Day</td>\n",
              "    </tr>\n",
              "    <tr>\n",
              "      <th>96519</th>\n",
              "      <td>A-96520</td>\n",
              "      <td>3</td>\n",
              "      <td>2016-03-25 22:56:49</td>\n",
              "      <td>2016-03-26 04:56:49</td>\n",
              "      <td>40.071940</td>\n",
              "      <td>-74.962460</td>\n",
              "      <td>40.068440</td>\n",
              "      <td>-74.964090</td>\n",
              "      <td>0.257</td>\n",
              "      <td>Ramp to Woodhaven Rd - Accident.</td>\n",
              "      <td>...</td>\n",
              "      <td>False</td>\n",
              "      <td>False</td>\n",
              "      <td>False</td>\n",
              "      <td>False</td>\n",
              "      <td>False</td>\n",
              "      <td>False</td>\n",
              "      <td>Nigh</td>\n",
              "      <td>NaN</td>\n",
              "      <td>NaN</td>\n",
              "      <td>NaN</td>\n",
              "    </tr>\n",
              "  </tbody>\n",
              "</table>\n",
              "<p>96520 rows × 47 columns</p>\n",
              "</div>\n",
              "      <button class=\"colab-df-convert\" onclick=\"convertToInteractive('df-bede5131-9c01-4d47-9bcd-f4fd9875640e')\"\n",
              "              title=\"Convert this dataframe to an interactive table.\"\n",
              "              style=\"display:none;\">\n",
              "        \n",
              "  <svg xmlns=\"http://www.w3.org/2000/svg\" height=\"24px\"viewBox=\"0 0 24 24\"\n",
              "       width=\"24px\">\n",
              "    <path d=\"M0 0h24v24H0V0z\" fill=\"none\"/>\n",
              "    <path d=\"M18.56 5.44l.94 2.06.94-2.06 2.06-.94-2.06-.94-.94-2.06-.94 2.06-2.06.94zm-11 1L8.5 8.5l.94-2.06 2.06-.94-2.06-.94L8.5 2.5l-.94 2.06-2.06.94zm10 10l.94 2.06.94-2.06 2.06-.94-2.06-.94-.94-2.06-.94 2.06-2.06.94z\"/><path d=\"M17.41 7.96l-1.37-1.37c-.4-.4-.92-.59-1.43-.59-.52 0-1.04.2-1.43.59L10.3 9.45l-7.72 7.72c-.78.78-.78 2.05 0 2.83L4 21.41c.39.39.9.59 1.41.59.51 0 1.02-.2 1.41-.59l7.78-7.78 2.81-2.81c.8-.78.8-2.07 0-2.86zM5.41 20L4 18.59l7.72-7.72 1.47 1.35L5.41 20z\"/>\n",
              "  </svg>\n",
              "      </button>\n",
              "      \n",
              "  <style>\n",
              "    .colab-df-container {\n",
              "      display:flex;\n",
              "      flex-wrap:wrap;\n",
              "      gap: 12px;\n",
              "    }\n",
              "\n",
              "    .colab-df-convert {\n",
              "      background-color: #E8F0FE;\n",
              "      border: none;\n",
              "      border-radius: 50%;\n",
              "      cursor: pointer;\n",
              "      display: none;\n",
              "      fill: #1967D2;\n",
              "      height: 32px;\n",
              "      padding: 0 0 0 0;\n",
              "      width: 32px;\n",
              "    }\n",
              "\n",
              "    .colab-df-convert:hover {\n",
              "      background-color: #E2EBFA;\n",
              "      box-shadow: 0px 1px 2px rgba(60, 64, 67, 0.3), 0px 1px 3px 1px rgba(60, 64, 67, 0.15);\n",
              "      fill: #174EA6;\n",
              "    }\n",
              "\n",
              "    [theme=dark] .colab-df-convert {\n",
              "      background-color: #3B4455;\n",
              "      fill: #D2E3FC;\n",
              "    }\n",
              "\n",
              "    [theme=dark] .colab-df-convert:hover {\n",
              "      background-color: #434B5C;\n",
              "      box-shadow: 0px 1px 3px 1px rgba(0, 0, 0, 0.15);\n",
              "      filter: drop-shadow(0px 1px 2px rgba(0, 0, 0, 0.3));\n",
              "      fill: #FFFFFF;\n",
              "    }\n",
              "  </style>\n",
              "\n",
              "      <script>\n",
              "        const buttonEl =\n",
              "          document.querySelector('#df-bede5131-9c01-4d47-9bcd-f4fd9875640e button.colab-df-convert');\n",
              "        buttonEl.style.display =\n",
              "          google.colab.kernel.accessAllowed ? 'block' : 'none';\n",
              "\n",
              "        async function convertToInteractive(key) {\n",
              "          const element = document.querySelector('#df-bede5131-9c01-4d47-9bcd-f4fd9875640e');\n",
              "          const dataTable =\n",
              "            await google.colab.kernel.invokeFunction('convertToInteractive',\n",
              "                                                     [key], {});\n",
              "          if (!dataTable) return;\n",
              "\n",
              "          const docLinkHtml = 'Like what you see? Visit the ' +\n",
              "            '<a target=\"_blank\" href=https://colab.research.google.com/notebooks/data_table.ipynb>data table notebook</a>'\n",
              "            + ' to learn more about interactive tables.';\n",
              "          element.innerHTML = '';\n",
              "          dataTable['output_type'] = 'display_data';\n",
              "          await google.colab.output.renderOutput(dataTable, element);\n",
              "          const docLink = document.createElement('div');\n",
              "          docLink.innerHTML = docLinkHtml;\n",
              "          element.appendChild(docLink);\n",
              "        }\n",
              "      </script>\n",
              "    </div>\n",
              "  </div>\n",
              "  "
            ]
          },
          "metadata": {},
          "execution_count": 19
        }
      ]
    },
    {
      "cell_type": "code",
      "source": [
        "df.head(10) # Print Top 10 entries"
      ],
      "metadata": {
        "colab": {
          "base_uri": "https://localhost:8080/",
          "height": 627
        },
        "id": "Wi2iuXT6H9WS",
        "outputId": "539a2b56-8d2e-4875-a912-7a920b3304de"
      },
      "execution_count": null,
      "outputs": [
        {
          "output_type": "execute_result",
          "data": {
            "text/plain": [
              "     ID  Severity           Start_Time             End_Time  Start_Lat  \\\n",
              "0   A-1         3  2016-02-08 00:37:08  2016-02-08 06:37:08  40.108910   \n",
              "1   A-2         2  2016-02-08 05:56:20  2016-02-08 11:56:20  39.865420   \n",
              "2   A-3         2  2016-02-08 06:15:39  2016-02-08 12:15:39  39.102660   \n",
              "3   A-4         2  2016-02-08 06:51:45  2016-02-08 12:51:45  41.062130   \n",
              "4   A-5         3  2016-02-08 07:53:43  2016-02-08 13:53:43  39.172393   \n",
              "5   A-6         2  2016-02-08 08:16:57  2016-02-08 14:16:57  39.063240   \n",
              "6   A-7         2  2016-02-08 08:15:41  2016-02-08 14:15:41  39.775650   \n",
              "7   A-8         2  2016-02-08 11:51:46  2016-02-08 17:51:46  41.375310   \n",
              "8   A-9         2  2016-02-08 14:19:57  2016-02-08 20:19:57  40.702247   \n",
              "9  A-10         2  2016-02-08 15:16:43  2016-02-08 21:16:43  40.109310   \n",
              "\n",
              "   Start_Lng    End_Lat    End_Lng  Distance(mi)  \\\n",
              "0 -83.092860  40.112060 -83.031870         3.230   \n",
              "1 -84.062800  39.865010 -84.048730         0.747   \n",
              "2 -84.524680  39.102090 -84.523960         0.055   \n",
              "3 -81.537840  41.062170 -81.535470         0.123   \n",
              "4 -84.492792  39.170476 -84.501798         0.500   \n",
              "5 -84.032430  39.067310 -84.058510         1.427   \n",
              "6 -84.186030  39.772750 -84.188050         0.227   \n",
              "7 -81.820170  41.367860 -81.821740         0.521   \n",
              "8 -84.075887  40.699110 -84.084293         0.491   \n",
              "9 -82.968490  40.110780 -82.984000         0.826   \n",
              "\n",
              "                                         Description  ...  Roundabout Station  \\\n",
              "0  Between Sawmill Rd/Exit 20 and OH-315/Olentang...  ...       False   False   \n",
              "1                 At OH-4/OH-235/Exit 41 - Accident.  ...       False   False   \n",
              "2                   At I-71/US-50/Exit 1 - Accident.  ...       False   False   \n",
              "3                    At Dart Ave/Exit 21 - Accident.  ...       False   False   \n",
              "4                 At Mitchell Ave/Exit 6 - Accident.  ...       False   False   \n",
              "5                       At Dela Palma Rd - Accident.  ...       False   False   \n",
              "6                        At OH-4/Exit 54 - Accident.  ...       False   False   \n",
              "7                  At Bagley Rd/Exit 235 - Accident.  ...       False   False   \n",
              "8                      At OH-65/Exit 122 - Accident.  ...       False   False   \n",
              "9                        At I-71/Exit 26 - Accident.  ...       False   False   \n",
              "\n",
              "    Stop Traffic_Calming Traffic_Signal Turning_Loop Sunrise_Sunset  \\\n",
              "0  False           False          False        False          Night   \n",
              "1  False           False          False        False          Night   \n",
              "2  False           False          False        False          Night   \n",
              "3  False           False          False        False          Night   \n",
              "4  False           False          False        False            Day   \n",
              "5  False           False           True        False            Day   \n",
              "6  False           False          False        False            Day   \n",
              "7  False           False          False        False            Day   \n",
              "8  False           False          False        False            Day   \n",
              "9  False           False          False        False            Day   \n",
              "\n",
              "  Civil_Twilight Nautical_Twilight Astronomical_Twilight  \n",
              "0          Night             Night                 Night  \n",
              "1          Night             Night                 Night  \n",
              "2          Night             Night                   Day  \n",
              "3          Night               Day                   Day  \n",
              "4            Day               Day                   Day  \n",
              "5            Day               Day                   Day  \n",
              "6            Day               Day                   Day  \n",
              "7            Day               Day                   Day  \n",
              "8            Day               Day                   Day  \n",
              "9            Day               Day                   Day  \n",
              "\n",
              "[10 rows x 47 columns]"
            ],
            "text/html": [
              "\n",
              "  <div id=\"df-d81267fe-26e6-40f4-b782-c06e9ac681d3\">\n",
              "    <div class=\"colab-df-container\">\n",
              "      <div>\n",
              "<style scoped>\n",
              "    .dataframe tbody tr th:only-of-type {\n",
              "        vertical-align: middle;\n",
              "    }\n",
              "\n",
              "    .dataframe tbody tr th {\n",
              "        vertical-align: top;\n",
              "    }\n",
              "\n",
              "    .dataframe thead th {\n",
              "        text-align: right;\n",
              "    }\n",
              "</style>\n",
              "<table border=\"1\" class=\"dataframe\">\n",
              "  <thead>\n",
              "    <tr style=\"text-align: right;\">\n",
              "      <th></th>\n",
              "      <th>ID</th>\n",
              "      <th>Severity</th>\n",
              "      <th>Start_Time</th>\n",
              "      <th>End_Time</th>\n",
              "      <th>Start_Lat</th>\n",
              "      <th>Start_Lng</th>\n",
              "      <th>End_Lat</th>\n",
              "      <th>End_Lng</th>\n",
              "      <th>Distance(mi)</th>\n",
              "      <th>Description</th>\n",
              "      <th>...</th>\n",
              "      <th>Roundabout</th>\n",
              "      <th>Station</th>\n",
              "      <th>Stop</th>\n",
              "      <th>Traffic_Calming</th>\n",
              "      <th>Traffic_Signal</th>\n",
              "      <th>Turning_Loop</th>\n",
              "      <th>Sunrise_Sunset</th>\n",
              "      <th>Civil_Twilight</th>\n",
              "      <th>Nautical_Twilight</th>\n",
              "      <th>Astronomical_Twilight</th>\n",
              "    </tr>\n",
              "  </thead>\n",
              "  <tbody>\n",
              "    <tr>\n",
              "      <th>0</th>\n",
              "      <td>A-1</td>\n",
              "      <td>3</td>\n",
              "      <td>2016-02-08 00:37:08</td>\n",
              "      <td>2016-02-08 06:37:08</td>\n",
              "      <td>40.108910</td>\n",
              "      <td>-83.092860</td>\n",
              "      <td>40.112060</td>\n",
              "      <td>-83.031870</td>\n",
              "      <td>3.230</td>\n",
              "      <td>Between Sawmill Rd/Exit 20 and OH-315/Olentang...</td>\n",
              "      <td>...</td>\n",
              "      <td>False</td>\n",
              "      <td>False</td>\n",
              "      <td>False</td>\n",
              "      <td>False</td>\n",
              "      <td>False</td>\n",
              "      <td>False</td>\n",
              "      <td>Night</td>\n",
              "      <td>Night</td>\n",
              "      <td>Night</td>\n",
              "      <td>Night</td>\n",
              "    </tr>\n",
              "    <tr>\n",
              "      <th>1</th>\n",
              "      <td>A-2</td>\n",
              "      <td>2</td>\n",
              "      <td>2016-02-08 05:56:20</td>\n",
              "      <td>2016-02-08 11:56:20</td>\n",
              "      <td>39.865420</td>\n",
              "      <td>-84.062800</td>\n",
              "      <td>39.865010</td>\n",
              "      <td>-84.048730</td>\n",
              "      <td>0.747</td>\n",
              "      <td>At OH-4/OH-235/Exit 41 - Accident.</td>\n",
              "      <td>...</td>\n",
              "      <td>False</td>\n",
              "      <td>False</td>\n",
              "      <td>False</td>\n",
              "      <td>False</td>\n",
              "      <td>False</td>\n",
              "      <td>False</td>\n",
              "      <td>Night</td>\n",
              "      <td>Night</td>\n",
              "      <td>Night</td>\n",
              "      <td>Night</td>\n",
              "    </tr>\n",
              "    <tr>\n",
              "      <th>2</th>\n",
              "      <td>A-3</td>\n",
              "      <td>2</td>\n",
              "      <td>2016-02-08 06:15:39</td>\n",
              "      <td>2016-02-08 12:15:39</td>\n",
              "      <td>39.102660</td>\n",
              "      <td>-84.524680</td>\n",
              "      <td>39.102090</td>\n",
              "      <td>-84.523960</td>\n",
              "      <td>0.055</td>\n",
              "      <td>At I-71/US-50/Exit 1 - Accident.</td>\n",
              "      <td>...</td>\n",
              "      <td>False</td>\n",
              "      <td>False</td>\n",
              "      <td>False</td>\n",
              "      <td>False</td>\n",
              "      <td>False</td>\n",
              "      <td>False</td>\n",
              "      <td>Night</td>\n",
              "      <td>Night</td>\n",
              "      <td>Night</td>\n",
              "      <td>Day</td>\n",
              "    </tr>\n",
              "    <tr>\n",
              "      <th>3</th>\n",
              "      <td>A-4</td>\n",
              "      <td>2</td>\n",
              "      <td>2016-02-08 06:51:45</td>\n",
              "      <td>2016-02-08 12:51:45</td>\n",
              "      <td>41.062130</td>\n",
              "      <td>-81.537840</td>\n",
              "      <td>41.062170</td>\n",
              "      <td>-81.535470</td>\n",
              "      <td>0.123</td>\n",
              "      <td>At Dart Ave/Exit 21 - Accident.</td>\n",
              "      <td>...</td>\n",
              "      <td>False</td>\n",
              "      <td>False</td>\n",
              "      <td>False</td>\n",
              "      <td>False</td>\n",
              "      <td>False</td>\n",
              "      <td>False</td>\n",
              "      <td>Night</td>\n",
              "      <td>Night</td>\n",
              "      <td>Day</td>\n",
              "      <td>Day</td>\n",
              "    </tr>\n",
              "    <tr>\n",
              "      <th>4</th>\n",
              "      <td>A-5</td>\n",
              "      <td>3</td>\n",
              "      <td>2016-02-08 07:53:43</td>\n",
              "      <td>2016-02-08 13:53:43</td>\n",
              "      <td>39.172393</td>\n",
              "      <td>-84.492792</td>\n",
              "      <td>39.170476</td>\n",
              "      <td>-84.501798</td>\n",
              "      <td>0.500</td>\n",
              "      <td>At Mitchell Ave/Exit 6 - Accident.</td>\n",
              "      <td>...</td>\n",
              "      <td>False</td>\n",
              "      <td>False</td>\n",
              "      <td>False</td>\n",
              "      <td>False</td>\n",
              "      <td>False</td>\n",
              "      <td>False</td>\n",
              "      <td>Day</td>\n",
              "      <td>Day</td>\n",
              "      <td>Day</td>\n",
              "      <td>Day</td>\n",
              "    </tr>\n",
              "    <tr>\n",
              "      <th>5</th>\n",
              "      <td>A-6</td>\n",
              "      <td>2</td>\n",
              "      <td>2016-02-08 08:16:57</td>\n",
              "      <td>2016-02-08 14:16:57</td>\n",
              "      <td>39.063240</td>\n",
              "      <td>-84.032430</td>\n",
              "      <td>39.067310</td>\n",
              "      <td>-84.058510</td>\n",
              "      <td>1.427</td>\n",
              "      <td>At Dela Palma Rd - Accident.</td>\n",
              "      <td>...</td>\n",
              "      <td>False</td>\n",
              "      <td>False</td>\n",
              "      <td>False</td>\n",
              "      <td>False</td>\n",
              "      <td>True</td>\n",
              "      <td>False</td>\n",
              "      <td>Day</td>\n",
              "      <td>Day</td>\n",
              "      <td>Day</td>\n",
              "      <td>Day</td>\n",
              "    </tr>\n",
              "    <tr>\n",
              "      <th>6</th>\n",
              "      <td>A-7</td>\n",
              "      <td>2</td>\n",
              "      <td>2016-02-08 08:15:41</td>\n",
              "      <td>2016-02-08 14:15:41</td>\n",
              "      <td>39.775650</td>\n",
              "      <td>-84.186030</td>\n",
              "      <td>39.772750</td>\n",
              "      <td>-84.188050</td>\n",
              "      <td>0.227</td>\n",
              "      <td>At OH-4/Exit 54 - Accident.</td>\n",
              "      <td>...</td>\n",
              "      <td>False</td>\n",
              "      <td>False</td>\n",
              "      <td>False</td>\n",
              "      <td>False</td>\n",
              "      <td>False</td>\n",
              "      <td>False</td>\n",
              "      <td>Day</td>\n",
              "      <td>Day</td>\n",
              "      <td>Day</td>\n",
              "      <td>Day</td>\n",
              "    </tr>\n",
              "    <tr>\n",
              "      <th>7</th>\n",
              "      <td>A-8</td>\n",
              "      <td>2</td>\n",
              "      <td>2016-02-08 11:51:46</td>\n",
              "      <td>2016-02-08 17:51:46</td>\n",
              "      <td>41.375310</td>\n",
              "      <td>-81.820170</td>\n",
              "      <td>41.367860</td>\n",
              "      <td>-81.821740</td>\n",
              "      <td>0.521</td>\n",
              "      <td>At Bagley Rd/Exit 235 - Accident.</td>\n",
              "      <td>...</td>\n",
              "      <td>False</td>\n",
              "      <td>False</td>\n",
              "      <td>False</td>\n",
              "      <td>False</td>\n",
              "      <td>False</td>\n",
              "      <td>False</td>\n",
              "      <td>Day</td>\n",
              "      <td>Day</td>\n",
              "      <td>Day</td>\n",
              "      <td>Day</td>\n",
              "    </tr>\n",
              "    <tr>\n",
              "      <th>8</th>\n",
              "      <td>A-9</td>\n",
              "      <td>2</td>\n",
              "      <td>2016-02-08 14:19:57</td>\n",
              "      <td>2016-02-08 20:19:57</td>\n",
              "      <td>40.702247</td>\n",
              "      <td>-84.075887</td>\n",
              "      <td>40.699110</td>\n",
              "      <td>-84.084293</td>\n",
              "      <td>0.491</td>\n",
              "      <td>At OH-65/Exit 122 - Accident.</td>\n",
              "      <td>...</td>\n",
              "      <td>False</td>\n",
              "      <td>False</td>\n",
              "      <td>False</td>\n",
              "      <td>False</td>\n",
              "      <td>False</td>\n",
              "      <td>False</td>\n",
              "      <td>Day</td>\n",
              "      <td>Day</td>\n",
              "      <td>Day</td>\n",
              "      <td>Day</td>\n",
              "    </tr>\n",
              "    <tr>\n",
              "      <th>9</th>\n",
              "      <td>A-10</td>\n",
              "      <td>2</td>\n",
              "      <td>2016-02-08 15:16:43</td>\n",
              "      <td>2016-02-08 21:16:43</td>\n",
              "      <td>40.109310</td>\n",
              "      <td>-82.968490</td>\n",
              "      <td>40.110780</td>\n",
              "      <td>-82.984000</td>\n",
              "      <td>0.826</td>\n",
              "      <td>At I-71/Exit 26 - Accident.</td>\n",
              "      <td>...</td>\n",
              "      <td>False</td>\n",
              "      <td>False</td>\n",
              "      <td>False</td>\n",
              "      <td>False</td>\n",
              "      <td>False</td>\n",
              "      <td>False</td>\n",
              "      <td>Day</td>\n",
              "      <td>Day</td>\n",
              "      <td>Day</td>\n",
              "      <td>Day</td>\n",
              "    </tr>\n",
              "  </tbody>\n",
              "</table>\n",
              "<p>10 rows × 47 columns</p>\n",
              "</div>\n",
              "      <button class=\"colab-df-convert\" onclick=\"convertToInteractive('df-d81267fe-26e6-40f4-b782-c06e9ac681d3')\"\n",
              "              title=\"Convert this dataframe to an interactive table.\"\n",
              "              style=\"display:none;\">\n",
              "        \n",
              "  <svg xmlns=\"http://www.w3.org/2000/svg\" height=\"24px\"viewBox=\"0 0 24 24\"\n",
              "       width=\"24px\">\n",
              "    <path d=\"M0 0h24v24H0V0z\" fill=\"none\"/>\n",
              "    <path d=\"M18.56 5.44l.94 2.06.94-2.06 2.06-.94-2.06-.94-.94-2.06-.94 2.06-2.06.94zm-11 1L8.5 8.5l.94-2.06 2.06-.94-2.06-.94L8.5 2.5l-.94 2.06-2.06.94zm10 10l.94 2.06.94-2.06 2.06-.94-2.06-.94-.94-2.06-.94 2.06-2.06.94z\"/><path d=\"M17.41 7.96l-1.37-1.37c-.4-.4-.92-.59-1.43-.59-.52 0-1.04.2-1.43.59L10.3 9.45l-7.72 7.72c-.78.78-.78 2.05 0 2.83L4 21.41c.39.39.9.59 1.41.59.51 0 1.02-.2 1.41-.59l7.78-7.78 2.81-2.81c.8-.78.8-2.07 0-2.86zM5.41 20L4 18.59l7.72-7.72 1.47 1.35L5.41 20z\"/>\n",
              "  </svg>\n",
              "      </button>\n",
              "      \n",
              "  <style>\n",
              "    .colab-df-container {\n",
              "      display:flex;\n",
              "      flex-wrap:wrap;\n",
              "      gap: 12px;\n",
              "    }\n",
              "\n",
              "    .colab-df-convert {\n",
              "      background-color: #E8F0FE;\n",
              "      border: none;\n",
              "      border-radius: 50%;\n",
              "      cursor: pointer;\n",
              "      display: none;\n",
              "      fill: #1967D2;\n",
              "      height: 32px;\n",
              "      padding: 0 0 0 0;\n",
              "      width: 32px;\n",
              "    }\n",
              "\n",
              "    .colab-df-convert:hover {\n",
              "      background-color: #E2EBFA;\n",
              "      box-shadow: 0px 1px 2px rgba(60, 64, 67, 0.3), 0px 1px 3px 1px rgba(60, 64, 67, 0.15);\n",
              "      fill: #174EA6;\n",
              "    }\n",
              "\n",
              "    [theme=dark] .colab-df-convert {\n",
              "      background-color: #3B4455;\n",
              "      fill: #D2E3FC;\n",
              "    }\n",
              "\n",
              "    [theme=dark] .colab-df-convert:hover {\n",
              "      background-color: #434B5C;\n",
              "      box-shadow: 0px 1px 3px 1px rgba(0, 0, 0, 0.15);\n",
              "      filter: drop-shadow(0px 1px 2px rgba(0, 0, 0, 0.3));\n",
              "      fill: #FFFFFF;\n",
              "    }\n",
              "  </style>\n",
              "\n",
              "      <script>\n",
              "        const buttonEl =\n",
              "          document.querySelector('#df-d81267fe-26e6-40f4-b782-c06e9ac681d3 button.colab-df-convert');\n",
              "        buttonEl.style.display =\n",
              "          google.colab.kernel.accessAllowed ? 'block' : 'none';\n",
              "\n",
              "        async function convertToInteractive(key) {\n",
              "          const element = document.querySelector('#df-d81267fe-26e6-40f4-b782-c06e9ac681d3');\n",
              "          const dataTable =\n",
              "            await google.colab.kernel.invokeFunction('convertToInteractive',\n",
              "                                                     [key], {});\n",
              "          if (!dataTable) return;\n",
              "\n",
              "          const docLinkHtml = 'Like what you see? Visit the ' +\n",
              "            '<a target=\"_blank\" href=https://colab.research.google.com/notebooks/data_table.ipynb>data table notebook</a>'\n",
              "            + ' to learn more about interactive tables.';\n",
              "          element.innerHTML = '';\n",
              "          dataTable['output_type'] = 'display_data';\n",
              "          await google.colab.output.renderOutput(dataTable, element);\n",
              "          const docLink = document.createElement('div');\n",
              "          docLink.innerHTML = docLinkHtml;\n",
              "          element.appendChild(docLink);\n",
              "        }\n",
              "      </script>\n",
              "    </div>\n",
              "  </div>\n",
              "  "
            ]
          },
          "metadata": {},
          "execution_count": 20
        }
      ]
    },
    {
      "cell_type": "code",
      "source": [
        "df.count() # Sum of non-null entries by Column"
      ],
      "metadata": {
        "colab": {
          "base_uri": "https://localhost:8080/"
        },
        "id": "Z-xveJm0H9UD",
        "outputId": "acfce487-54a9-4387-cb9d-f1540848ec3f"
      },
      "execution_count": null,
      "outputs": [
        {
          "output_type": "execute_result",
          "data": {
            "text/plain": [
              "ID                       96520\n",
              "Severity                 96520\n",
              "Start_Time               96520\n",
              "End_Time                 96520\n",
              "Start_Lat                96520\n",
              "Start_Lng                96520\n",
              "End_Lat                  96520\n",
              "End_Lng                  96520\n",
              "Distance(mi)             96520\n",
              "Description              96520\n",
              "Number                   20245\n",
              "Street                   96520\n",
              "Side                     96520\n",
              "City                     96506\n",
              "County                   96520\n",
              "State                    96520\n",
              "Zipcode                  96462\n",
              "Country                  96520\n",
              "Timezone                 96450\n",
              "Airport_Code             96336\n",
              "Weather_Timestamp        95693\n",
              "Temperature(F)           94286\n",
              "Wind_Chill(F)            17160\n",
              "Humidity(%)              94201\n",
              "Pressure(in)             94807\n",
              "Visibility(mi)           94012\n",
              "Wind_Direction           95682\n",
              "Wind_Speed(mph)          80629\n",
              "Precipitation(in)        10969\n",
              "Weather_Condition        94086\n",
              "Amenity                  96520\n",
              "Bump                     96520\n",
              "Crossing                 96520\n",
              "Give_Way                 96520\n",
              "Junction                 96520\n",
              "No_Exit                  96520\n",
              "Railway                  96520\n",
              "Roundabout               96520\n",
              "Station                  96520\n",
              "Stop                     96520\n",
              "Traffic_Calming          96520\n",
              "Traffic_Signal           96520\n",
              "Turning_Loop             96520\n",
              "Sunrise_Sunset           96506\n",
              "Civil_Twilight           96505\n",
              "Nautical_Twilight        96505\n",
              "Astronomical_Twilight    96505\n",
              "dtype: int64"
            ]
          },
          "metadata": {},
          "execution_count": 21
        }
      ]
    },
    {
      "cell_type": "code",
      "source": [
        "df.isnull().sum() # Sum of null entries by Column"
      ],
      "metadata": {
        "colab": {
          "base_uri": "https://localhost:8080/"
        },
        "id": "KzQiAokLH9Rp",
        "outputId": "26f9f171-2a77-4628-8586-c63693076ae9"
      },
      "execution_count": null,
      "outputs": [
        {
          "output_type": "execute_result",
          "data": {
            "text/plain": [
              "ID                           0\n",
              "Severity                     0\n",
              "Start_Time                   0\n",
              "End_Time                     0\n",
              "Start_Lat                    0\n",
              "Start_Lng                    0\n",
              "End_Lat                      0\n",
              "End_Lng                      0\n",
              "Distance(mi)                 0\n",
              "Description                  0\n",
              "Number                   76275\n",
              "Street                       0\n",
              "Side                         0\n",
              "City                        14\n",
              "County                       0\n",
              "State                        0\n",
              "Zipcode                     58\n",
              "Country                      0\n",
              "Timezone                    70\n",
              "Airport_Code               184\n",
              "Weather_Timestamp          827\n",
              "Temperature(F)            2234\n",
              "Wind_Chill(F)            79360\n",
              "Humidity(%)               2319\n",
              "Pressure(in)              1713\n",
              "Visibility(mi)            2508\n",
              "Wind_Direction             838\n",
              "Wind_Speed(mph)          15891\n",
              "Precipitation(in)        85551\n",
              "Weather_Condition         2434\n",
              "Amenity                      0\n",
              "Bump                         0\n",
              "Crossing                     0\n",
              "Give_Way                     0\n",
              "Junction                     0\n",
              "No_Exit                      0\n",
              "Railway                      0\n",
              "Roundabout                   0\n",
              "Station                      0\n",
              "Stop                         0\n",
              "Traffic_Calming              0\n",
              "Traffic_Signal               0\n",
              "Turning_Loop                 0\n",
              "Sunrise_Sunset              14\n",
              "Civil_Twilight              15\n",
              "Nautical_Twilight           15\n",
              "Astronomical_Twilight       15\n",
              "dtype: int64"
            ]
          },
          "metadata": {},
          "execution_count": 22
        }
      ]
    },
    {
      "cell_type": "code",
      "source": [
        "len(df) # Total # Rows"
      ],
      "metadata": {
        "colab": {
          "base_uri": "https://localhost:8080/"
        },
        "id": "Q8UhVmzPH9PR",
        "outputId": "d8e3a903-2d6c-4df4-e6ad-ec8a3d976efc"
      },
      "execution_count": null,
      "outputs": [
        {
          "output_type": "execute_result",
          "data": {
            "text/plain": [
              "96520"
            ]
          },
          "metadata": {},
          "execution_count": 23
        }
      ]
    },
    {
      "cell_type": "code",
      "source": [
        "df.count() / len(df) # fraction of Valid rows"
      ],
      "metadata": {
        "colab": {
          "base_uri": "https://localhost:8080/"
        },
        "id": "fMu2e9XTH9Mj",
        "outputId": "bbe98c3e-6834-4fd6-bcce-181efbc27bf3"
      },
      "execution_count": null,
      "outputs": [
        {
          "output_type": "execute_result",
          "data": {
            "text/plain": [
              "ID                       1.000000\n",
              "Severity                 1.000000\n",
              "Start_Time               1.000000\n",
              "End_Time                 1.000000\n",
              "Start_Lat                1.000000\n",
              "Start_Lng                1.000000\n",
              "End_Lat                  1.000000\n",
              "End_Lng                  1.000000\n",
              "Distance(mi)             1.000000\n",
              "Description              1.000000\n",
              "Number                   0.209749\n",
              "Street                   1.000000\n",
              "Side                     1.000000\n",
              "City                     0.999855\n",
              "County                   1.000000\n",
              "State                    1.000000\n",
              "Zipcode                  0.999399\n",
              "Country                  1.000000\n",
              "Timezone                 0.999275\n",
              "Airport_Code             0.998094\n",
              "Weather_Timestamp        0.991432\n",
              "Temperature(F)           0.976855\n",
              "Wind_Chill(F)            0.177787\n",
              "Humidity(%)              0.975974\n",
              "Pressure(in)             0.982252\n",
              "Visibility(mi)           0.974016\n",
              "Wind_Direction           0.991318\n",
              "Wind_Speed(mph)          0.835361\n",
              "Precipitation(in)        0.113645\n",
              "Weather_Condition        0.974782\n",
              "Amenity                  1.000000\n",
              "Bump                     1.000000\n",
              "Crossing                 1.000000\n",
              "Give_Way                 1.000000\n",
              "Junction                 1.000000\n",
              "No_Exit                  1.000000\n",
              "Railway                  1.000000\n",
              "Roundabout               1.000000\n",
              "Station                  1.000000\n",
              "Stop                     1.000000\n",
              "Traffic_Calming          1.000000\n",
              "Traffic_Signal           1.000000\n",
              "Turning_Loop             1.000000\n",
              "Sunrise_Sunset           0.999855\n",
              "Civil_Twilight           0.999845\n",
              "Nautical_Twilight        0.999845\n",
              "Astronomical_Twilight    0.999845\n",
              "dtype: float64"
            ]
          },
          "metadata": {},
          "execution_count": 24
        }
      ]
    },
    {
      "cell_type": "code",
      "source": [
        "df.describe() # Stats on the numeric columns (but not for character columns)"
      ],
      "metadata": {
        "colab": {
          "base_uri": "https://localhost:8080/",
          "height": 300
        },
        "id": "_fyVqlUKH9G7",
        "outputId": "d454b8d5-b9e9-47d1-fdf8-fe743424d181"
      },
      "execution_count": null,
      "outputs": [
        {
          "output_type": "execute_result",
          "data": {
            "text/plain": [
              "           Severity     Start_Lat     Start_Lng       End_Lat       End_Lng  \\\n",
              "count  96520.000000  96520.000000  96520.000000  96520.000000  96520.000000   \n",
              "mean       2.455823     36.797986    -90.091095     36.798089    -90.090855   \n",
              "std        0.714063      5.036902     13.936395      5.037083     13.936436   \n",
              "min        2.000000     25.129476   -123.526160     25.130927   -123.526160   \n",
              "25%        2.000000     33.353300    -96.147824     33.353840    -96.155710   \n",
              "50%        2.000000     38.017016    -86.732000     38.016951    -86.733050   \n",
              "75%        3.000000     40.952083    -80.312195     40.950630    -80.310970   \n",
              "max        4.000000     48.564331    -67.849851     48.580446    -67.849870   \n",
              "\n",
              "       Distance(mi)         Number  Temperature(F)  Wind_Chill(F)  \\\n",
              "count  96520.000000   20245.000000    94286.000000   17160.000000   \n",
              "mean       0.796531    6585.883873       63.756867      26.679295   \n",
              "std        1.923638   11732.865270       20.187462      17.953066   \n",
              "min        0.000000       1.000000      -20.200000     -41.500000   \n",
              "25%        0.145000     998.000000       51.100000      16.600000   \n",
              "50%        0.406000    3392.000000       68.000000      28.500000   \n",
              "75%        0.737000    8298.000000       79.000000      36.800000   \n",
              "max      151.525000  851799.000000      129.200000     101.000000   \n",
              "\n",
              "        Humidity(%)  Pressure(in)  Visibility(mi)  Wind_Speed(mph)  \\\n",
              "count  94201.000000  94807.000000    94012.000000     80629.000000   \n",
              "mean      66.054384     30.024372        9.388077         8.959491   \n",
              "std       20.683619      0.320690        3.254193         6.111989   \n",
              "min        4.000000     20.410000        0.000000         0.000000   \n",
              "25%       51.000000     29.920000       10.000000         5.800000   \n",
              "50%       67.000000     30.030000       10.000000         8.100000   \n",
              "75%       83.000000     30.140000       10.000000        11.500000   \n",
              "max      100.000000     30.920000      111.000000       822.800000   \n",
              "\n",
              "       Precipitation(in)  \n",
              "count       10969.000000  \n",
              "mean            0.072018  \n",
              "std             0.537031  \n",
              "min             0.000000  \n",
              "25%             0.000000  \n",
              "50%             0.010000  \n",
              "75%             0.030000  \n",
              "max            10.020000  "
            ],
            "text/html": [
              "\n",
              "  <div id=\"df-17cc56d0-aff4-4e94-a64a-a081f7021905\">\n",
              "    <div class=\"colab-df-container\">\n",
              "      <div>\n",
              "<style scoped>\n",
              "    .dataframe tbody tr th:only-of-type {\n",
              "        vertical-align: middle;\n",
              "    }\n",
              "\n",
              "    .dataframe tbody tr th {\n",
              "        vertical-align: top;\n",
              "    }\n",
              "\n",
              "    .dataframe thead th {\n",
              "        text-align: right;\n",
              "    }\n",
              "</style>\n",
              "<table border=\"1\" class=\"dataframe\">\n",
              "  <thead>\n",
              "    <tr style=\"text-align: right;\">\n",
              "      <th></th>\n",
              "      <th>Severity</th>\n",
              "      <th>Start_Lat</th>\n",
              "      <th>Start_Lng</th>\n",
              "      <th>End_Lat</th>\n",
              "      <th>End_Lng</th>\n",
              "      <th>Distance(mi)</th>\n",
              "      <th>Number</th>\n",
              "      <th>Temperature(F)</th>\n",
              "      <th>Wind_Chill(F)</th>\n",
              "      <th>Humidity(%)</th>\n",
              "      <th>Pressure(in)</th>\n",
              "      <th>Visibility(mi)</th>\n",
              "      <th>Wind_Speed(mph)</th>\n",
              "      <th>Precipitation(in)</th>\n",
              "    </tr>\n",
              "  </thead>\n",
              "  <tbody>\n",
              "    <tr>\n",
              "      <th>count</th>\n",
              "      <td>96520.000000</td>\n",
              "      <td>96520.000000</td>\n",
              "      <td>96520.000000</td>\n",
              "      <td>96520.000000</td>\n",
              "      <td>96520.000000</td>\n",
              "      <td>96520.000000</td>\n",
              "      <td>20245.000000</td>\n",
              "      <td>94286.000000</td>\n",
              "      <td>17160.000000</td>\n",
              "      <td>94201.000000</td>\n",
              "      <td>94807.000000</td>\n",
              "      <td>94012.000000</td>\n",
              "      <td>80629.000000</td>\n",
              "      <td>10969.000000</td>\n",
              "    </tr>\n",
              "    <tr>\n",
              "      <th>mean</th>\n",
              "      <td>2.455823</td>\n",
              "      <td>36.797986</td>\n",
              "      <td>-90.091095</td>\n",
              "      <td>36.798089</td>\n",
              "      <td>-90.090855</td>\n",
              "      <td>0.796531</td>\n",
              "      <td>6585.883873</td>\n",
              "      <td>63.756867</td>\n",
              "      <td>26.679295</td>\n",
              "      <td>66.054384</td>\n",
              "      <td>30.024372</td>\n",
              "      <td>9.388077</td>\n",
              "      <td>8.959491</td>\n",
              "      <td>0.072018</td>\n",
              "    </tr>\n",
              "    <tr>\n",
              "      <th>std</th>\n",
              "      <td>0.714063</td>\n",
              "      <td>5.036902</td>\n",
              "      <td>13.936395</td>\n",
              "      <td>5.037083</td>\n",
              "      <td>13.936436</td>\n",
              "      <td>1.923638</td>\n",
              "      <td>11732.865270</td>\n",
              "      <td>20.187462</td>\n",
              "      <td>17.953066</td>\n",
              "      <td>20.683619</td>\n",
              "      <td>0.320690</td>\n",
              "      <td>3.254193</td>\n",
              "      <td>6.111989</td>\n",
              "      <td>0.537031</td>\n",
              "    </tr>\n",
              "    <tr>\n",
              "      <th>min</th>\n",
              "      <td>2.000000</td>\n",
              "      <td>25.129476</td>\n",
              "      <td>-123.526160</td>\n",
              "      <td>25.130927</td>\n",
              "      <td>-123.526160</td>\n",
              "      <td>0.000000</td>\n",
              "      <td>1.000000</td>\n",
              "      <td>-20.200000</td>\n",
              "      <td>-41.500000</td>\n",
              "      <td>4.000000</td>\n",
              "      <td>20.410000</td>\n",
              "      <td>0.000000</td>\n",
              "      <td>0.000000</td>\n",
              "      <td>0.000000</td>\n",
              "    </tr>\n",
              "    <tr>\n",
              "      <th>25%</th>\n",
              "      <td>2.000000</td>\n",
              "      <td>33.353300</td>\n",
              "      <td>-96.147824</td>\n",
              "      <td>33.353840</td>\n",
              "      <td>-96.155710</td>\n",
              "      <td>0.145000</td>\n",
              "      <td>998.000000</td>\n",
              "      <td>51.100000</td>\n",
              "      <td>16.600000</td>\n",
              "      <td>51.000000</td>\n",
              "      <td>29.920000</td>\n",
              "      <td>10.000000</td>\n",
              "      <td>5.800000</td>\n",
              "      <td>0.000000</td>\n",
              "    </tr>\n",
              "    <tr>\n",
              "      <th>50%</th>\n",
              "      <td>2.000000</td>\n",
              "      <td>38.017016</td>\n",
              "      <td>-86.732000</td>\n",
              "      <td>38.016951</td>\n",
              "      <td>-86.733050</td>\n",
              "      <td>0.406000</td>\n",
              "      <td>3392.000000</td>\n",
              "      <td>68.000000</td>\n",
              "      <td>28.500000</td>\n",
              "      <td>67.000000</td>\n",
              "      <td>30.030000</td>\n",
              "      <td>10.000000</td>\n",
              "      <td>8.100000</td>\n",
              "      <td>0.010000</td>\n",
              "    </tr>\n",
              "    <tr>\n",
              "      <th>75%</th>\n",
              "      <td>3.000000</td>\n",
              "      <td>40.952083</td>\n",
              "      <td>-80.312195</td>\n",
              "      <td>40.950630</td>\n",
              "      <td>-80.310970</td>\n",
              "      <td>0.737000</td>\n",
              "      <td>8298.000000</td>\n",
              "      <td>79.000000</td>\n",
              "      <td>36.800000</td>\n",
              "      <td>83.000000</td>\n",
              "      <td>30.140000</td>\n",
              "      <td>10.000000</td>\n",
              "      <td>11.500000</td>\n",
              "      <td>0.030000</td>\n",
              "    </tr>\n",
              "    <tr>\n",
              "      <th>max</th>\n",
              "      <td>4.000000</td>\n",
              "      <td>48.564331</td>\n",
              "      <td>-67.849851</td>\n",
              "      <td>48.580446</td>\n",
              "      <td>-67.849870</td>\n",
              "      <td>151.525000</td>\n",
              "      <td>851799.000000</td>\n",
              "      <td>129.200000</td>\n",
              "      <td>101.000000</td>\n",
              "      <td>100.000000</td>\n",
              "      <td>30.920000</td>\n",
              "      <td>111.000000</td>\n",
              "      <td>822.800000</td>\n",
              "      <td>10.020000</td>\n",
              "    </tr>\n",
              "  </tbody>\n",
              "</table>\n",
              "</div>\n",
              "      <button class=\"colab-df-convert\" onclick=\"convertToInteractive('df-17cc56d0-aff4-4e94-a64a-a081f7021905')\"\n",
              "              title=\"Convert this dataframe to an interactive table.\"\n",
              "              style=\"display:none;\">\n",
              "        \n",
              "  <svg xmlns=\"http://www.w3.org/2000/svg\" height=\"24px\"viewBox=\"0 0 24 24\"\n",
              "       width=\"24px\">\n",
              "    <path d=\"M0 0h24v24H0V0z\" fill=\"none\"/>\n",
              "    <path d=\"M18.56 5.44l.94 2.06.94-2.06 2.06-.94-2.06-.94-.94-2.06-.94 2.06-2.06.94zm-11 1L8.5 8.5l.94-2.06 2.06-.94-2.06-.94L8.5 2.5l-.94 2.06-2.06.94zm10 10l.94 2.06.94-2.06 2.06-.94-2.06-.94-.94-2.06-.94 2.06-2.06.94z\"/><path d=\"M17.41 7.96l-1.37-1.37c-.4-.4-.92-.59-1.43-.59-.52 0-1.04.2-1.43.59L10.3 9.45l-7.72 7.72c-.78.78-.78 2.05 0 2.83L4 21.41c.39.39.9.59 1.41.59.51 0 1.02-.2 1.41-.59l7.78-7.78 2.81-2.81c.8-.78.8-2.07 0-2.86zM5.41 20L4 18.59l7.72-7.72 1.47 1.35L5.41 20z\"/>\n",
              "  </svg>\n",
              "      </button>\n",
              "      \n",
              "  <style>\n",
              "    .colab-df-container {\n",
              "      display:flex;\n",
              "      flex-wrap:wrap;\n",
              "      gap: 12px;\n",
              "    }\n",
              "\n",
              "    .colab-df-convert {\n",
              "      background-color: #E8F0FE;\n",
              "      border: none;\n",
              "      border-radius: 50%;\n",
              "      cursor: pointer;\n",
              "      display: none;\n",
              "      fill: #1967D2;\n",
              "      height: 32px;\n",
              "      padding: 0 0 0 0;\n",
              "      width: 32px;\n",
              "    }\n",
              "\n",
              "    .colab-df-convert:hover {\n",
              "      background-color: #E2EBFA;\n",
              "      box-shadow: 0px 1px 2px rgba(60, 64, 67, 0.3), 0px 1px 3px 1px rgba(60, 64, 67, 0.15);\n",
              "      fill: #174EA6;\n",
              "    }\n",
              "\n",
              "    [theme=dark] .colab-df-convert {\n",
              "      background-color: #3B4455;\n",
              "      fill: #D2E3FC;\n",
              "    }\n",
              "\n",
              "    [theme=dark] .colab-df-convert:hover {\n",
              "      background-color: #434B5C;\n",
              "      box-shadow: 0px 1px 3px 1px rgba(0, 0, 0, 0.15);\n",
              "      filter: drop-shadow(0px 1px 2px rgba(0, 0, 0, 0.3));\n",
              "      fill: #FFFFFF;\n",
              "    }\n",
              "  </style>\n",
              "\n",
              "      <script>\n",
              "        const buttonEl =\n",
              "          document.querySelector('#df-17cc56d0-aff4-4e94-a64a-a081f7021905 button.colab-df-convert');\n",
              "        buttonEl.style.display =\n",
              "          google.colab.kernel.accessAllowed ? 'block' : 'none';\n",
              "\n",
              "        async function convertToInteractive(key) {\n",
              "          const element = document.querySelector('#df-17cc56d0-aff4-4e94-a64a-a081f7021905');\n",
              "          const dataTable =\n",
              "            await google.colab.kernel.invokeFunction('convertToInteractive',\n",
              "                                                     [key], {});\n",
              "          if (!dataTable) return;\n",
              "\n",
              "          const docLinkHtml = 'Like what you see? Visit the ' +\n",
              "            '<a target=\"_blank\" href=https://colab.research.google.com/notebooks/data_table.ipynb>data table notebook</a>'\n",
              "            + ' to learn more about interactive tables.';\n",
              "          element.innerHTML = '';\n",
              "          dataTable['output_type'] = 'display_data';\n",
              "          await google.colab.output.renderOutput(dataTable, element);\n",
              "          const docLink = document.createElement('div');\n",
              "          docLink.innerHTML = docLinkHtml;\n",
              "          element.appendChild(docLink);\n",
              "        }\n",
              "      </script>\n",
              "    </div>\n",
              "  </div>\n",
              "  "
            ]
          },
          "metadata": {},
          "execution_count": 25
        }
      ]
    },
    {
      "cell_type": "code",
      "source": [
        "# Create a dummy column\n",
        "df[\"Percent\"] = df[\"DiscountedPrice\"]*100/df[\"Price\"]\n",
        "df.head(10)"
      ],
      "metadata": {
        "colab": {
          "base_uri": "https://localhost:8080/",
          "height": 502
        },
        "id": "dgLcL3vbH8-P",
        "outputId": "df224f26-d318-4c08-9a6a-02bc8657d849"
      },
      "execution_count": null,
      "outputs": [
        {
          "output_type": "error",
          "ename": "KeyError",
          "evalue": "ignored",
          "traceback": [
            "\u001b[0;31m---------------------------------------------------------------------------\u001b[0m",
            "\u001b[0;31mKeyError\u001b[0m                                  Traceback (most recent call last)",
            "\u001b[0;32m/usr/local/lib/python3.9/dist-packages/pandas/core/indexes/base.py\u001b[0m in \u001b[0;36mget_loc\u001b[0;34m(self, key, method, tolerance)\u001b[0m\n\u001b[1;32m   3628\u001b[0m             \u001b[0;32mtry\u001b[0m\u001b[0;34m:\u001b[0m\u001b[0;34m\u001b[0m\u001b[0;34m\u001b[0m\u001b[0m\n\u001b[0;32m-> 3629\u001b[0;31m                 \u001b[0;32mreturn\u001b[0m \u001b[0mself\u001b[0m\u001b[0;34m.\u001b[0m\u001b[0m_engine\u001b[0m\u001b[0;34m.\u001b[0m\u001b[0mget_loc\u001b[0m\u001b[0;34m(\u001b[0m\u001b[0mcasted_key\u001b[0m\u001b[0;34m)\u001b[0m\u001b[0;34m\u001b[0m\u001b[0;34m\u001b[0m\u001b[0m\n\u001b[0m\u001b[1;32m   3630\u001b[0m             \u001b[0;32mexcept\u001b[0m \u001b[0mKeyError\u001b[0m \u001b[0;32mas\u001b[0m \u001b[0merr\u001b[0m\u001b[0;34m:\u001b[0m\u001b[0;34m\u001b[0m\u001b[0;34m\u001b[0m\u001b[0m\n",
            "\u001b[0;32m/usr/local/lib/python3.9/dist-packages/pandas/_libs/index.pyx\u001b[0m in \u001b[0;36mpandas._libs.index.IndexEngine.get_loc\u001b[0;34m()\u001b[0m\n",
            "\u001b[0;32m/usr/local/lib/python3.9/dist-packages/pandas/_libs/index.pyx\u001b[0m in \u001b[0;36mpandas._libs.index.IndexEngine.get_loc\u001b[0;34m()\u001b[0m\n",
            "\u001b[0;32mpandas/_libs/hashtable_class_helper.pxi\u001b[0m in \u001b[0;36mpandas._libs.hashtable.PyObjectHashTable.get_item\u001b[0;34m()\u001b[0m\n",
            "\u001b[0;32mpandas/_libs/hashtable_class_helper.pxi\u001b[0m in \u001b[0;36mpandas._libs.hashtable.PyObjectHashTable.get_item\u001b[0;34m()\u001b[0m\n",
            "\u001b[0;31mKeyError\u001b[0m: 'DiscountedPrice'",
            "\nThe above exception was the direct cause of the following exception:\n",
            "\u001b[0;31mKeyError\u001b[0m                                  Traceback (most recent call last)",
            "\u001b[0;32m<ipython-input-26-411f1e1e0954>\u001b[0m in \u001b[0;36m<cell line: 2>\u001b[0;34m()\u001b[0m\n\u001b[1;32m      1\u001b[0m \u001b[0;31m# Create a dummy column\u001b[0m\u001b[0;34m\u001b[0m\u001b[0;34m\u001b[0m\u001b[0m\n\u001b[0;32m----> 2\u001b[0;31m \u001b[0mdf\u001b[0m\u001b[0;34m[\u001b[0m\u001b[0;34m\"Percent\"\u001b[0m\u001b[0;34m]\u001b[0m \u001b[0;34m=\u001b[0m \u001b[0mdf\u001b[0m\u001b[0;34m[\u001b[0m\u001b[0;34m\"DiscountedPrice\"\u001b[0m\u001b[0;34m]\u001b[0m\u001b[0;34m*\u001b[0m\u001b[0;36m100\u001b[0m\u001b[0;34m/\u001b[0m\u001b[0mdf\u001b[0m\u001b[0;34m[\u001b[0m\u001b[0;34m\"Price\"\u001b[0m\u001b[0;34m]\u001b[0m\u001b[0;34m\u001b[0m\u001b[0;34m\u001b[0m\u001b[0m\n\u001b[0m\u001b[1;32m      3\u001b[0m \u001b[0mdf\u001b[0m\u001b[0;34m.\u001b[0m\u001b[0mhead\u001b[0m\u001b[0;34m(\u001b[0m\u001b[0;36m10\u001b[0m\u001b[0;34m)\u001b[0m\u001b[0;34m\u001b[0m\u001b[0;34m\u001b[0m\u001b[0m\n",
            "\u001b[0;32m/usr/local/lib/python3.9/dist-packages/pandas/core/frame.py\u001b[0m in \u001b[0;36m__getitem__\u001b[0;34m(self, key)\u001b[0m\n\u001b[1;32m   3503\u001b[0m             \u001b[0;32mif\u001b[0m \u001b[0mself\u001b[0m\u001b[0;34m.\u001b[0m\u001b[0mcolumns\u001b[0m\u001b[0;34m.\u001b[0m\u001b[0mnlevels\u001b[0m \u001b[0;34m>\u001b[0m \u001b[0;36m1\u001b[0m\u001b[0;34m:\u001b[0m\u001b[0;34m\u001b[0m\u001b[0;34m\u001b[0m\u001b[0m\n\u001b[1;32m   3504\u001b[0m                 \u001b[0;32mreturn\u001b[0m \u001b[0mself\u001b[0m\u001b[0;34m.\u001b[0m\u001b[0m_getitem_multilevel\u001b[0m\u001b[0;34m(\u001b[0m\u001b[0mkey\u001b[0m\u001b[0;34m)\u001b[0m\u001b[0;34m\u001b[0m\u001b[0;34m\u001b[0m\u001b[0m\n\u001b[0;32m-> 3505\u001b[0;31m             \u001b[0mindexer\u001b[0m \u001b[0;34m=\u001b[0m \u001b[0mself\u001b[0m\u001b[0;34m.\u001b[0m\u001b[0mcolumns\u001b[0m\u001b[0;34m.\u001b[0m\u001b[0mget_loc\u001b[0m\u001b[0;34m(\u001b[0m\u001b[0mkey\u001b[0m\u001b[0;34m)\u001b[0m\u001b[0;34m\u001b[0m\u001b[0;34m\u001b[0m\u001b[0m\n\u001b[0m\u001b[1;32m   3506\u001b[0m             \u001b[0;32mif\u001b[0m \u001b[0mis_integer\u001b[0m\u001b[0;34m(\u001b[0m\u001b[0mindexer\u001b[0m\u001b[0;34m)\u001b[0m\u001b[0;34m:\u001b[0m\u001b[0;34m\u001b[0m\u001b[0;34m\u001b[0m\u001b[0m\n\u001b[1;32m   3507\u001b[0m                 \u001b[0mindexer\u001b[0m \u001b[0;34m=\u001b[0m \u001b[0;34m[\u001b[0m\u001b[0mindexer\u001b[0m\u001b[0;34m]\u001b[0m\u001b[0;34m\u001b[0m\u001b[0;34m\u001b[0m\u001b[0m\n",
            "\u001b[0;32m/usr/local/lib/python3.9/dist-packages/pandas/core/indexes/base.py\u001b[0m in \u001b[0;36mget_loc\u001b[0;34m(self, key, method, tolerance)\u001b[0m\n\u001b[1;32m   3629\u001b[0m                 \u001b[0;32mreturn\u001b[0m \u001b[0mself\u001b[0m\u001b[0;34m.\u001b[0m\u001b[0m_engine\u001b[0m\u001b[0;34m.\u001b[0m\u001b[0mget_loc\u001b[0m\u001b[0;34m(\u001b[0m\u001b[0mcasted_key\u001b[0m\u001b[0;34m)\u001b[0m\u001b[0;34m\u001b[0m\u001b[0;34m\u001b[0m\u001b[0m\n\u001b[1;32m   3630\u001b[0m             \u001b[0;32mexcept\u001b[0m \u001b[0mKeyError\u001b[0m \u001b[0;32mas\u001b[0m \u001b[0merr\u001b[0m\u001b[0;34m:\u001b[0m\u001b[0;34m\u001b[0m\u001b[0;34m\u001b[0m\u001b[0m\n\u001b[0;32m-> 3631\u001b[0;31m                 \u001b[0;32mraise\u001b[0m \u001b[0mKeyError\u001b[0m\u001b[0;34m(\u001b[0m\u001b[0mkey\u001b[0m\u001b[0;34m)\u001b[0m \u001b[0;32mfrom\u001b[0m \u001b[0merr\u001b[0m\u001b[0;34m\u001b[0m\u001b[0;34m\u001b[0m\u001b[0m\n\u001b[0m\u001b[1;32m   3632\u001b[0m             \u001b[0;32mexcept\u001b[0m \u001b[0mTypeError\u001b[0m\u001b[0;34m:\u001b[0m\u001b[0;34m\u001b[0m\u001b[0;34m\u001b[0m\u001b[0m\n\u001b[1;32m   3633\u001b[0m                 \u001b[0;31m# If we have a listlike key, _check_indexing_error will raise\u001b[0m\u001b[0;34m\u001b[0m\u001b[0;34m\u001b[0m\u001b[0m\n",
            "\u001b[0;31mKeyError\u001b[0m: 'DiscountedPrice'"
          ]
        }
      ]
    },
    {
      "cell_type": "code",
      "source": [
        "# Drop that dummy column\n",
        "df.drop(columns=[\"Percent\"], inplace=True)\n",
        "df.head(10)"
      ],
      "metadata": {
        "colab": {
          "base_uri": "https://localhost:8080/",
          "height": 346
        },
        "id": "aX7oaRV_H83c",
        "outputId": "b640123c-4ad0-4ead-8e16-3ba8bb8e1692"
      },
      "execution_count": null,
      "outputs": [
        {
          "output_type": "error",
          "ename": "KeyError",
          "evalue": "ignored",
          "traceback": [
            "\u001b[0;31m---------------------------------------------------------------------------\u001b[0m",
            "\u001b[0;31mKeyError\u001b[0m                                  Traceback (most recent call last)",
            "\u001b[0;32m<ipython-input-27-7afbc064528e>\u001b[0m in \u001b[0;36m<cell line: 2>\u001b[0;34m()\u001b[0m\n\u001b[1;32m      1\u001b[0m \u001b[0;31m# Drop that dummy column\u001b[0m\u001b[0;34m\u001b[0m\u001b[0;34m\u001b[0m\u001b[0m\n\u001b[0;32m----> 2\u001b[0;31m \u001b[0mdf\u001b[0m\u001b[0;34m.\u001b[0m\u001b[0mdrop\u001b[0m\u001b[0;34m(\u001b[0m\u001b[0mcolumns\u001b[0m\u001b[0;34m=\u001b[0m\u001b[0;34m[\u001b[0m\u001b[0;34m\"Percent\"\u001b[0m\u001b[0;34m]\u001b[0m\u001b[0;34m,\u001b[0m \u001b[0minplace\u001b[0m\u001b[0;34m=\u001b[0m\u001b[0;32mTrue\u001b[0m\u001b[0;34m)\u001b[0m\u001b[0;34m\u001b[0m\u001b[0;34m\u001b[0m\u001b[0m\n\u001b[0m\u001b[1;32m      3\u001b[0m \u001b[0mdf\u001b[0m\u001b[0;34m.\u001b[0m\u001b[0mhead\u001b[0m\u001b[0;34m(\u001b[0m\u001b[0;36m10\u001b[0m\u001b[0;34m)\u001b[0m\u001b[0;34m\u001b[0m\u001b[0;34m\u001b[0m\u001b[0m\n",
            "\u001b[0;32m/usr/local/lib/python3.9/dist-packages/pandas/util/_decorators.py\u001b[0m in \u001b[0;36mwrapper\u001b[0;34m(*args, **kwargs)\u001b[0m\n\u001b[1;32m    309\u001b[0m                     \u001b[0mstacklevel\u001b[0m\u001b[0;34m=\u001b[0m\u001b[0mstacklevel\u001b[0m\u001b[0;34m,\u001b[0m\u001b[0;34m\u001b[0m\u001b[0;34m\u001b[0m\u001b[0m\n\u001b[1;32m    310\u001b[0m                 )\n\u001b[0;32m--> 311\u001b[0;31m             \u001b[0;32mreturn\u001b[0m \u001b[0mfunc\u001b[0m\u001b[0;34m(\u001b[0m\u001b[0;34m*\u001b[0m\u001b[0margs\u001b[0m\u001b[0;34m,\u001b[0m \u001b[0;34m**\u001b[0m\u001b[0mkwargs\u001b[0m\u001b[0;34m)\u001b[0m\u001b[0;34m\u001b[0m\u001b[0;34m\u001b[0m\u001b[0m\n\u001b[0m\u001b[1;32m    312\u001b[0m \u001b[0;34m\u001b[0m\u001b[0m\n\u001b[1;32m    313\u001b[0m         \u001b[0;32mreturn\u001b[0m \u001b[0mwrapper\u001b[0m\u001b[0;34m\u001b[0m\u001b[0;34m\u001b[0m\u001b[0m\n",
            "\u001b[0;32m/usr/local/lib/python3.9/dist-packages/pandas/core/frame.py\u001b[0m in \u001b[0;36mdrop\u001b[0;34m(self, labels, axis, index, columns, level, inplace, errors)\u001b[0m\n\u001b[1;32m   4955\u001b[0m                 \u001b[0mweight\u001b[0m  \u001b[0;36m1.0\u001b[0m     \u001b[0;36m0.8\u001b[0m\u001b[0;34m\u001b[0m\u001b[0;34m\u001b[0m\u001b[0m\n\u001b[1;32m   4956\u001b[0m         \"\"\"\n\u001b[0;32m-> 4957\u001b[0;31m         return super().drop(\n\u001b[0m\u001b[1;32m   4958\u001b[0m             \u001b[0mlabels\u001b[0m\u001b[0;34m=\u001b[0m\u001b[0mlabels\u001b[0m\u001b[0;34m,\u001b[0m\u001b[0;34m\u001b[0m\u001b[0;34m\u001b[0m\u001b[0m\n\u001b[1;32m   4959\u001b[0m             \u001b[0maxis\u001b[0m\u001b[0;34m=\u001b[0m\u001b[0maxis\u001b[0m\u001b[0;34m,\u001b[0m\u001b[0;34m\u001b[0m\u001b[0;34m\u001b[0m\u001b[0m\n",
            "\u001b[0;32m/usr/local/lib/python3.9/dist-packages/pandas/core/generic.py\u001b[0m in \u001b[0;36mdrop\u001b[0;34m(self, labels, axis, index, columns, level, inplace, errors)\u001b[0m\n\u001b[1;32m   4265\u001b[0m         \u001b[0;32mfor\u001b[0m \u001b[0maxis\u001b[0m\u001b[0;34m,\u001b[0m \u001b[0mlabels\u001b[0m \u001b[0;32min\u001b[0m \u001b[0maxes\u001b[0m\u001b[0;34m.\u001b[0m\u001b[0mitems\u001b[0m\u001b[0;34m(\u001b[0m\u001b[0;34m)\u001b[0m\u001b[0;34m:\u001b[0m\u001b[0;34m\u001b[0m\u001b[0;34m\u001b[0m\u001b[0m\n\u001b[1;32m   4266\u001b[0m             \u001b[0;32mif\u001b[0m \u001b[0mlabels\u001b[0m \u001b[0;32mis\u001b[0m \u001b[0;32mnot\u001b[0m \u001b[0;32mNone\u001b[0m\u001b[0;34m:\u001b[0m\u001b[0;34m\u001b[0m\u001b[0;34m\u001b[0m\u001b[0m\n\u001b[0;32m-> 4267\u001b[0;31m                 \u001b[0mobj\u001b[0m \u001b[0;34m=\u001b[0m \u001b[0mobj\u001b[0m\u001b[0;34m.\u001b[0m\u001b[0m_drop_axis\u001b[0m\u001b[0;34m(\u001b[0m\u001b[0mlabels\u001b[0m\u001b[0;34m,\u001b[0m \u001b[0maxis\u001b[0m\u001b[0;34m,\u001b[0m \u001b[0mlevel\u001b[0m\u001b[0;34m=\u001b[0m\u001b[0mlevel\u001b[0m\u001b[0;34m,\u001b[0m \u001b[0merrors\u001b[0m\u001b[0;34m=\u001b[0m\u001b[0merrors\u001b[0m\u001b[0;34m)\u001b[0m\u001b[0;34m\u001b[0m\u001b[0;34m\u001b[0m\u001b[0m\n\u001b[0m\u001b[1;32m   4268\u001b[0m \u001b[0;34m\u001b[0m\u001b[0m\n\u001b[1;32m   4269\u001b[0m         \u001b[0;32mif\u001b[0m \u001b[0minplace\u001b[0m\u001b[0;34m:\u001b[0m\u001b[0;34m\u001b[0m\u001b[0;34m\u001b[0m\u001b[0m\n",
            "\u001b[0;32m/usr/local/lib/python3.9/dist-packages/pandas/core/generic.py\u001b[0m in \u001b[0;36m_drop_axis\u001b[0;34m(self, labels, axis, level, errors, consolidate, only_slice)\u001b[0m\n\u001b[1;32m   4309\u001b[0m                 \u001b[0mnew_axis\u001b[0m \u001b[0;34m=\u001b[0m \u001b[0maxis\u001b[0m\u001b[0;34m.\u001b[0m\u001b[0mdrop\u001b[0m\u001b[0;34m(\u001b[0m\u001b[0mlabels\u001b[0m\u001b[0;34m,\u001b[0m \u001b[0mlevel\u001b[0m\u001b[0;34m=\u001b[0m\u001b[0mlevel\u001b[0m\u001b[0;34m,\u001b[0m \u001b[0merrors\u001b[0m\u001b[0;34m=\u001b[0m\u001b[0merrors\u001b[0m\u001b[0;34m)\u001b[0m\u001b[0;34m\u001b[0m\u001b[0;34m\u001b[0m\u001b[0m\n\u001b[1;32m   4310\u001b[0m             \u001b[0;32melse\u001b[0m\u001b[0;34m:\u001b[0m\u001b[0;34m\u001b[0m\u001b[0;34m\u001b[0m\u001b[0m\n\u001b[0;32m-> 4311\u001b[0;31m                 \u001b[0mnew_axis\u001b[0m \u001b[0;34m=\u001b[0m \u001b[0maxis\u001b[0m\u001b[0;34m.\u001b[0m\u001b[0mdrop\u001b[0m\u001b[0;34m(\u001b[0m\u001b[0mlabels\u001b[0m\u001b[0;34m,\u001b[0m \u001b[0merrors\u001b[0m\u001b[0;34m=\u001b[0m\u001b[0merrors\u001b[0m\u001b[0;34m)\u001b[0m\u001b[0;34m\u001b[0m\u001b[0;34m\u001b[0m\u001b[0m\n\u001b[0m\u001b[1;32m   4312\u001b[0m             \u001b[0mindexer\u001b[0m \u001b[0;34m=\u001b[0m \u001b[0maxis\u001b[0m\u001b[0;34m.\u001b[0m\u001b[0mget_indexer\u001b[0m\u001b[0;34m(\u001b[0m\u001b[0mnew_axis\u001b[0m\u001b[0;34m)\u001b[0m\u001b[0;34m\u001b[0m\u001b[0;34m\u001b[0m\u001b[0m\n\u001b[1;32m   4313\u001b[0m \u001b[0;34m\u001b[0m\u001b[0m\n",
            "\u001b[0;32m/usr/local/lib/python3.9/dist-packages/pandas/core/indexes/base.py\u001b[0m in \u001b[0;36mdrop\u001b[0;34m(self, labels, errors)\u001b[0m\n\u001b[1;32m   6659\u001b[0m         \u001b[0;32mif\u001b[0m \u001b[0mmask\u001b[0m\u001b[0;34m.\u001b[0m\u001b[0many\u001b[0m\u001b[0;34m(\u001b[0m\u001b[0;34m)\u001b[0m\u001b[0;34m:\u001b[0m\u001b[0;34m\u001b[0m\u001b[0;34m\u001b[0m\u001b[0m\n\u001b[1;32m   6660\u001b[0m             \u001b[0;32mif\u001b[0m \u001b[0merrors\u001b[0m \u001b[0;34m!=\u001b[0m \u001b[0;34m\"ignore\"\u001b[0m\u001b[0;34m:\u001b[0m\u001b[0;34m\u001b[0m\u001b[0;34m\u001b[0m\u001b[0m\n\u001b[0;32m-> 6661\u001b[0;31m                 \u001b[0;32mraise\u001b[0m \u001b[0mKeyError\u001b[0m\u001b[0;34m(\u001b[0m\u001b[0;34mf\"{list(labels[mask])} not found in axis\"\u001b[0m\u001b[0;34m)\u001b[0m\u001b[0;34m\u001b[0m\u001b[0;34m\u001b[0m\u001b[0m\n\u001b[0m\u001b[1;32m   6662\u001b[0m             \u001b[0mindexer\u001b[0m \u001b[0;34m=\u001b[0m \u001b[0mindexer\u001b[0m\u001b[0;34m[\u001b[0m\u001b[0;34m~\u001b[0m\u001b[0mmask\u001b[0m\u001b[0;34m]\u001b[0m\u001b[0;34m\u001b[0m\u001b[0;34m\u001b[0m\u001b[0m\n\u001b[1;32m   6663\u001b[0m         \u001b[0;32mreturn\u001b[0m \u001b[0mself\u001b[0m\u001b[0;34m.\u001b[0m\u001b[0mdelete\u001b[0m\u001b[0;34m(\u001b[0m\u001b[0mindexer\u001b[0m\u001b[0;34m)\u001b[0m\u001b[0;34m\u001b[0m\u001b[0;34m\u001b[0m\u001b[0m\n",
            "\u001b[0;31mKeyError\u001b[0m: \"['Percent'] not found in axis\""
          ]
        }
      ]
    },
    {
      "cell_type": "code",
      "source": [
        "# Replaces NA with mean of the columns (works for numeric values only)\n",
        "df_mean = df.copy()\n",
        "df_mean['Price'].fillna(df_mean['Price'].mean(), inplace=True)\n",
        "df_mean.isnull().sum()# NA values in Price go to Zero"
      ],
      "metadata": {
        "colab": {
          "base_uri": "https://localhost:8080/",
          "height": 502
        },
        "id": "gOvDXvJCH8vs",
        "outputId": "7afe683f-e1d6-41c2-a130-4c8a5e12f345"
      },
      "execution_count": null,
      "outputs": [
        {
          "output_type": "error",
          "ename": "KeyError",
          "evalue": "ignored",
          "traceback": [
            "\u001b[0;31m---------------------------------------------------------------------------\u001b[0m",
            "\u001b[0;31mKeyError\u001b[0m                                  Traceback (most recent call last)",
            "\u001b[0;32m/usr/local/lib/python3.9/dist-packages/pandas/core/indexes/base.py\u001b[0m in \u001b[0;36mget_loc\u001b[0;34m(self, key, method, tolerance)\u001b[0m\n\u001b[1;32m   3628\u001b[0m             \u001b[0;32mtry\u001b[0m\u001b[0;34m:\u001b[0m\u001b[0;34m\u001b[0m\u001b[0;34m\u001b[0m\u001b[0m\n\u001b[0;32m-> 3629\u001b[0;31m                 \u001b[0;32mreturn\u001b[0m \u001b[0mself\u001b[0m\u001b[0;34m.\u001b[0m\u001b[0m_engine\u001b[0m\u001b[0;34m.\u001b[0m\u001b[0mget_loc\u001b[0m\u001b[0;34m(\u001b[0m\u001b[0mcasted_key\u001b[0m\u001b[0;34m)\u001b[0m\u001b[0;34m\u001b[0m\u001b[0;34m\u001b[0m\u001b[0m\n\u001b[0m\u001b[1;32m   3630\u001b[0m             \u001b[0;32mexcept\u001b[0m \u001b[0mKeyError\u001b[0m \u001b[0;32mas\u001b[0m \u001b[0merr\u001b[0m\u001b[0;34m:\u001b[0m\u001b[0;34m\u001b[0m\u001b[0;34m\u001b[0m\u001b[0m\n",
            "\u001b[0;32m/usr/local/lib/python3.9/dist-packages/pandas/_libs/index.pyx\u001b[0m in \u001b[0;36mpandas._libs.index.IndexEngine.get_loc\u001b[0;34m()\u001b[0m\n",
            "\u001b[0;32m/usr/local/lib/python3.9/dist-packages/pandas/_libs/index.pyx\u001b[0m in \u001b[0;36mpandas._libs.index.IndexEngine.get_loc\u001b[0;34m()\u001b[0m\n",
            "\u001b[0;32mpandas/_libs/hashtable_class_helper.pxi\u001b[0m in \u001b[0;36mpandas._libs.hashtable.PyObjectHashTable.get_item\u001b[0;34m()\u001b[0m\n",
            "\u001b[0;32mpandas/_libs/hashtable_class_helper.pxi\u001b[0m in \u001b[0;36mpandas._libs.hashtable.PyObjectHashTable.get_item\u001b[0;34m()\u001b[0m\n",
            "\u001b[0;31mKeyError\u001b[0m: 'Price'",
            "\nThe above exception was the direct cause of the following exception:\n",
            "\u001b[0;31mKeyError\u001b[0m                                  Traceback (most recent call last)",
            "\u001b[0;32m<ipython-input-28-019e02ead69b>\u001b[0m in \u001b[0;36m<cell line: 3>\u001b[0;34m()\u001b[0m\n\u001b[1;32m      1\u001b[0m \u001b[0;31m# Replaces NA with mean of the columns (works for numeric values only)\u001b[0m\u001b[0;34m\u001b[0m\u001b[0;34m\u001b[0m\u001b[0m\n\u001b[1;32m      2\u001b[0m \u001b[0mdf_mean\u001b[0m \u001b[0;34m=\u001b[0m \u001b[0mdf\u001b[0m\u001b[0;34m.\u001b[0m\u001b[0mcopy\u001b[0m\u001b[0;34m(\u001b[0m\u001b[0;34m)\u001b[0m\u001b[0;34m\u001b[0m\u001b[0;34m\u001b[0m\u001b[0m\n\u001b[0;32m----> 3\u001b[0;31m \u001b[0mdf_mean\u001b[0m\u001b[0;34m[\u001b[0m\u001b[0;34m'Price'\u001b[0m\u001b[0;34m]\u001b[0m\u001b[0;34m.\u001b[0m\u001b[0mfillna\u001b[0m\u001b[0;34m(\u001b[0m\u001b[0mdf_mean\u001b[0m\u001b[0;34m[\u001b[0m\u001b[0;34m'Price'\u001b[0m\u001b[0;34m]\u001b[0m\u001b[0;34m.\u001b[0m\u001b[0mmean\u001b[0m\u001b[0;34m(\u001b[0m\u001b[0;34m)\u001b[0m\u001b[0;34m,\u001b[0m \u001b[0minplace\u001b[0m\u001b[0;34m=\u001b[0m\u001b[0;32mTrue\u001b[0m\u001b[0;34m)\u001b[0m\u001b[0;34m\u001b[0m\u001b[0;34m\u001b[0m\u001b[0m\n\u001b[0m\u001b[1;32m      4\u001b[0m \u001b[0mdf_mean\u001b[0m\u001b[0;34m.\u001b[0m\u001b[0misnull\u001b[0m\u001b[0;34m(\u001b[0m\u001b[0;34m)\u001b[0m\u001b[0;34m.\u001b[0m\u001b[0msum\u001b[0m\u001b[0;34m(\u001b[0m\u001b[0;34m)\u001b[0m\u001b[0;31m# NA values in Price go to Zero\u001b[0m\u001b[0;34m\u001b[0m\u001b[0;34m\u001b[0m\u001b[0m\n",
            "\u001b[0;32m/usr/local/lib/python3.9/dist-packages/pandas/core/frame.py\u001b[0m in \u001b[0;36m__getitem__\u001b[0;34m(self, key)\u001b[0m\n\u001b[1;32m   3503\u001b[0m             \u001b[0;32mif\u001b[0m \u001b[0mself\u001b[0m\u001b[0;34m.\u001b[0m\u001b[0mcolumns\u001b[0m\u001b[0;34m.\u001b[0m\u001b[0mnlevels\u001b[0m \u001b[0;34m>\u001b[0m \u001b[0;36m1\u001b[0m\u001b[0;34m:\u001b[0m\u001b[0;34m\u001b[0m\u001b[0;34m\u001b[0m\u001b[0m\n\u001b[1;32m   3504\u001b[0m                 \u001b[0;32mreturn\u001b[0m \u001b[0mself\u001b[0m\u001b[0;34m.\u001b[0m\u001b[0m_getitem_multilevel\u001b[0m\u001b[0;34m(\u001b[0m\u001b[0mkey\u001b[0m\u001b[0;34m)\u001b[0m\u001b[0;34m\u001b[0m\u001b[0;34m\u001b[0m\u001b[0m\n\u001b[0;32m-> 3505\u001b[0;31m             \u001b[0mindexer\u001b[0m \u001b[0;34m=\u001b[0m \u001b[0mself\u001b[0m\u001b[0;34m.\u001b[0m\u001b[0mcolumns\u001b[0m\u001b[0;34m.\u001b[0m\u001b[0mget_loc\u001b[0m\u001b[0;34m(\u001b[0m\u001b[0mkey\u001b[0m\u001b[0;34m)\u001b[0m\u001b[0;34m\u001b[0m\u001b[0;34m\u001b[0m\u001b[0m\n\u001b[0m\u001b[1;32m   3506\u001b[0m             \u001b[0;32mif\u001b[0m \u001b[0mis_integer\u001b[0m\u001b[0;34m(\u001b[0m\u001b[0mindexer\u001b[0m\u001b[0;34m)\u001b[0m\u001b[0;34m:\u001b[0m\u001b[0;34m\u001b[0m\u001b[0;34m\u001b[0m\u001b[0m\n\u001b[1;32m   3507\u001b[0m                 \u001b[0mindexer\u001b[0m \u001b[0;34m=\u001b[0m \u001b[0;34m[\u001b[0m\u001b[0mindexer\u001b[0m\u001b[0;34m]\u001b[0m\u001b[0;34m\u001b[0m\u001b[0;34m\u001b[0m\u001b[0m\n",
            "\u001b[0;32m/usr/local/lib/python3.9/dist-packages/pandas/core/indexes/base.py\u001b[0m in \u001b[0;36mget_loc\u001b[0;34m(self, key, method, tolerance)\u001b[0m\n\u001b[1;32m   3629\u001b[0m                 \u001b[0;32mreturn\u001b[0m \u001b[0mself\u001b[0m\u001b[0;34m.\u001b[0m\u001b[0m_engine\u001b[0m\u001b[0;34m.\u001b[0m\u001b[0mget_loc\u001b[0m\u001b[0;34m(\u001b[0m\u001b[0mcasted_key\u001b[0m\u001b[0;34m)\u001b[0m\u001b[0;34m\u001b[0m\u001b[0;34m\u001b[0m\u001b[0m\n\u001b[1;32m   3630\u001b[0m             \u001b[0;32mexcept\u001b[0m \u001b[0mKeyError\u001b[0m \u001b[0;32mas\u001b[0m \u001b[0merr\u001b[0m\u001b[0;34m:\u001b[0m\u001b[0;34m\u001b[0m\u001b[0;34m\u001b[0m\u001b[0m\n\u001b[0;32m-> 3631\u001b[0;31m                 \u001b[0;32mraise\u001b[0m \u001b[0mKeyError\u001b[0m\u001b[0;34m(\u001b[0m\u001b[0mkey\u001b[0m\u001b[0;34m)\u001b[0m \u001b[0;32mfrom\u001b[0m \u001b[0merr\u001b[0m\u001b[0;34m\u001b[0m\u001b[0;34m\u001b[0m\u001b[0m\n\u001b[0m\u001b[1;32m   3632\u001b[0m             \u001b[0;32mexcept\u001b[0m \u001b[0mTypeError\u001b[0m\u001b[0;34m:\u001b[0m\u001b[0;34m\u001b[0m\u001b[0;34m\u001b[0m\u001b[0m\n\u001b[1;32m   3633\u001b[0m                 \u001b[0;31m# If we have a listlike key, _check_indexing_error will raise\u001b[0m\u001b[0;34m\u001b[0m\u001b[0;34m\u001b[0m\u001b[0m\n",
            "\u001b[0;31mKeyError\u001b[0m: 'Price'"
          ]
        }
      ]
    },
    {
      "cell_type": "code",
      "source": [
        "# Convert a character variable to Categorical\n",
        "df_mean[\"Category2\"] = df_mean[\"Category\"].astype(\"category\")\n",
        "df_mean[\"Category\"].dtype\n",
        "df_mean[\"Category2\"].dtype"
      ],
      "metadata": {
        "colab": {
          "base_uri": "https://localhost:8080/",
          "height": 502
        },
        "id": "wpoec1d-H8gs",
        "outputId": "7dc21049-9401-481a-aa81-07c400874b58"
      },
      "execution_count": null,
      "outputs": [
        {
          "output_type": "error",
          "ename": "KeyError",
          "evalue": "ignored",
          "traceback": [
            "\u001b[0;31m---------------------------------------------------------------------------\u001b[0m",
            "\u001b[0;31mKeyError\u001b[0m                                  Traceback (most recent call last)",
            "\u001b[0;32m/usr/local/lib/python3.9/dist-packages/pandas/core/indexes/base.py\u001b[0m in \u001b[0;36mget_loc\u001b[0;34m(self, key, method, tolerance)\u001b[0m\n\u001b[1;32m   3628\u001b[0m             \u001b[0;32mtry\u001b[0m\u001b[0;34m:\u001b[0m\u001b[0;34m\u001b[0m\u001b[0;34m\u001b[0m\u001b[0m\n\u001b[0;32m-> 3629\u001b[0;31m                 \u001b[0;32mreturn\u001b[0m \u001b[0mself\u001b[0m\u001b[0;34m.\u001b[0m\u001b[0m_engine\u001b[0m\u001b[0;34m.\u001b[0m\u001b[0mget_loc\u001b[0m\u001b[0;34m(\u001b[0m\u001b[0mcasted_key\u001b[0m\u001b[0;34m)\u001b[0m\u001b[0;34m\u001b[0m\u001b[0;34m\u001b[0m\u001b[0m\n\u001b[0m\u001b[1;32m   3630\u001b[0m             \u001b[0;32mexcept\u001b[0m \u001b[0mKeyError\u001b[0m \u001b[0;32mas\u001b[0m \u001b[0merr\u001b[0m\u001b[0;34m:\u001b[0m\u001b[0;34m\u001b[0m\u001b[0;34m\u001b[0m\u001b[0m\n",
            "\u001b[0;32m/usr/local/lib/python3.9/dist-packages/pandas/_libs/index.pyx\u001b[0m in \u001b[0;36mpandas._libs.index.IndexEngine.get_loc\u001b[0;34m()\u001b[0m\n",
            "\u001b[0;32m/usr/local/lib/python3.9/dist-packages/pandas/_libs/index.pyx\u001b[0m in \u001b[0;36mpandas._libs.index.IndexEngine.get_loc\u001b[0;34m()\u001b[0m\n",
            "\u001b[0;32mpandas/_libs/hashtable_class_helper.pxi\u001b[0m in \u001b[0;36mpandas._libs.hashtable.PyObjectHashTable.get_item\u001b[0;34m()\u001b[0m\n",
            "\u001b[0;32mpandas/_libs/hashtable_class_helper.pxi\u001b[0m in \u001b[0;36mpandas._libs.hashtable.PyObjectHashTable.get_item\u001b[0;34m()\u001b[0m\n",
            "\u001b[0;31mKeyError\u001b[0m: 'Category'",
            "\nThe above exception was the direct cause of the following exception:\n",
            "\u001b[0;31mKeyError\u001b[0m                                  Traceback (most recent call last)",
            "\u001b[0;32m<ipython-input-32-efd5a7e3011b>\u001b[0m in \u001b[0;36m<cell line: 2>\u001b[0;34m()\u001b[0m\n\u001b[1;32m      1\u001b[0m \u001b[0;31m# Convert a character variable to Categorical\u001b[0m\u001b[0;34m\u001b[0m\u001b[0;34m\u001b[0m\u001b[0m\n\u001b[0;32m----> 2\u001b[0;31m \u001b[0mdf_mean\u001b[0m\u001b[0;34m[\u001b[0m\u001b[0;34m\"Category2\"\u001b[0m\u001b[0;34m]\u001b[0m \u001b[0;34m=\u001b[0m \u001b[0mdf_mean\u001b[0m\u001b[0;34m[\u001b[0m\u001b[0;34m\"Category\"\u001b[0m\u001b[0;34m]\u001b[0m\u001b[0;34m.\u001b[0m\u001b[0mastype\u001b[0m\u001b[0;34m(\u001b[0m\u001b[0;34m\"category\"\u001b[0m\u001b[0;34m)\u001b[0m\u001b[0;34m\u001b[0m\u001b[0;34m\u001b[0m\u001b[0m\n\u001b[0m\u001b[1;32m      3\u001b[0m \u001b[0mdf_mean\u001b[0m\u001b[0;34m[\u001b[0m\u001b[0;34m\"Category\"\u001b[0m\u001b[0;34m]\u001b[0m\u001b[0;34m.\u001b[0m\u001b[0mdtype\u001b[0m\u001b[0;34m\u001b[0m\u001b[0;34m\u001b[0m\u001b[0m\n\u001b[1;32m      4\u001b[0m \u001b[0mdf_mean\u001b[0m\u001b[0;34m[\u001b[0m\u001b[0;34m\"Category2\"\u001b[0m\u001b[0;34m]\u001b[0m\u001b[0;34m.\u001b[0m\u001b[0mdtype\u001b[0m\u001b[0;34m\u001b[0m\u001b[0;34m\u001b[0m\u001b[0m\n",
            "\u001b[0;32m/usr/local/lib/python3.9/dist-packages/pandas/core/frame.py\u001b[0m in \u001b[0;36m__getitem__\u001b[0;34m(self, key)\u001b[0m\n\u001b[1;32m   3503\u001b[0m             \u001b[0;32mif\u001b[0m \u001b[0mself\u001b[0m\u001b[0;34m.\u001b[0m\u001b[0mcolumns\u001b[0m\u001b[0;34m.\u001b[0m\u001b[0mnlevels\u001b[0m \u001b[0;34m>\u001b[0m \u001b[0;36m1\u001b[0m\u001b[0;34m:\u001b[0m\u001b[0;34m\u001b[0m\u001b[0;34m\u001b[0m\u001b[0m\n\u001b[1;32m   3504\u001b[0m                 \u001b[0;32mreturn\u001b[0m \u001b[0mself\u001b[0m\u001b[0;34m.\u001b[0m\u001b[0m_getitem_multilevel\u001b[0m\u001b[0;34m(\u001b[0m\u001b[0mkey\u001b[0m\u001b[0;34m)\u001b[0m\u001b[0;34m\u001b[0m\u001b[0;34m\u001b[0m\u001b[0m\n\u001b[0;32m-> 3505\u001b[0;31m             \u001b[0mindexer\u001b[0m \u001b[0;34m=\u001b[0m \u001b[0mself\u001b[0m\u001b[0;34m.\u001b[0m\u001b[0mcolumns\u001b[0m\u001b[0;34m.\u001b[0m\u001b[0mget_loc\u001b[0m\u001b[0;34m(\u001b[0m\u001b[0mkey\u001b[0m\u001b[0;34m)\u001b[0m\u001b[0;34m\u001b[0m\u001b[0;34m\u001b[0m\u001b[0m\n\u001b[0m\u001b[1;32m   3506\u001b[0m             \u001b[0;32mif\u001b[0m \u001b[0mis_integer\u001b[0m\u001b[0;34m(\u001b[0m\u001b[0mindexer\u001b[0m\u001b[0;34m)\u001b[0m\u001b[0;34m:\u001b[0m\u001b[0;34m\u001b[0m\u001b[0;34m\u001b[0m\u001b[0m\n\u001b[1;32m   3507\u001b[0m                 \u001b[0mindexer\u001b[0m \u001b[0;34m=\u001b[0m \u001b[0;34m[\u001b[0m\u001b[0mindexer\u001b[0m\u001b[0;34m]\u001b[0m\u001b[0;34m\u001b[0m\u001b[0;34m\u001b[0m\u001b[0m\n",
            "\u001b[0;32m/usr/local/lib/python3.9/dist-packages/pandas/core/indexes/base.py\u001b[0m in \u001b[0;36mget_loc\u001b[0;34m(self, key, method, tolerance)\u001b[0m\n\u001b[1;32m   3629\u001b[0m                 \u001b[0;32mreturn\u001b[0m \u001b[0mself\u001b[0m\u001b[0;34m.\u001b[0m\u001b[0m_engine\u001b[0m\u001b[0;34m.\u001b[0m\u001b[0mget_loc\u001b[0m\u001b[0;34m(\u001b[0m\u001b[0mcasted_key\u001b[0m\u001b[0;34m)\u001b[0m\u001b[0;34m\u001b[0m\u001b[0;34m\u001b[0m\u001b[0m\n\u001b[1;32m   3630\u001b[0m             \u001b[0;32mexcept\u001b[0m \u001b[0mKeyError\u001b[0m \u001b[0;32mas\u001b[0m \u001b[0merr\u001b[0m\u001b[0;34m:\u001b[0m\u001b[0;34m\u001b[0m\u001b[0;34m\u001b[0m\u001b[0m\n\u001b[0;32m-> 3631\u001b[0;31m                 \u001b[0;32mraise\u001b[0m \u001b[0mKeyError\u001b[0m\u001b[0;34m(\u001b[0m\u001b[0mkey\u001b[0m\u001b[0;34m)\u001b[0m \u001b[0;32mfrom\u001b[0m \u001b[0merr\u001b[0m\u001b[0;34m\u001b[0m\u001b[0;34m\u001b[0m\u001b[0m\n\u001b[0m\u001b[1;32m   3632\u001b[0m             \u001b[0;32mexcept\u001b[0m \u001b[0mTypeError\u001b[0m\u001b[0;34m:\u001b[0m\u001b[0;34m\u001b[0m\u001b[0;34m\u001b[0m\u001b[0m\n\u001b[1;32m   3633\u001b[0m                 \u001b[0;31m# If we have a listlike key, _check_indexing_error will raise\u001b[0m\u001b[0;34m\u001b[0m\u001b[0;34m\u001b[0m\u001b[0m\n",
            "\u001b[0;31mKeyError\u001b[0m: 'Category'"
          ]
        }
      ]
    },
    {
      "cell_type": "code",
      "source": [
        "# Convert numerical variable to Character and back\n",
        "df_mean[\"PriceAsChar\"] = df_mean[\"Price\"].astype(str)\n",
        "df_mean[\"PriceAsNum\"] = df_mean[\"PriceAsChar\"].astype(float)\n",
        "df_mean.head(10)"
      ],
      "metadata": {
        "colab": {
          "base_uri": "https://localhost:8080/",
          "height": 502
        },
        "id": "IRYyggWDIr_6",
        "outputId": "8ff54291-c171-4906-84f6-8bd891de3e50"
      },
      "execution_count": null,
      "outputs": [
        {
          "output_type": "error",
          "ename": "KeyError",
          "evalue": "ignored",
          "traceback": [
            "\u001b[0;31m---------------------------------------------------------------------------\u001b[0m",
            "\u001b[0;31mKeyError\u001b[0m                                  Traceback (most recent call last)",
            "\u001b[0;32m/usr/local/lib/python3.9/dist-packages/pandas/core/indexes/base.py\u001b[0m in \u001b[0;36mget_loc\u001b[0;34m(self, key, method, tolerance)\u001b[0m\n\u001b[1;32m   3628\u001b[0m             \u001b[0;32mtry\u001b[0m\u001b[0;34m:\u001b[0m\u001b[0;34m\u001b[0m\u001b[0;34m\u001b[0m\u001b[0m\n\u001b[0;32m-> 3629\u001b[0;31m                 \u001b[0;32mreturn\u001b[0m \u001b[0mself\u001b[0m\u001b[0;34m.\u001b[0m\u001b[0m_engine\u001b[0m\u001b[0;34m.\u001b[0m\u001b[0mget_loc\u001b[0m\u001b[0;34m(\u001b[0m\u001b[0mcasted_key\u001b[0m\u001b[0;34m)\u001b[0m\u001b[0;34m\u001b[0m\u001b[0;34m\u001b[0m\u001b[0m\n\u001b[0m\u001b[1;32m   3630\u001b[0m             \u001b[0;32mexcept\u001b[0m \u001b[0mKeyError\u001b[0m \u001b[0;32mas\u001b[0m \u001b[0merr\u001b[0m\u001b[0;34m:\u001b[0m\u001b[0;34m\u001b[0m\u001b[0;34m\u001b[0m\u001b[0m\n",
            "\u001b[0;32m/usr/local/lib/python3.9/dist-packages/pandas/_libs/index.pyx\u001b[0m in \u001b[0;36mpandas._libs.index.IndexEngine.get_loc\u001b[0;34m()\u001b[0m\n",
            "\u001b[0;32m/usr/local/lib/python3.9/dist-packages/pandas/_libs/index.pyx\u001b[0m in \u001b[0;36mpandas._libs.index.IndexEngine.get_loc\u001b[0;34m()\u001b[0m\n",
            "\u001b[0;32mpandas/_libs/hashtable_class_helper.pxi\u001b[0m in \u001b[0;36mpandas._libs.hashtable.PyObjectHashTable.get_item\u001b[0;34m()\u001b[0m\n",
            "\u001b[0;32mpandas/_libs/hashtable_class_helper.pxi\u001b[0m in \u001b[0;36mpandas._libs.hashtable.PyObjectHashTable.get_item\u001b[0;34m()\u001b[0m\n",
            "\u001b[0;31mKeyError\u001b[0m: 'Price'",
            "\nThe above exception was the direct cause of the following exception:\n",
            "\u001b[0;31mKeyError\u001b[0m                                  Traceback (most recent call last)",
            "\u001b[0;32m<ipython-input-30-0660c76aa63e>\u001b[0m in \u001b[0;36m<cell line: 2>\u001b[0;34m()\u001b[0m\n\u001b[1;32m      1\u001b[0m \u001b[0;31m# Convert numerical variable to Character and back\u001b[0m\u001b[0;34m\u001b[0m\u001b[0;34m\u001b[0m\u001b[0m\n\u001b[0;32m----> 2\u001b[0;31m \u001b[0mdf_mean\u001b[0m\u001b[0;34m[\u001b[0m\u001b[0;34m\"PriceAsChar\"\u001b[0m\u001b[0;34m]\u001b[0m \u001b[0;34m=\u001b[0m \u001b[0mdf_mean\u001b[0m\u001b[0;34m[\u001b[0m\u001b[0;34m\"Price\"\u001b[0m\u001b[0;34m]\u001b[0m\u001b[0;34m.\u001b[0m\u001b[0mastype\u001b[0m\u001b[0;34m(\u001b[0m\u001b[0mstr\u001b[0m\u001b[0;34m)\u001b[0m\u001b[0;34m\u001b[0m\u001b[0;34m\u001b[0m\u001b[0m\n\u001b[0m\u001b[1;32m      3\u001b[0m \u001b[0mdf_mean\u001b[0m\u001b[0;34m[\u001b[0m\u001b[0;34m\"PriceAsNum\"\u001b[0m\u001b[0;34m]\u001b[0m \u001b[0;34m=\u001b[0m \u001b[0mdf_mean\u001b[0m\u001b[0;34m[\u001b[0m\u001b[0;34m\"PriceAsChar\"\u001b[0m\u001b[0;34m]\u001b[0m\u001b[0;34m.\u001b[0m\u001b[0mastype\u001b[0m\u001b[0;34m(\u001b[0m\u001b[0mfloat\u001b[0m\u001b[0;34m)\u001b[0m\u001b[0;34m\u001b[0m\u001b[0;34m\u001b[0m\u001b[0m\n\u001b[1;32m      4\u001b[0m \u001b[0mdf_mean\u001b[0m\u001b[0;34m.\u001b[0m\u001b[0mhead\u001b[0m\u001b[0;34m(\u001b[0m\u001b[0;36m10\u001b[0m\u001b[0;34m)\u001b[0m\u001b[0;34m\u001b[0m\u001b[0;34m\u001b[0m\u001b[0m\n",
            "\u001b[0;32m/usr/local/lib/python3.9/dist-packages/pandas/core/frame.py\u001b[0m in \u001b[0;36m__getitem__\u001b[0;34m(self, key)\u001b[0m\n\u001b[1;32m   3503\u001b[0m             \u001b[0;32mif\u001b[0m \u001b[0mself\u001b[0m\u001b[0;34m.\u001b[0m\u001b[0mcolumns\u001b[0m\u001b[0;34m.\u001b[0m\u001b[0mnlevels\u001b[0m \u001b[0;34m>\u001b[0m \u001b[0;36m1\u001b[0m\u001b[0;34m:\u001b[0m\u001b[0;34m\u001b[0m\u001b[0;34m\u001b[0m\u001b[0m\n\u001b[1;32m   3504\u001b[0m                 \u001b[0;32mreturn\u001b[0m \u001b[0mself\u001b[0m\u001b[0;34m.\u001b[0m\u001b[0m_getitem_multilevel\u001b[0m\u001b[0;34m(\u001b[0m\u001b[0mkey\u001b[0m\u001b[0;34m)\u001b[0m\u001b[0;34m\u001b[0m\u001b[0;34m\u001b[0m\u001b[0m\n\u001b[0;32m-> 3505\u001b[0;31m             \u001b[0mindexer\u001b[0m \u001b[0;34m=\u001b[0m \u001b[0mself\u001b[0m\u001b[0;34m.\u001b[0m\u001b[0mcolumns\u001b[0m\u001b[0;34m.\u001b[0m\u001b[0mget_loc\u001b[0m\u001b[0;34m(\u001b[0m\u001b[0mkey\u001b[0m\u001b[0;34m)\u001b[0m\u001b[0;34m\u001b[0m\u001b[0;34m\u001b[0m\u001b[0m\n\u001b[0m\u001b[1;32m   3506\u001b[0m             \u001b[0;32mif\u001b[0m \u001b[0mis_integer\u001b[0m\u001b[0;34m(\u001b[0m\u001b[0mindexer\u001b[0m\u001b[0;34m)\u001b[0m\u001b[0;34m:\u001b[0m\u001b[0;34m\u001b[0m\u001b[0;34m\u001b[0m\u001b[0m\n\u001b[1;32m   3507\u001b[0m                 \u001b[0mindexer\u001b[0m \u001b[0;34m=\u001b[0m \u001b[0;34m[\u001b[0m\u001b[0mindexer\u001b[0m\u001b[0;34m]\u001b[0m\u001b[0;34m\u001b[0m\u001b[0;34m\u001b[0m\u001b[0m\n",
            "\u001b[0;32m/usr/local/lib/python3.9/dist-packages/pandas/core/indexes/base.py\u001b[0m in \u001b[0;36mget_loc\u001b[0;34m(self, key, method, tolerance)\u001b[0m\n\u001b[1;32m   3629\u001b[0m                 \u001b[0;32mreturn\u001b[0m \u001b[0mself\u001b[0m\u001b[0;34m.\u001b[0m\u001b[0m_engine\u001b[0m\u001b[0;34m.\u001b[0m\u001b[0mget_loc\u001b[0m\u001b[0;34m(\u001b[0m\u001b[0mcasted_key\u001b[0m\u001b[0;34m)\u001b[0m\u001b[0;34m\u001b[0m\u001b[0;34m\u001b[0m\u001b[0m\n\u001b[1;32m   3630\u001b[0m             \u001b[0;32mexcept\u001b[0m \u001b[0mKeyError\u001b[0m \u001b[0;32mas\u001b[0m \u001b[0merr\u001b[0m\u001b[0;34m:\u001b[0m\u001b[0;34m\u001b[0m\u001b[0;34m\u001b[0m\u001b[0m\n\u001b[0;32m-> 3631\u001b[0;31m                 \u001b[0;32mraise\u001b[0m \u001b[0mKeyError\u001b[0m\u001b[0;34m(\u001b[0m\u001b[0mkey\u001b[0m\u001b[0;34m)\u001b[0m \u001b[0;32mfrom\u001b[0m \u001b[0merr\u001b[0m\u001b[0;34m\u001b[0m\u001b[0;34m\u001b[0m\u001b[0m\n\u001b[0m\u001b[1;32m   3632\u001b[0m             \u001b[0;32mexcept\u001b[0m \u001b[0mTypeError\u001b[0m\u001b[0;34m:\u001b[0m\u001b[0;34m\u001b[0m\u001b[0;34m\u001b[0m\u001b[0m\n\u001b[1;32m   3633\u001b[0m                 \u001b[0;31m# If we have a listlike key, _check_indexing_error will raise\u001b[0m\u001b[0;34m\u001b[0m\u001b[0;34m\u001b[0m\u001b[0m\n",
            "\u001b[0;31mKeyError\u001b[0m: 'Price'"
          ]
        }
      ]
    },
    {
      "cell_type": "markdown",
      "source": [
        "# Experiment-9\n",
        "\n",
        "```\n",
        "# This is formatted as code\n",
        "```\n",
        "\n"
      ],
      "metadata": {
        "id": "9ATftF5sFxYI"
      }
    },
    {
      "cell_type": "code",
      "source": [
        "import pandas as pd\n",
        "import numpy as np\n",
        "import matplotlib.pyplot as plt\n",
        "import seaborn as sns"
      ],
      "metadata": {
        "id": "Yi6rf_Q8F2jn"
      },
      "execution_count": null,
      "outputs": []
    },
    {
      "cell_type": "code",
      "source": [
        "df = pd.read_csv(r'DMart.csv')\n",
        "df\n"
      ],
      "metadata": {
        "colab": {
          "base_uri": "https://localhost:8080/",
          "height": 424
        },
        "id": "NOFCyPDtGYbO",
        "outputId": "042f0dbf-c1a9-43b1-8eb7-266b306a4b65"
      },
      "execution_count": null,
      "outputs": [
        {
          "output_type": "execute_result",
          "data": {
            "text/plain": [
              "                                           Name    Brand   Price  \\\n",
              "0                        Premia Badam (Almonds)   Premia   451.0   \n",
              "1                        Premia Badam (Almonds)   Premia   109.0   \n",
              "2                        Premia Badam (Almonds)   Premia   202.0   \n",
              "3             Nutraj California Almonds (Badam)   Nutraj   599.0   \n",
              "4             Nutraj California Almonds (Badam)   Nutraj  1549.0   \n",
              "...                                         ...      ...     ...   \n",
              "5184       Navneet Youva A4 Notebook - Assorted  Navneet    55.0   \n",
              "5185  Navneet Youva Longbook Journal - Assorted  Navneet    85.0   \n",
              "5186     Navneet Youva Long Notebook - Assorted  Navneet    55.0   \n",
              "5187      Navneet Youva Drawing Book - Assorted  Navneet   110.0   \n",
              "5188  Navneet Youva Canvas Board (10x12 Inches)  Navneet    90.0   \n",
              "\n",
              "      DiscountedPrice         Category         SubCategory Quantity  \\\n",
              "0               329.0          Grocery  Grocery/Dry Fruits   500 gm   \n",
              "1                85.0          Grocery  Grocery/Dry Fruits   100 gm   \n",
              "2               175.0          Grocery  Grocery/Dry Fruits   200 gm   \n",
              "3               349.0          Grocery          Dry Fruits   500 gm   \n",
              "4               659.0          Grocery          Dry Fruits     1 kg   \n",
              "...               ...              ...                 ...      ...   \n",
              "5184             36.0  School Supplies        School Needs   1 Book   \n",
              "5185             69.0  School Supplies        School Needs   1 Book   \n",
              "5186             40.0  School Supplies        School Needs   1 Book   \n",
              "5187             72.0  School Supplies        School Needs   1 Book   \n",
              "5188             75.0  School Supplies        School Needs      1 U   \n",
              "\n",
              "                                            Description  \\\n",
              "0                                                 India   \n",
              "1                                                 India   \n",
              "2                                                 India   \n",
              "3                                                   USA   \n",
              "4                                                   USA   \n",
              "...                                                 ...   \n",
              "5184  OverviewEach book has an index page with label...   \n",
              "5185  OverviewStrong & sturdy case binding. Easy to ...   \n",
              "5186  OverviewAttractive colour and designs. Easy to...   \n",
              "5187  OverviewDrawing book has attractive cover desi...   \n",
              "5188  OverviewCoated with a double layer of acrylic ...   \n",
              "\n",
              "                         BreadCrumbs  \n",
              "0       Grocery > Grocery/Dry Fruits  \n",
              "1       Grocery > Grocery/Dry Fruits  \n",
              "2       Grocery > Grocery/Dry Fruits  \n",
              "3               Grocery > Dry Fruits  \n",
              "4               Grocery > Dry Fruits  \n",
              "...                              ...  \n",
              "5184  School Supplies > School Needs  \n",
              "5185  School Supplies > School Needs  \n",
              "5186  School Supplies > School Needs  \n",
              "5187  School Supplies > School Needs  \n",
              "5188  School Supplies > School Needs  \n",
              "\n",
              "[5189 rows x 9 columns]"
            ],
            "text/html": [
              "\n",
              "  <div id=\"df-7669090f-d313-483e-8588-a9a67c5d171d\">\n",
              "    <div class=\"colab-df-container\">\n",
              "      <div>\n",
              "<style scoped>\n",
              "    .dataframe tbody tr th:only-of-type {\n",
              "        vertical-align: middle;\n",
              "    }\n",
              "\n",
              "    .dataframe tbody tr th {\n",
              "        vertical-align: top;\n",
              "    }\n",
              "\n",
              "    .dataframe thead th {\n",
              "        text-align: right;\n",
              "    }\n",
              "</style>\n",
              "<table border=\"1\" class=\"dataframe\">\n",
              "  <thead>\n",
              "    <tr style=\"text-align: right;\">\n",
              "      <th></th>\n",
              "      <th>Name</th>\n",
              "      <th>Brand</th>\n",
              "      <th>Price</th>\n",
              "      <th>DiscountedPrice</th>\n",
              "      <th>Category</th>\n",
              "      <th>SubCategory</th>\n",
              "      <th>Quantity</th>\n",
              "      <th>Description</th>\n",
              "      <th>BreadCrumbs</th>\n",
              "    </tr>\n",
              "  </thead>\n",
              "  <tbody>\n",
              "    <tr>\n",
              "      <th>0</th>\n",
              "      <td>Premia Badam (Almonds)</td>\n",
              "      <td>Premia</td>\n",
              "      <td>451.0</td>\n",
              "      <td>329.0</td>\n",
              "      <td>Grocery</td>\n",
              "      <td>Grocery/Dry Fruits</td>\n",
              "      <td>500 gm</td>\n",
              "      <td>India</td>\n",
              "      <td>Grocery &gt; Grocery/Dry Fruits</td>\n",
              "    </tr>\n",
              "    <tr>\n",
              "      <th>1</th>\n",
              "      <td>Premia Badam (Almonds)</td>\n",
              "      <td>Premia</td>\n",
              "      <td>109.0</td>\n",
              "      <td>85.0</td>\n",
              "      <td>Grocery</td>\n",
              "      <td>Grocery/Dry Fruits</td>\n",
              "      <td>100 gm</td>\n",
              "      <td>India</td>\n",
              "      <td>Grocery &gt; Grocery/Dry Fruits</td>\n",
              "    </tr>\n",
              "    <tr>\n",
              "      <th>2</th>\n",
              "      <td>Premia Badam (Almonds)</td>\n",
              "      <td>Premia</td>\n",
              "      <td>202.0</td>\n",
              "      <td>175.0</td>\n",
              "      <td>Grocery</td>\n",
              "      <td>Grocery/Dry Fruits</td>\n",
              "      <td>200 gm</td>\n",
              "      <td>India</td>\n",
              "      <td>Grocery &gt; Grocery/Dry Fruits</td>\n",
              "    </tr>\n",
              "    <tr>\n",
              "      <th>3</th>\n",
              "      <td>Nutraj California Almonds (Badam)</td>\n",
              "      <td>Nutraj</td>\n",
              "      <td>599.0</td>\n",
              "      <td>349.0</td>\n",
              "      <td>Grocery</td>\n",
              "      <td>Dry Fruits</td>\n",
              "      <td>500 gm</td>\n",
              "      <td>USA</td>\n",
              "      <td>Grocery &gt; Dry Fruits</td>\n",
              "    </tr>\n",
              "    <tr>\n",
              "      <th>4</th>\n",
              "      <td>Nutraj California Almonds (Badam)</td>\n",
              "      <td>Nutraj</td>\n",
              "      <td>1549.0</td>\n",
              "      <td>659.0</td>\n",
              "      <td>Grocery</td>\n",
              "      <td>Dry Fruits</td>\n",
              "      <td>1 kg</td>\n",
              "      <td>USA</td>\n",
              "      <td>Grocery &gt; Dry Fruits</td>\n",
              "    </tr>\n",
              "    <tr>\n",
              "      <th>...</th>\n",
              "      <td>...</td>\n",
              "      <td>...</td>\n",
              "      <td>...</td>\n",
              "      <td>...</td>\n",
              "      <td>...</td>\n",
              "      <td>...</td>\n",
              "      <td>...</td>\n",
              "      <td>...</td>\n",
              "      <td>...</td>\n",
              "    </tr>\n",
              "    <tr>\n",
              "      <th>5184</th>\n",
              "      <td>Navneet Youva A4 Notebook - Assorted</td>\n",
              "      <td>Navneet</td>\n",
              "      <td>55.0</td>\n",
              "      <td>36.0</td>\n",
              "      <td>School Supplies</td>\n",
              "      <td>School Needs</td>\n",
              "      <td>1 Book</td>\n",
              "      <td>OverviewEach book has an index page with label...</td>\n",
              "      <td>School Supplies &gt; School Needs</td>\n",
              "    </tr>\n",
              "    <tr>\n",
              "      <th>5185</th>\n",
              "      <td>Navneet Youva Longbook Journal - Assorted</td>\n",
              "      <td>Navneet</td>\n",
              "      <td>85.0</td>\n",
              "      <td>69.0</td>\n",
              "      <td>School Supplies</td>\n",
              "      <td>School Needs</td>\n",
              "      <td>1 Book</td>\n",
              "      <td>OverviewStrong &amp; sturdy case binding. Easy to ...</td>\n",
              "      <td>School Supplies &gt; School Needs</td>\n",
              "    </tr>\n",
              "    <tr>\n",
              "      <th>5186</th>\n",
              "      <td>Navneet Youva Long Notebook - Assorted</td>\n",
              "      <td>Navneet</td>\n",
              "      <td>55.0</td>\n",
              "      <td>40.0</td>\n",
              "      <td>School Supplies</td>\n",
              "      <td>School Needs</td>\n",
              "      <td>1 Book</td>\n",
              "      <td>OverviewAttractive colour and designs. Easy to...</td>\n",
              "      <td>School Supplies &gt; School Needs</td>\n",
              "    </tr>\n",
              "    <tr>\n",
              "      <th>5187</th>\n",
              "      <td>Navneet Youva Drawing Book - Assorted</td>\n",
              "      <td>Navneet</td>\n",
              "      <td>110.0</td>\n",
              "      <td>72.0</td>\n",
              "      <td>School Supplies</td>\n",
              "      <td>School Needs</td>\n",
              "      <td>1 Book</td>\n",
              "      <td>OverviewDrawing book has attractive cover desi...</td>\n",
              "      <td>School Supplies &gt; School Needs</td>\n",
              "    </tr>\n",
              "    <tr>\n",
              "      <th>5188</th>\n",
              "      <td>Navneet Youva Canvas Board (10x12 Inches)</td>\n",
              "      <td>Navneet</td>\n",
              "      <td>90.0</td>\n",
              "      <td>75.0</td>\n",
              "      <td>School Supplies</td>\n",
              "      <td>School Needs</td>\n",
              "      <td>1 U</td>\n",
              "      <td>OverviewCoated with a double layer of acrylic ...</td>\n",
              "      <td>School Supplies &gt; School Needs</td>\n",
              "    </tr>\n",
              "  </tbody>\n",
              "</table>\n",
              "<p>5189 rows × 9 columns</p>\n",
              "</div>\n",
              "      <button class=\"colab-df-convert\" onclick=\"convertToInteractive('df-7669090f-d313-483e-8588-a9a67c5d171d')\"\n",
              "              title=\"Convert this dataframe to an interactive table.\"\n",
              "              style=\"display:none;\">\n",
              "        \n",
              "  <svg xmlns=\"http://www.w3.org/2000/svg\" height=\"24px\"viewBox=\"0 0 24 24\"\n",
              "       width=\"24px\">\n",
              "    <path d=\"M0 0h24v24H0V0z\" fill=\"none\"/>\n",
              "    <path d=\"M18.56 5.44l.94 2.06.94-2.06 2.06-.94-2.06-.94-.94-2.06-.94 2.06-2.06.94zm-11 1L8.5 8.5l.94-2.06 2.06-.94-2.06-.94L8.5 2.5l-.94 2.06-2.06.94zm10 10l.94 2.06.94-2.06 2.06-.94-2.06-.94-.94-2.06-.94 2.06-2.06.94z\"/><path d=\"M17.41 7.96l-1.37-1.37c-.4-.4-.92-.59-1.43-.59-.52 0-1.04.2-1.43.59L10.3 9.45l-7.72 7.72c-.78.78-.78 2.05 0 2.83L4 21.41c.39.39.9.59 1.41.59.51 0 1.02-.2 1.41-.59l7.78-7.78 2.81-2.81c.8-.78.8-2.07 0-2.86zM5.41 20L4 18.59l7.72-7.72 1.47 1.35L5.41 20z\"/>\n",
              "  </svg>\n",
              "      </button>\n",
              "      \n",
              "  <style>\n",
              "    .colab-df-container {\n",
              "      display:flex;\n",
              "      flex-wrap:wrap;\n",
              "      gap: 12px;\n",
              "    }\n",
              "\n",
              "    .colab-df-convert {\n",
              "      background-color: #E8F0FE;\n",
              "      border: none;\n",
              "      border-radius: 50%;\n",
              "      cursor: pointer;\n",
              "      display: none;\n",
              "      fill: #1967D2;\n",
              "      height: 32px;\n",
              "      padding: 0 0 0 0;\n",
              "      width: 32px;\n",
              "    }\n",
              "\n",
              "    .colab-df-convert:hover {\n",
              "      background-color: #E2EBFA;\n",
              "      box-shadow: 0px 1px 2px rgba(60, 64, 67, 0.3), 0px 1px 3px 1px rgba(60, 64, 67, 0.15);\n",
              "      fill: #174EA6;\n",
              "    }\n",
              "\n",
              "    [theme=dark] .colab-df-convert {\n",
              "      background-color: #3B4455;\n",
              "      fill: #D2E3FC;\n",
              "    }\n",
              "\n",
              "    [theme=dark] .colab-df-convert:hover {\n",
              "      background-color: #434B5C;\n",
              "      box-shadow: 0px 1px 3px 1px rgba(0, 0, 0, 0.15);\n",
              "      filter: drop-shadow(0px 1px 2px rgba(0, 0, 0, 0.3));\n",
              "      fill: #FFFFFF;\n",
              "    }\n",
              "  </style>\n",
              "\n",
              "      <script>\n",
              "        const buttonEl =\n",
              "          document.querySelector('#df-7669090f-d313-483e-8588-a9a67c5d171d button.colab-df-convert');\n",
              "        buttonEl.style.display =\n",
              "          google.colab.kernel.accessAllowed ? 'block' : 'none';\n",
              "\n",
              "        async function convertToInteractive(key) {\n",
              "          const element = document.querySelector('#df-7669090f-d313-483e-8588-a9a67c5d171d');\n",
              "          const dataTable =\n",
              "            await google.colab.kernel.invokeFunction('convertToInteractive',\n",
              "                                                     [key], {});\n",
              "          if (!dataTable) return;\n",
              "\n",
              "          const docLinkHtml = 'Like what you see? Visit the ' +\n",
              "            '<a target=\"_blank\" href=https://colab.research.google.com/notebooks/data_table.ipynb>data table notebook</a>'\n",
              "            + ' to learn more about interactive tables.';\n",
              "          element.innerHTML = '';\n",
              "          dataTable['output_type'] = 'display_data';\n",
              "          await google.colab.output.renderOutput(dataTable, element);\n",
              "          const docLink = document.createElement('div');\n",
              "          docLink.innerHTML = docLinkHtml;\n",
              "          element.appendChild(docLink);\n",
              "        }\n",
              "      </script>\n",
              "    </div>\n",
              "  </div>\n",
              "  "
            ]
          },
          "metadata": {},
          "execution_count": 4
        }
      ]
    },
    {
      "cell_type": "code",
      "source": [
        "df.head(10) # Print Top 10 entries\n"
      ],
      "metadata": {
        "colab": {
          "base_uri": "https://localhost:8080/",
          "height": 363
        },
        "id": "BjGXaw3TGfkt",
        "outputId": "fe830997-9011-4519-e262-0a90a9e1ce60"
      },
      "execution_count": null,
      "outputs": [
        {
          "output_type": "execute_result",
          "data": {
            "text/plain": [
              "                                Name   Brand   Price  DiscountedPrice  \\\n",
              "0             Premia Badam (Almonds)  Premia   451.0            329.0   \n",
              "1             Premia Badam (Almonds)  Premia   109.0             85.0   \n",
              "2             Premia Badam (Almonds)  Premia   202.0            175.0   \n",
              "3  Nutraj California Almonds (Badam)  Nutraj   599.0            349.0   \n",
              "4  Nutraj California Almonds (Badam)  Nutraj  1549.0            659.0   \n",
              "5                          Chana Dal     NaN    49.0             42.0   \n",
              "6                          Chana Dal     NaN    96.0             80.0   \n",
              "7                        Rajma White     NaN   112.0            102.0   \n",
              "8                 Rajma Kashmiri Red     NaN   101.0             81.0   \n",
              "9                 Premia Mamra Badam  Premia   634.0            488.0   \n",
              "\n",
              "  Category         SubCategory Quantity Description  \\\n",
              "0  Grocery  Grocery/Dry Fruits   500 gm       India   \n",
              "1  Grocery  Grocery/Dry Fruits   100 gm       India   \n",
              "2  Grocery  Grocery/Dry Fruits   200 gm       India   \n",
              "3  Grocery          Dry Fruits   500 gm         USA   \n",
              "4  Grocery          Dry Fruits     1 kg         USA   \n",
              "5  Grocery                Dals   500 gm       India   \n",
              "6  Grocery                Dals     1 kg       India   \n",
              "7  Grocery              Pulses   500 gm       India   \n",
              "8  Grocery              Pulses   500 gm       India   \n",
              "9  Grocery          Dry Fruits   200 gm       India   \n",
              "\n",
              "                    BreadCrumbs  \n",
              "0  Grocery > Grocery/Dry Fruits  \n",
              "1  Grocery > Grocery/Dry Fruits  \n",
              "2  Grocery > Grocery/Dry Fruits  \n",
              "3          Grocery > Dry Fruits  \n",
              "4          Grocery > Dry Fruits  \n",
              "5                Grocery > Dals  \n",
              "6                Grocery > Dals  \n",
              "7              Grocery > Pulses  \n",
              "8              Grocery > Pulses  \n",
              "9          Grocery > Dry Fruits  "
            ],
            "text/html": [
              "\n",
              "  <div id=\"df-9317aed3-023f-4bf6-b999-88fa2799a234\">\n",
              "    <div class=\"colab-df-container\">\n",
              "      <div>\n",
              "<style scoped>\n",
              "    .dataframe tbody tr th:only-of-type {\n",
              "        vertical-align: middle;\n",
              "    }\n",
              "\n",
              "    .dataframe tbody tr th {\n",
              "        vertical-align: top;\n",
              "    }\n",
              "\n",
              "    .dataframe thead th {\n",
              "        text-align: right;\n",
              "    }\n",
              "</style>\n",
              "<table border=\"1\" class=\"dataframe\">\n",
              "  <thead>\n",
              "    <tr style=\"text-align: right;\">\n",
              "      <th></th>\n",
              "      <th>Name</th>\n",
              "      <th>Brand</th>\n",
              "      <th>Price</th>\n",
              "      <th>DiscountedPrice</th>\n",
              "      <th>Category</th>\n",
              "      <th>SubCategory</th>\n",
              "      <th>Quantity</th>\n",
              "      <th>Description</th>\n",
              "      <th>BreadCrumbs</th>\n",
              "    </tr>\n",
              "  </thead>\n",
              "  <tbody>\n",
              "    <tr>\n",
              "      <th>0</th>\n",
              "      <td>Premia Badam (Almonds)</td>\n",
              "      <td>Premia</td>\n",
              "      <td>451.0</td>\n",
              "      <td>329.0</td>\n",
              "      <td>Grocery</td>\n",
              "      <td>Grocery/Dry Fruits</td>\n",
              "      <td>500 gm</td>\n",
              "      <td>India</td>\n",
              "      <td>Grocery &gt; Grocery/Dry Fruits</td>\n",
              "    </tr>\n",
              "    <tr>\n",
              "      <th>1</th>\n",
              "      <td>Premia Badam (Almonds)</td>\n",
              "      <td>Premia</td>\n",
              "      <td>109.0</td>\n",
              "      <td>85.0</td>\n",
              "      <td>Grocery</td>\n",
              "      <td>Grocery/Dry Fruits</td>\n",
              "      <td>100 gm</td>\n",
              "      <td>India</td>\n",
              "      <td>Grocery &gt; Grocery/Dry Fruits</td>\n",
              "    </tr>\n",
              "    <tr>\n",
              "      <th>2</th>\n",
              "      <td>Premia Badam (Almonds)</td>\n",
              "      <td>Premia</td>\n",
              "      <td>202.0</td>\n",
              "      <td>175.0</td>\n",
              "      <td>Grocery</td>\n",
              "      <td>Grocery/Dry Fruits</td>\n",
              "      <td>200 gm</td>\n",
              "      <td>India</td>\n",
              "      <td>Grocery &gt; Grocery/Dry Fruits</td>\n",
              "    </tr>\n",
              "    <tr>\n",
              "      <th>3</th>\n",
              "      <td>Nutraj California Almonds (Badam)</td>\n",
              "      <td>Nutraj</td>\n",
              "      <td>599.0</td>\n",
              "      <td>349.0</td>\n",
              "      <td>Grocery</td>\n",
              "      <td>Dry Fruits</td>\n",
              "      <td>500 gm</td>\n",
              "      <td>USA</td>\n",
              "      <td>Grocery &gt; Dry Fruits</td>\n",
              "    </tr>\n",
              "    <tr>\n",
              "      <th>4</th>\n",
              "      <td>Nutraj California Almonds (Badam)</td>\n",
              "      <td>Nutraj</td>\n",
              "      <td>1549.0</td>\n",
              "      <td>659.0</td>\n",
              "      <td>Grocery</td>\n",
              "      <td>Dry Fruits</td>\n",
              "      <td>1 kg</td>\n",
              "      <td>USA</td>\n",
              "      <td>Grocery &gt; Dry Fruits</td>\n",
              "    </tr>\n",
              "    <tr>\n",
              "      <th>5</th>\n",
              "      <td>Chana Dal</td>\n",
              "      <td>NaN</td>\n",
              "      <td>49.0</td>\n",
              "      <td>42.0</td>\n",
              "      <td>Grocery</td>\n",
              "      <td>Dals</td>\n",
              "      <td>500 gm</td>\n",
              "      <td>India</td>\n",
              "      <td>Grocery &gt; Dals</td>\n",
              "    </tr>\n",
              "    <tr>\n",
              "      <th>6</th>\n",
              "      <td>Chana Dal</td>\n",
              "      <td>NaN</td>\n",
              "      <td>96.0</td>\n",
              "      <td>80.0</td>\n",
              "      <td>Grocery</td>\n",
              "      <td>Dals</td>\n",
              "      <td>1 kg</td>\n",
              "      <td>India</td>\n",
              "      <td>Grocery &gt; Dals</td>\n",
              "    </tr>\n",
              "    <tr>\n",
              "      <th>7</th>\n",
              "      <td>Rajma White</td>\n",
              "      <td>NaN</td>\n",
              "      <td>112.0</td>\n",
              "      <td>102.0</td>\n",
              "      <td>Grocery</td>\n",
              "      <td>Pulses</td>\n",
              "      <td>500 gm</td>\n",
              "      <td>India</td>\n",
              "      <td>Grocery &gt; Pulses</td>\n",
              "    </tr>\n",
              "    <tr>\n",
              "      <th>8</th>\n",
              "      <td>Rajma Kashmiri Red</td>\n",
              "      <td>NaN</td>\n",
              "      <td>101.0</td>\n",
              "      <td>81.0</td>\n",
              "      <td>Grocery</td>\n",
              "      <td>Pulses</td>\n",
              "      <td>500 gm</td>\n",
              "      <td>India</td>\n",
              "      <td>Grocery &gt; Pulses</td>\n",
              "    </tr>\n",
              "    <tr>\n",
              "      <th>9</th>\n",
              "      <td>Premia Mamra Badam</td>\n",
              "      <td>Premia</td>\n",
              "      <td>634.0</td>\n",
              "      <td>488.0</td>\n",
              "      <td>Grocery</td>\n",
              "      <td>Dry Fruits</td>\n",
              "      <td>200 gm</td>\n",
              "      <td>India</td>\n",
              "      <td>Grocery &gt; Dry Fruits</td>\n",
              "    </tr>\n",
              "  </tbody>\n",
              "</table>\n",
              "</div>\n",
              "      <button class=\"colab-df-convert\" onclick=\"convertToInteractive('df-9317aed3-023f-4bf6-b999-88fa2799a234')\"\n",
              "              title=\"Convert this dataframe to an interactive table.\"\n",
              "              style=\"display:none;\">\n",
              "        \n",
              "  <svg xmlns=\"http://www.w3.org/2000/svg\" height=\"24px\"viewBox=\"0 0 24 24\"\n",
              "       width=\"24px\">\n",
              "    <path d=\"M0 0h24v24H0V0z\" fill=\"none\"/>\n",
              "    <path d=\"M18.56 5.44l.94 2.06.94-2.06 2.06-.94-2.06-.94-.94-2.06-.94 2.06-2.06.94zm-11 1L8.5 8.5l.94-2.06 2.06-.94-2.06-.94L8.5 2.5l-.94 2.06-2.06.94zm10 10l.94 2.06.94-2.06 2.06-.94-2.06-.94-.94-2.06-.94 2.06-2.06.94z\"/><path d=\"M17.41 7.96l-1.37-1.37c-.4-.4-.92-.59-1.43-.59-.52 0-1.04.2-1.43.59L10.3 9.45l-7.72 7.72c-.78.78-.78 2.05 0 2.83L4 21.41c.39.39.9.59 1.41.59.51 0 1.02-.2 1.41-.59l7.78-7.78 2.81-2.81c.8-.78.8-2.07 0-2.86zM5.41 20L4 18.59l7.72-7.72 1.47 1.35L5.41 20z\"/>\n",
              "  </svg>\n",
              "      </button>\n",
              "      \n",
              "  <style>\n",
              "    .colab-df-container {\n",
              "      display:flex;\n",
              "      flex-wrap:wrap;\n",
              "      gap: 12px;\n",
              "    }\n",
              "\n",
              "    .colab-df-convert {\n",
              "      background-color: #E8F0FE;\n",
              "      border: none;\n",
              "      border-radius: 50%;\n",
              "      cursor: pointer;\n",
              "      display: none;\n",
              "      fill: #1967D2;\n",
              "      height: 32px;\n",
              "      padding: 0 0 0 0;\n",
              "      width: 32px;\n",
              "    }\n",
              "\n",
              "    .colab-df-convert:hover {\n",
              "      background-color: #E2EBFA;\n",
              "      box-shadow: 0px 1px 2px rgba(60, 64, 67, 0.3), 0px 1px 3px 1px rgba(60, 64, 67, 0.15);\n",
              "      fill: #174EA6;\n",
              "    }\n",
              "\n",
              "    [theme=dark] .colab-df-convert {\n",
              "      background-color: #3B4455;\n",
              "      fill: #D2E3FC;\n",
              "    }\n",
              "\n",
              "    [theme=dark] .colab-df-convert:hover {\n",
              "      background-color: #434B5C;\n",
              "      box-shadow: 0px 1px 3px 1px rgba(0, 0, 0, 0.15);\n",
              "      filter: drop-shadow(0px 1px 2px rgba(0, 0, 0, 0.3));\n",
              "      fill: #FFFFFF;\n",
              "    }\n",
              "  </style>\n",
              "\n",
              "      <script>\n",
              "        const buttonEl =\n",
              "          document.querySelector('#df-9317aed3-023f-4bf6-b999-88fa2799a234 button.colab-df-convert');\n",
              "        buttonEl.style.display =\n",
              "          google.colab.kernel.accessAllowed ? 'block' : 'none';\n",
              "\n",
              "        async function convertToInteractive(key) {\n",
              "          const element = document.querySelector('#df-9317aed3-023f-4bf6-b999-88fa2799a234');\n",
              "          const dataTable =\n",
              "            await google.colab.kernel.invokeFunction('convertToInteractive',\n",
              "                                                     [key], {});\n",
              "          if (!dataTable) return;\n",
              "\n",
              "          const docLinkHtml = 'Like what you see? Visit the ' +\n",
              "            '<a target=\"_blank\" href=https://colab.research.google.com/notebooks/data_table.ipynb>data table notebook</a>'\n",
              "            + ' to learn more about interactive tables.';\n",
              "          element.innerHTML = '';\n",
              "          dataTable['output_type'] = 'display_data';\n",
              "          await google.colab.output.renderOutput(dataTable, element);\n",
              "          const docLink = document.createElement('div');\n",
              "          docLink.innerHTML = docLinkHtml;\n",
              "          element.appendChild(docLink);\n",
              "        }\n",
              "      </script>\n",
              "    </div>\n",
              "  </div>\n",
              "  "
            ]
          },
          "metadata": {},
          "execution_count": 5
        }
      ]
    },
    {
      "cell_type": "code",
      "source": [
        "df.count() # Sum of non-null entries by Column"
      ],
      "metadata": {
        "colab": {
          "base_uri": "https://localhost:8080/"
        },
        "id": "dcQuBXd0Gg72",
        "outputId": "7f4066ef-ab47-4b13-8ac8-cf5411fc56af"
      },
      "execution_count": null,
      "outputs": [
        {
          "output_type": "execute_result",
          "data": {
            "text/plain": [
              "Name               5188\n",
              "Brand              4789\n",
              "Price              5188\n",
              "DiscountedPrice    5188\n",
              "Category           5186\n",
              "SubCategory        5186\n",
              "Quantity           5188\n",
              "Description        5187\n",
              "BreadCrumbs        5186\n",
              "dtype: int64"
            ]
          },
          "metadata": {},
          "execution_count": 6
        }
      ]
    },
    {
      "cell_type": "code",
      "source": [
        "df.isnull().sum() # Sum of null entries by Column"
      ],
      "metadata": {
        "colab": {
          "base_uri": "https://localhost:8080/"
        },
        "id": "VBS7c8j6Gn3W",
        "outputId": "3affca2d-7f77-48ca-fc62-dc9d97b103b3"
      },
      "execution_count": null,
      "outputs": [
        {
          "output_type": "execute_result",
          "data": {
            "text/plain": [
              "Name                 1\n",
              "Brand              400\n",
              "Price                1\n",
              "DiscountedPrice      1\n",
              "Category             3\n",
              "SubCategory          3\n",
              "Quantity             1\n",
              "Description          2\n",
              "BreadCrumbs          3\n",
              "dtype: int64"
            ]
          },
          "metadata": {},
          "execution_count": 7
        }
      ]
    },
    {
      "cell_type": "code",
      "source": [
        "len(df) # Total # Rows"
      ],
      "metadata": {
        "colab": {
          "base_uri": "https://localhost:8080/"
        },
        "id": "z8b9zxaOGpt-",
        "outputId": "5adfd337-137e-43ba-e279-b8c3a0398bbd"
      },
      "execution_count": null,
      "outputs": [
        {
          "output_type": "execute_result",
          "data": {
            "text/plain": [
              "5189"
            ]
          },
          "metadata": {},
          "execution_count": 8
        }
      ]
    },
    {
      "cell_type": "code",
      "source": [
        "df.count() / len(df) # fraction of Valid rows"
      ],
      "metadata": {
        "colab": {
          "base_uri": "https://localhost:8080/"
        },
        "id": "Py6ZNrlvGqI_",
        "outputId": "bc1c6e14-bbd4-4829-92f9-360fb67f52ba"
      },
      "execution_count": null,
      "outputs": [
        {
          "output_type": "execute_result",
          "data": {
            "text/plain": [
              "Name               0.999807\n",
              "Brand              0.922914\n",
              "Price              0.999807\n",
              "DiscountedPrice    0.999807\n",
              "Category           0.999422\n",
              "SubCategory        0.999422\n",
              "Quantity           0.999807\n",
              "Description        0.999615\n",
              "BreadCrumbs        0.999422\n",
              "dtype: float64"
            ]
          },
          "metadata": {},
          "execution_count": 9
        }
      ]
    },
    {
      "cell_type": "code",
      "source": [
        "df.describe() # Stats on the numeric columns (but not for character columns)"
      ],
      "metadata": {
        "colab": {
          "base_uri": "https://localhost:8080/",
          "height": 300
        },
        "id": "cJ_ksPW9Gt0d",
        "outputId": "14985deb-f55c-42c2-fe94-9157586f279b"
      },
      "execution_count": null,
      "outputs": [
        {
          "output_type": "execute_result",
          "data": {
            "text/plain": [
              "              Price  DiscountedPrice\n",
              "count   5188.000000      5188.000000\n",
              "mean     344.030360       236.669719\n",
              "std      601.034092       387.198716\n",
              "min        0.000000         0.000000\n",
              "25%       85.000000        64.000000\n",
              "50%      175.000000       125.000000\n",
              "75%      345.000000       249.000000\n",
              "max    10990.000000      7999.000000"
            ],
            "text/html": [
              "\n",
              "  <div id=\"df-64d687ed-3a6d-4f45-8bc5-3d8741623b1e\">\n",
              "    <div class=\"colab-df-container\">\n",
              "      <div>\n",
              "<style scoped>\n",
              "    .dataframe tbody tr th:only-of-type {\n",
              "        vertical-align: middle;\n",
              "    }\n",
              "\n",
              "    .dataframe tbody tr th {\n",
              "        vertical-align: top;\n",
              "    }\n",
              "\n",
              "    .dataframe thead th {\n",
              "        text-align: right;\n",
              "    }\n",
              "</style>\n",
              "<table border=\"1\" class=\"dataframe\">\n",
              "  <thead>\n",
              "    <tr style=\"text-align: right;\">\n",
              "      <th></th>\n",
              "      <th>Price</th>\n",
              "      <th>DiscountedPrice</th>\n",
              "    </tr>\n",
              "  </thead>\n",
              "  <tbody>\n",
              "    <tr>\n",
              "      <th>count</th>\n",
              "      <td>5188.000000</td>\n",
              "      <td>5188.000000</td>\n",
              "    </tr>\n",
              "    <tr>\n",
              "      <th>mean</th>\n",
              "      <td>344.030360</td>\n",
              "      <td>236.669719</td>\n",
              "    </tr>\n",
              "    <tr>\n",
              "      <th>std</th>\n",
              "      <td>601.034092</td>\n",
              "      <td>387.198716</td>\n",
              "    </tr>\n",
              "    <tr>\n",
              "      <th>min</th>\n",
              "      <td>0.000000</td>\n",
              "      <td>0.000000</td>\n",
              "    </tr>\n",
              "    <tr>\n",
              "      <th>25%</th>\n",
              "      <td>85.000000</td>\n",
              "      <td>64.000000</td>\n",
              "    </tr>\n",
              "    <tr>\n",
              "      <th>50%</th>\n",
              "      <td>175.000000</td>\n",
              "      <td>125.000000</td>\n",
              "    </tr>\n",
              "    <tr>\n",
              "      <th>75%</th>\n",
              "      <td>345.000000</td>\n",
              "      <td>249.000000</td>\n",
              "    </tr>\n",
              "    <tr>\n",
              "      <th>max</th>\n",
              "      <td>10990.000000</td>\n",
              "      <td>7999.000000</td>\n",
              "    </tr>\n",
              "  </tbody>\n",
              "</table>\n",
              "</div>\n",
              "      <button class=\"colab-df-convert\" onclick=\"convertToInteractive('df-64d687ed-3a6d-4f45-8bc5-3d8741623b1e')\"\n",
              "              title=\"Convert this dataframe to an interactive table.\"\n",
              "              style=\"display:none;\">\n",
              "        \n",
              "  <svg xmlns=\"http://www.w3.org/2000/svg\" height=\"24px\"viewBox=\"0 0 24 24\"\n",
              "       width=\"24px\">\n",
              "    <path d=\"M0 0h24v24H0V0z\" fill=\"none\"/>\n",
              "    <path d=\"M18.56 5.44l.94 2.06.94-2.06 2.06-.94-2.06-.94-.94-2.06-.94 2.06-2.06.94zm-11 1L8.5 8.5l.94-2.06 2.06-.94-2.06-.94L8.5 2.5l-.94 2.06-2.06.94zm10 10l.94 2.06.94-2.06 2.06-.94-2.06-.94-.94-2.06-.94 2.06-2.06.94z\"/><path d=\"M17.41 7.96l-1.37-1.37c-.4-.4-.92-.59-1.43-.59-.52 0-1.04.2-1.43.59L10.3 9.45l-7.72 7.72c-.78.78-.78 2.05 0 2.83L4 21.41c.39.39.9.59 1.41.59.51 0 1.02-.2 1.41-.59l7.78-7.78 2.81-2.81c.8-.78.8-2.07 0-2.86zM5.41 20L4 18.59l7.72-7.72 1.47 1.35L5.41 20z\"/>\n",
              "  </svg>\n",
              "      </button>\n",
              "      \n",
              "  <style>\n",
              "    .colab-df-container {\n",
              "      display:flex;\n",
              "      flex-wrap:wrap;\n",
              "      gap: 12px;\n",
              "    }\n",
              "\n",
              "    .colab-df-convert {\n",
              "      background-color: #E8F0FE;\n",
              "      border: none;\n",
              "      border-radius: 50%;\n",
              "      cursor: pointer;\n",
              "      display: none;\n",
              "      fill: #1967D2;\n",
              "      height: 32px;\n",
              "      padding: 0 0 0 0;\n",
              "      width: 32px;\n",
              "    }\n",
              "\n",
              "    .colab-df-convert:hover {\n",
              "      background-color: #E2EBFA;\n",
              "      box-shadow: 0px 1px 2px rgba(60, 64, 67, 0.3), 0px 1px 3px 1px rgba(60, 64, 67, 0.15);\n",
              "      fill: #174EA6;\n",
              "    }\n",
              "\n",
              "    [theme=dark] .colab-df-convert {\n",
              "      background-color: #3B4455;\n",
              "      fill: #D2E3FC;\n",
              "    }\n",
              "\n",
              "    [theme=dark] .colab-df-convert:hover {\n",
              "      background-color: #434B5C;\n",
              "      box-shadow: 0px 1px 3px 1px rgba(0, 0, 0, 0.15);\n",
              "      filter: drop-shadow(0px 1px 2px rgba(0, 0, 0, 0.3));\n",
              "      fill: #FFFFFF;\n",
              "    }\n",
              "  </style>\n",
              "\n",
              "      <script>\n",
              "        const buttonEl =\n",
              "          document.querySelector('#df-64d687ed-3a6d-4f45-8bc5-3d8741623b1e button.colab-df-convert');\n",
              "        buttonEl.style.display =\n",
              "          google.colab.kernel.accessAllowed ? 'block' : 'none';\n",
              "\n",
              "        async function convertToInteractive(key) {\n",
              "          const element = document.querySelector('#df-64d687ed-3a6d-4f45-8bc5-3d8741623b1e');\n",
              "          const dataTable =\n",
              "            await google.colab.kernel.invokeFunction('convertToInteractive',\n",
              "                                                     [key], {});\n",
              "          if (!dataTable) return;\n",
              "\n",
              "          const docLinkHtml = 'Like what you see? Visit the ' +\n",
              "            '<a target=\"_blank\" href=https://colab.research.google.com/notebooks/data_table.ipynb>data table notebook</a>'\n",
              "            + ' to learn more about interactive tables.';\n",
              "          element.innerHTML = '';\n",
              "          dataTable['output_type'] = 'display_data';\n",
              "          await google.colab.output.renderOutput(dataTable, element);\n",
              "          const docLink = document.createElement('div');\n",
              "          docLink.innerHTML = docLinkHtml;\n",
              "          element.appendChild(docLink);\n",
              "        }\n",
              "      </script>\n",
              "    </div>\n",
              "  </div>\n",
              "  "
            ]
          },
          "metadata": {},
          "execution_count": 10
        }
      ]
    },
    {
      "cell_type": "code",
      "source": [
        "# Create a dummy column\n",
        "df[\"Percent\"] = df[\"DiscountedPrice\"]*100/df[\"Price\"]\n",
        "df.head(10)"
      ],
      "metadata": {
        "colab": {
          "base_uri": "https://localhost:8080/",
          "height": 363
        },
        "id": "eMKAsu9fGvx1",
        "outputId": "2131b775-edcb-4961-c90b-451bae1cfb68"
      },
      "execution_count": null,
      "outputs": [
        {
          "output_type": "execute_result",
          "data": {
            "text/plain": [
              "                                Name   Brand   Price  DiscountedPrice  \\\n",
              "0             Premia Badam (Almonds)  Premia   451.0            329.0   \n",
              "1             Premia Badam (Almonds)  Premia   109.0             85.0   \n",
              "2             Premia Badam (Almonds)  Premia   202.0            175.0   \n",
              "3  Nutraj California Almonds (Badam)  Nutraj   599.0            349.0   \n",
              "4  Nutraj California Almonds (Badam)  Nutraj  1549.0            659.0   \n",
              "5                          Chana Dal     NaN    49.0             42.0   \n",
              "6                          Chana Dal     NaN    96.0             80.0   \n",
              "7                        Rajma White     NaN   112.0            102.0   \n",
              "8                 Rajma Kashmiri Red     NaN   101.0             81.0   \n",
              "9                 Premia Mamra Badam  Premia   634.0            488.0   \n",
              "\n",
              "  Category         SubCategory Quantity Description  \\\n",
              "0  Grocery  Grocery/Dry Fruits   500 gm       India   \n",
              "1  Grocery  Grocery/Dry Fruits   100 gm       India   \n",
              "2  Grocery  Grocery/Dry Fruits   200 gm       India   \n",
              "3  Grocery          Dry Fruits   500 gm         USA   \n",
              "4  Grocery          Dry Fruits     1 kg         USA   \n",
              "5  Grocery                Dals   500 gm       India   \n",
              "6  Grocery                Dals     1 kg       India   \n",
              "7  Grocery              Pulses   500 gm       India   \n",
              "8  Grocery              Pulses   500 gm       India   \n",
              "9  Grocery          Dry Fruits   200 gm       India   \n",
              "\n",
              "                    BreadCrumbs    Percent  \n",
              "0  Grocery > Grocery/Dry Fruits  72.949002  \n",
              "1  Grocery > Grocery/Dry Fruits  77.981651  \n",
              "2  Grocery > Grocery/Dry Fruits  86.633663  \n",
              "3          Grocery > Dry Fruits  58.263773  \n",
              "4          Grocery > Dry Fruits  42.543577  \n",
              "5                Grocery > Dals  85.714286  \n",
              "6                Grocery > Dals  83.333333  \n",
              "7              Grocery > Pulses  91.071429  \n",
              "8              Grocery > Pulses  80.198020  \n",
              "9          Grocery > Dry Fruits  76.971609  "
            ],
            "text/html": [
              "\n",
              "  <div id=\"df-56f18335-9218-4884-9423-79df7b4a9d41\">\n",
              "    <div class=\"colab-df-container\">\n",
              "      <div>\n",
              "<style scoped>\n",
              "    .dataframe tbody tr th:only-of-type {\n",
              "        vertical-align: middle;\n",
              "    }\n",
              "\n",
              "    .dataframe tbody tr th {\n",
              "        vertical-align: top;\n",
              "    }\n",
              "\n",
              "    .dataframe thead th {\n",
              "        text-align: right;\n",
              "    }\n",
              "</style>\n",
              "<table border=\"1\" class=\"dataframe\">\n",
              "  <thead>\n",
              "    <tr style=\"text-align: right;\">\n",
              "      <th></th>\n",
              "      <th>Name</th>\n",
              "      <th>Brand</th>\n",
              "      <th>Price</th>\n",
              "      <th>DiscountedPrice</th>\n",
              "      <th>Category</th>\n",
              "      <th>SubCategory</th>\n",
              "      <th>Quantity</th>\n",
              "      <th>Description</th>\n",
              "      <th>BreadCrumbs</th>\n",
              "      <th>Percent</th>\n",
              "    </tr>\n",
              "  </thead>\n",
              "  <tbody>\n",
              "    <tr>\n",
              "      <th>0</th>\n",
              "      <td>Premia Badam (Almonds)</td>\n",
              "      <td>Premia</td>\n",
              "      <td>451.0</td>\n",
              "      <td>329.0</td>\n",
              "      <td>Grocery</td>\n",
              "      <td>Grocery/Dry Fruits</td>\n",
              "      <td>500 gm</td>\n",
              "      <td>India</td>\n",
              "      <td>Grocery &gt; Grocery/Dry Fruits</td>\n",
              "      <td>72.949002</td>\n",
              "    </tr>\n",
              "    <tr>\n",
              "      <th>1</th>\n",
              "      <td>Premia Badam (Almonds)</td>\n",
              "      <td>Premia</td>\n",
              "      <td>109.0</td>\n",
              "      <td>85.0</td>\n",
              "      <td>Grocery</td>\n",
              "      <td>Grocery/Dry Fruits</td>\n",
              "      <td>100 gm</td>\n",
              "      <td>India</td>\n",
              "      <td>Grocery &gt; Grocery/Dry Fruits</td>\n",
              "      <td>77.981651</td>\n",
              "    </tr>\n",
              "    <tr>\n",
              "      <th>2</th>\n",
              "      <td>Premia Badam (Almonds)</td>\n",
              "      <td>Premia</td>\n",
              "      <td>202.0</td>\n",
              "      <td>175.0</td>\n",
              "      <td>Grocery</td>\n",
              "      <td>Grocery/Dry Fruits</td>\n",
              "      <td>200 gm</td>\n",
              "      <td>India</td>\n",
              "      <td>Grocery &gt; Grocery/Dry Fruits</td>\n",
              "      <td>86.633663</td>\n",
              "    </tr>\n",
              "    <tr>\n",
              "      <th>3</th>\n",
              "      <td>Nutraj California Almonds (Badam)</td>\n",
              "      <td>Nutraj</td>\n",
              "      <td>599.0</td>\n",
              "      <td>349.0</td>\n",
              "      <td>Grocery</td>\n",
              "      <td>Dry Fruits</td>\n",
              "      <td>500 gm</td>\n",
              "      <td>USA</td>\n",
              "      <td>Grocery &gt; Dry Fruits</td>\n",
              "      <td>58.263773</td>\n",
              "    </tr>\n",
              "    <tr>\n",
              "      <th>4</th>\n",
              "      <td>Nutraj California Almonds (Badam)</td>\n",
              "      <td>Nutraj</td>\n",
              "      <td>1549.0</td>\n",
              "      <td>659.0</td>\n",
              "      <td>Grocery</td>\n",
              "      <td>Dry Fruits</td>\n",
              "      <td>1 kg</td>\n",
              "      <td>USA</td>\n",
              "      <td>Grocery &gt; Dry Fruits</td>\n",
              "      <td>42.543577</td>\n",
              "    </tr>\n",
              "    <tr>\n",
              "      <th>5</th>\n",
              "      <td>Chana Dal</td>\n",
              "      <td>NaN</td>\n",
              "      <td>49.0</td>\n",
              "      <td>42.0</td>\n",
              "      <td>Grocery</td>\n",
              "      <td>Dals</td>\n",
              "      <td>500 gm</td>\n",
              "      <td>India</td>\n",
              "      <td>Grocery &gt; Dals</td>\n",
              "      <td>85.714286</td>\n",
              "    </tr>\n",
              "    <tr>\n",
              "      <th>6</th>\n",
              "      <td>Chana Dal</td>\n",
              "      <td>NaN</td>\n",
              "      <td>96.0</td>\n",
              "      <td>80.0</td>\n",
              "      <td>Grocery</td>\n",
              "      <td>Dals</td>\n",
              "      <td>1 kg</td>\n",
              "      <td>India</td>\n",
              "      <td>Grocery &gt; Dals</td>\n",
              "      <td>83.333333</td>\n",
              "    </tr>\n",
              "    <tr>\n",
              "      <th>7</th>\n",
              "      <td>Rajma White</td>\n",
              "      <td>NaN</td>\n",
              "      <td>112.0</td>\n",
              "      <td>102.0</td>\n",
              "      <td>Grocery</td>\n",
              "      <td>Pulses</td>\n",
              "      <td>500 gm</td>\n",
              "      <td>India</td>\n",
              "      <td>Grocery &gt; Pulses</td>\n",
              "      <td>91.071429</td>\n",
              "    </tr>\n",
              "    <tr>\n",
              "      <th>8</th>\n",
              "      <td>Rajma Kashmiri Red</td>\n",
              "      <td>NaN</td>\n",
              "      <td>101.0</td>\n",
              "      <td>81.0</td>\n",
              "      <td>Grocery</td>\n",
              "      <td>Pulses</td>\n",
              "      <td>500 gm</td>\n",
              "      <td>India</td>\n",
              "      <td>Grocery &gt; Pulses</td>\n",
              "      <td>80.198020</td>\n",
              "    </tr>\n",
              "    <tr>\n",
              "      <th>9</th>\n",
              "      <td>Premia Mamra Badam</td>\n",
              "      <td>Premia</td>\n",
              "      <td>634.0</td>\n",
              "      <td>488.0</td>\n",
              "      <td>Grocery</td>\n",
              "      <td>Dry Fruits</td>\n",
              "      <td>200 gm</td>\n",
              "      <td>India</td>\n",
              "      <td>Grocery &gt; Dry Fruits</td>\n",
              "      <td>76.971609</td>\n",
              "    </tr>\n",
              "  </tbody>\n",
              "</table>\n",
              "</div>\n",
              "      <button class=\"colab-df-convert\" onclick=\"convertToInteractive('df-56f18335-9218-4884-9423-79df7b4a9d41')\"\n",
              "              title=\"Convert this dataframe to an interactive table.\"\n",
              "              style=\"display:none;\">\n",
              "        \n",
              "  <svg xmlns=\"http://www.w3.org/2000/svg\" height=\"24px\"viewBox=\"0 0 24 24\"\n",
              "       width=\"24px\">\n",
              "    <path d=\"M0 0h24v24H0V0z\" fill=\"none\"/>\n",
              "    <path d=\"M18.56 5.44l.94 2.06.94-2.06 2.06-.94-2.06-.94-.94-2.06-.94 2.06-2.06.94zm-11 1L8.5 8.5l.94-2.06 2.06-.94-2.06-.94L8.5 2.5l-.94 2.06-2.06.94zm10 10l.94 2.06.94-2.06 2.06-.94-2.06-.94-.94-2.06-.94 2.06-2.06.94z\"/><path d=\"M17.41 7.96l-1.37-1.37c-.4-.4-.92-.59-1.43-.59-.52 0-1.04.2-1.43.59L10.3 9.45l-7.72 7.72c-.78.78-.78 2.05 0 2.83L4 21.41c.39.39.9.59 1.41.59.51 0 1.02-.2 1.41-.59l7.78-7.78 2.81-2.81c.8-.78.8-2.07 0-2.86zM5.41 20L4 18.59l7.72-7.72 1.47 1.35L5.41 20z\"/>\n",
              "  </svg>\n",
              "      </button>\n",
              "      \n",
              "  <style>\n",
              "    .colab-df-container {\n",
              "      display:flex;\n",
              "      flex-wrap:wrap;\n",
              "      gap: 12px;\n",
              "    }\n",
              "\n",
              "    .colab-df-convert {\n",
              "      background-color: #E8F0FE;\n",
              "      border: none;\n",
              "      border-radius: 50%;\n",
              "      cursor: pointer;\n",
              "      display: none;\n",
              "      fill: #1967D2;\n",
              "      height: 32px;\n",
              "      padding: 0 0 0 0;\n",
              "      width: 32px;\n",
              "    }\n",
              "\n",
              "    .colab-df-convert:hover {\n",
              "      background-color: #E2EBFA;\n",
              "      box-shadow: 0px 1px 2px rgba(60, 64, 67, 0.3), 0px 1px 3px 1px rgba(60, 64, 67, 0.15);\n",
              "      fill: #174EA6;\n",
              "    }\n",
              "\n",
              "    [theme=dark] .colab-df-convert {\n",
              "      background-color: #3B4455;\n",
              "      fill: #D2E3FC;\n",
              "    }\n",
              "\n",
              "    [theme=dark] .colab-df-convert:hover {\n",
              "      background-color: #434B5C;\n",
              "      box-shadow: 0px 1px 3px 1px rgba(0, 0, 0, 0.15);\n",
              "      filter: drop-shadow(0px 1px 2px rgba(0, 0, 0, 0.3));\n",
              "      fill: #FFFFFF;\n",
              "    }\n",
              "  </style>\n",
              "\n",
              "      <script>\n",
              "        const buttonEl =\n",
              "          document.querySelector('#df-56f18335-9218-4884-9423-79df7b4a9d41 button.colab-df-convert');\n",
              "        buttonEl.style.display =\n",
              "          google.colab.kernel.accessAllowed ? 'block' : 'none';\n",
              "\n",
              "        async function convertToInteractive(key) {\n",
              "          const element = document.querySelector('#df-56f18335-9218-4884-9423-79df7b4a9d41');\n",
              "          const dataTable =\n",
              "            await google.colab.kernel.invokeFunction('convertToInteractive',\n",
              "                                                     [key], {});\n",
              "          if (!dataTable) return;\n",
              "\n",
              "          const docLinkHtml = 'Like what you see? Visit the ' +\n",
              "            '<a target=\"_blank\" href=https://colab.research.google.com/notebooks/data_table.ipynb>data table notebook</a>'\n",
              "            + ' to learn more about interactive tables.';\n",
              "          element.innerHTML = '';\n",
              "          dataTable['output_type'] = 'display_data';\n",
              "          await google.colab.output.renderOutput(dataTable, element);\n",
              "          const docLink = document.createElement('div');\n",
              "          docLink.innerHTML = docLinkHtml;\n",
              "          element.appendChild(docLink);\n",
              "        }\n",
              "      </script>\n",
              "    </div>\n",
              "  </div>\n",
              "  "
            ]
          },
          "metadata": {},
          "execution_count": 11
        }
      ]
    },
    {
      "cell_type": "code",
      "source": [
        "# Drop that dummy column\n",
        "df.drop(columns=[\"Percent\"], inplace=True)\n",
        "df.head(10)"
      ],
      "metadata": {
        "colab": {
          "base_uri": "https://localhost:8080/",
          "height": 363
        },
        "id": "xMBfAc_rGzMN",
        "outputId": "91651752-7b49-4834-8a60-c8483f1b688a"
      },
      "execution_count": null,
      "outputs": [
        {
          "output_type": "execute_result",
          "data": {
            "text/plain": [
              "                                Name   Brand   Price  DiscountedPrice  \\\n",
              "0             Premia Badam (Almonds)  Premia   451.0            329.0   \n",
              "1             Premia Badam (Almonds)  Premia   109.0             85.0   \n",
              "2             Premia Badam (Almonds)  Premia   202.0            175.0   \n",
              "3  Nutraj California Almonds (Badam)  Nutraj   599.0            349.0   \n",
              "4  Nutraj California Almonds (Badam)  Nutraj  1549.0            659.0   \n",
              "5                          Chana Dal     NaN    49.0             42.0   \n",
              "6                          Chana Dal     NaN    96.0             80.0   \n",
              "7                        Rajma White     NaN   112.0            102.0   \n",
              "8                 Rajma Kashmiri Red     NaN   101.0             81.0   \n",
              "9                 Premia Mamra Badam  Premia   634.0            488.0   \n",
              "\n",
              "  Category         SubCategory Quantity Description  \\\n",
              "0  Grocery  Grocery/Dry Fruits   500 gm       India   \n",
              "1  Grocery  Grocery/Dry Fruits   100 gm       India   \n",
              "2  Grocery  Grocery/Dry Fruits   200 gm       India   \n",
              "3  Grocery          Dry Fruits   500 gm         USA   \n",
              "4  Grocery          Dry Fruits     1 kg         USA   \n",
              "5  Grocery                Dals   500 gm       India   \n",
              "6  Grocery                Dals     1 kg       India   \n",
              "7  Grocery              Pulses   500 gm       India   \n",
              "8  Grocery              Pulses   500 gm       India   \n",
              "9  Grocery          Dry Fruits   200 gm       India   \n",
              "\n",
              "                    BreadCrumbs  \n",
              "0  Grocery > Grocery/Dry Fruits  \n",
              "1  Grocery > Grocery/Dry Fruits  \n",
              "2  Grocery > Grocery/Dry Fruits  \n",
              "3          Grocery > Dry Fruits  \n",
              "4          Grocery > Dry Fruits  \n",
              "5                Grocery > Dals  \n",
              "6                Grocery > Dals  \n",
              "7              Grocery > Pulses  \n",
              "8              Grocery > Pulses  \n",
              "9          Grocery > Dry Fruits  "
            ],
            "text/html": [
              "\n",
              "  <div id=\"df-e5277d72-58d3-4b8c-a27c-7395e516e347\">\n",
              "    <div class=\"colab-df-container\">\n",
              "      <div>\n",
              "<style scoped>\n",
              "    .dataframe tbody tr th:only-of-type {\n",
              "        vertical-align: middle;\n",
              "    }\n",
              "\n",
              "    .dataframe tbody tr th {\n",
              "        vertical-align: top;\n",
              "    }\n",
              "\n",
              "    .dataframe thead th {\n",
              "        text-align: right;\n",
              "    }\n",
              "</style>\n",
              "<table border=\"1\" class=\"dataframe\">\n",
              "  <thead>\n",
              "    <tr style=\"text-align: right;\">\n",
              "      <th></th>\n",
              "      <th>Name</th>\n",
              "      <th>Brand</th>\n",
              "      <th>Price</th>\n",
              "      <th>DiscountedPrice</th>\n",
              "      <th>Category</th>\n",
              "      <th>SubCategory</th>\n",
              "      <th>Quantity</th>\n",
              "      <th>Description</th>\n",
              "      <th>BreadCrumbs</th>\n",
              "    </tr>\n",
              "  </thead>\n",
              "  <tbody>\n",
              "    <tr>\n",
              "      <th>0</th>\n",
              "      <td>Premia Badam (Almonds)</td>\n",
              "      <td>Premia</td>\n",
              "      <td>451.0</td>\n",
              "      <td>329.0</td>\n",
              "      <td>Grocery</td>\n",
              "      <td>Grocery/Dry Fruits</td>\n",
              "      <td>500 gm</td>\n",
              "      <td>India</td>\n",
              "      <td>Grocery &gt; Grocery/Dry Fruits</td>\n",
              "    </tr>\n",
              "    <tr>\n",
              "      <th>1</th>\n",
              "      <td>Premia Badam (Almonds)</td>\n",
              "      <td>Premia</td>\n",
              "      <td>109.0</td>\n",
              "      <td>85.0</td>\n",
              "      <td>Grocery</td>\n",
              "      <td>Grocery/Dry Fruits</td>\n",
              "      <td>100 gm</td>\n",
              "      <td>India</td>\n",
              "      <td>Grocery &gt; Grocery/Dry Fruits</td>\n",
              "    </tr>\n",
              "    <tr>\n",
              "      <th>2</th>\n",
              "      <td>Premia Badam (Almonds)</td>\n",
              "      <td>Premia</td>\n",
              "      <td>202.0</td>\n",
              "      <td>175.0</td>\n",
              "      <td>Grocery</td>\n",
              "      <td>Grocery/Dry Fruits</td>\n",
              "      <td>200 gm</td>\n",
              "      <td>India</td>\n",
              "      <td>Grocery &gt; Grocery/Dry Fruits</td>\n",
              "    </tr>\n",
              "    <tr>\n",
              "      <th>3</th>\n",
              "      <td>Nutraj California Almonds (Badam)</td>\n",
              "      <td>Nutraj</td>\n",
              "      <td>599.0</td>\n",
              "      <td>349.0</td>\n",
              "      <td>Grocery</td>\n",
              "      <td>Dry Fruits</td>\n",
              "      <td>500 gm</td>\n",
              "      <td>USA</td>\n",
              "      <td>Grocery &gt; Dry Fruits</td>\n",
              "    </tr>\n",
              "    <tr>\n",
              "      <th>4</th>\n",
              "      <td>Nutraj California Almonds (Badam)</td>\n",
              "      <td>Nutraj</td>\n",
              "      <td>1549.0</td>\n",
              "      <td>659.0</td>\n",
              "      <td>Grocery</td>\n",
              "      <td>Dry Fruits</td>\n",
              "      <td>1 kg</td>\n",
              "      <td>USA</td>\n",
              "      <td>Grocery &gt; Dry Fruits</td>\n",
              "    </tr>\n",
              "    <tr>\n",
              "      <th>5</th>\n",
              "      <td>Chana Dal</td>\n",
              "      <td>NaN</td>\n",
              "      <td>49.0</td>\n",
              "      <td>42.0</td>\n",
              "      <td>Grocery</td>\n",
              "      <td>Dals</td>\n",
              "      <td>500 gm</td>\n",
              "      <td>India</td>\n",
              "      <td>Grocery &gt; Dals</td>\n",
              "    </tr>\n",
              "    <tr>\n",
              "      <th>6</th>\n",
              "      <td>Chana Dal</td>\n",
              "      <td>NaN</td>\n",
              "      <td>96.0</td>\n",
              "      <td>80.0</td>\n",
              "      <td>Grocery</td>\n",
              "      <td>Dals</td>\n",
              "      <td>1 kg</td>\n",
              "      <td>India</td>\n",
              "      <td>Grocery &gt; Dals</td>\n",
              "    </tr>\n",
              "    <tr>\n",
              "      <th>7</th>\n",
              "      <td>Rajma White</td>\n",
              "      <td>NaN</td>\n",
              "      <td>112.0</td>\n",
              "      <td>102.0</td>\n",
              "      <td>Grocery</td>\n",
              "      <td>Pulses</td>\n",
              "      <td>500 gm</td>\n",
              "      <td>India</td>\n",
              "      <td>Grocery &gt; Pulses</td>\n",
              "    </tr>\n",
              "    <tr>\n",
              "      <th>8</th>\n",
              "      <td>Rajma Kashmiri Red</td>\n",
              "      <td>NaN</td>\n",
              "      <td>101.0</td>\n",
              "      <td>81.0</td>\n",
              "      <td>Grocery</td>\n",
              "      <td>Pulses</td>\n",
              "      <td>500 gm</td>\n",
              "      <td>India</td>\n",
              "      <td>Grocery &gt; Pulses</td>\n",
              "    </tr>\n",
              "    <tr>\n",
              "      <th>9</th>\n",
              "      <td>Premia Mamra Badam</td>\n",
              "      <td>Premia</td>\n",
              "      <td>634.0</td>\n",
              "      <td>488.0</td>\n",
              "      <td>Grocery</td>\n",
              "      <td>Dry Fruits</td>\n",
              "      <td>200 gm</td>\n",
              "      <td>India</td>\n",
              "      <td>Grocery &gt; Dry Fruits</td>\n",
              "    </tr>\n",
              "  </tbody>\n",
              "</table>\n",
              "</div>\n",
              "      <button class=\"colab-df-convert\" onclick=\"convertToInteractive('df-e5277d72-58d3-4b8c-a27c-7395e516e347')\"\n",
              "              title=\"Convert this dataframe to an interactive table.\"\n",
              "              style=\"display:none;\">\n",
              "        \n",
              "  <svg xmlns=\"http://www.w3.org/2000/svg\" height=\"24px\"viewBox=\"0 0 24 24\"\n",
              "       width=\"24px\">\n",
              "    <path d=\"M0 0h24v24H0V0z\" fill=\"none\"/>\n",
              "    <path d=\"M18.56 5.44l.94 2.06.94-2.06 2.06-.94-2.06-.94-.94-2.06-.94 2.06-2.06.94zm-11 1L8.5 8.5l.94-2.06 2.06-.94-2.06-.94L8.5 2.5l-.94 2.06-2.06.94zm10 10l.94 2.06.94-2.06 2.06-.94-2.06-.94-.94-2.06-.94 2.06-2.06.94z\"/><path d=\"M17.41 7.96l-1.37-1.37c-.4-.4-.92-.59-1.43-.59-.52 0-1.04.2-1.43.59L10.3 9.45l-7.72 7.72c-.78.78-.78 2.05 0 2.83L4 21.41c.39.39.9.59 1.41.59.51 0 1.02-.2 1.41-.59l7.78-7.78 2.81-2.81c.8-.78.8-2.07 0-2.86zM5.41 20L4 18.59l7.72-7.72 1.47 1.35L5.41 20z\"/>\n",
              "  </svg>\n",
              "      </button>\n",
              "      \n",
              "  <style>\n",
              "    .colab-df-container {\n",
              "      display:flex;\n",
              "      flex-wrap:wrap;\n",
              "      gap: 12px;\n",
              "    }\n",
              "\n",
              "    .colab-df-convert {\n",
              "      background-color: #E8F0FE;\n",
              "      border: none;\n",
              "      border-radius: 50%;\n",
              "      cursor: pointer;\n",
              "      display: none;\n",
              "      fill: #1967D2;\n",
              "      height: 32px;\n",
              "      padding: 0 0 0 0;\n",
              "      width: 32px;\n",
              "    }\n",
              "\n",
              "    .colab-df-convert:hover {\n",
              "      background-color: #E2EBFA;\n",
              "      box-shadow: 0px 1px 2px rgba(60, 64, 67, 0.3), 0px 1px 3px 1px rgba(60, 64, 67, 0.15);\n",
              "      fill: #174EA6;\n",
              "    }\n",
              "\n",
              "    [theme=dark] .colab-df-convert {\n",
              "      background-color: #3B4455;\n",
              "      fill: #D2E3FC;\n",
              "    }\n",
              "\n",
              "    [theme=dark] .colab-df-convert:hover {\n",
              "      background-color: #434B5C;\n",
              "      box-shadow: 0px 1px 3px 1px rgba(0, 0, 0, 0.15);\n",
              "      filter: drop-shadow(0px 1px 2px rgba(0, 0, 0, 0.3));\n",
              "      fill: #FFFFFF;\n",
              "    }\n",
              "  </style>\n",
              "\n",
              "      <script>\n",
              "        const buttonEl =\n",
              "          document.querySelector('#df-e5277d72-58d3-4b8c-a27c-7395e516e347 button.colab-df-convert');\n",
              "        buttonEl.style.display =\n",
              "          google.colab.kernel.accessAllowed ? 'block' : 'none';\n",
              "\n",
              "        async function convertToInteractive(key) {\n",
              "          const element = document.querySelector('#df-e5277d72-58d3-4b8c-a27c-7395e516e347');\n",
              "          const dataTable =\n",
              "            await google.colab.kernel.invokeFunction('convertToInteractive',\n",
              "                                                     [key], {});\n",
              "          if (!dataTable) return;\n",
              "\n",
              "          const docLinkHtml = 'Like what you see? Visit the ' +\n",
              "            '<a target=\"_blank\" href=https://colab.research.google.com/notebooks/data_table.ipynb>data table notebook</a>'\n",
              "            + ' to learn more about interactive tables.';\n",
              "          element.innerHTML = '';\n",
              "          dataTable['output_type'] = 'display_data';\n",
              "          await google.colab.output.renderOutput(dataTable, element);\n",
              "          const docLink = document.createElement('div');\n",
              "          docLink.innerHTML = docLinkHtml;\n",
              "          element.appendChild(docLink);\n",
              "        }\n",
              "      </script>\n",
              "    </div>\n",
              "  </div>\n",
              "  "
            ]
          },
          "metadata": {},
          "execution_count": 12
        }
      ]
    },
    {
      "cell_type": "code",
      "source": [
        "# Replaces NA with mean of the columns (works for numeric values only)\n",
        "df_mean = df.copy()\n",
        "df_mean['Price'].fillna(df_mean['Price'].mean(), inplace=True)\n",
        "df_mean.isnull().sum()# NA values in Price go to Zero"
      ],
      "metadata": {
        "colab": {
          "base_uri": "https://localhost:8080/"
        },
        "id": "jxqjJuVMG1ym",
        "outputId": "7644d351-f340-4d18-b85f-d8fba4025fe1"
      },
      "execution_count": null,
      "outputs": [
        {
          "output_type": "execute_result",
          "data": {
            "text/plain": [
              "Name                 1\n",
              "Brand              400\n",
              "Price                0\n",
              "DiscountedPrice      1\n",
              "Category             3\n",
              "SubCategory          3\n",
              "Quantity             1\n",
              "Description          2\n",
              "BreadCrumbs          3\n",
              "dtype: int64"
            ]
          },
          "metadata": {},
          "execution_count": 13
        }
      ]
    },
    {
      "cell_type": "code",
      "source": [
        "# Convert a character variable to Categorical\n",
        "df_mean[\"Category2\"] = df_mean[\"Category\"].astype(\"category\")\n",
        "df_mean[\"Category\"].dtype\n",
        "df_mean[\"Category2\"].dtype"
      ],
      "metadata": {
        "colab": {
          "base_uri": "https://localhost:8080/"
        },
        "id": "BnCiJyEIG3yN",
        "outputId": "e4efbecd-7901-4532-bcae-c054981c8756"
      },
      "execution_count": null,
      "outputs": [
        {
          "output_type": "execute_result",
          "data": {
            "text/plain": [
              "CategoricalDtype(categories=['Appliances', 'Baby & Kids', 'Backpacks',\n",
              "                  'Beauty & Cosmetics', 'Butterfly', 'Clothing & Accessories',\n",
              "                  'Computer Accessories', 'DMart Grocery', 'Dairy & Beverages',\n",
              "                  'Fruits & Vegetables', 'Geep', 'Grocery', 'Home & Kitchen',\n",
              "                  'Joyo Plastics', 'Kitchen Aprons', 'Motorbike Helmets',\n",
              "                  'Packaged Food', 'Personal Care', 'Pigeon',\n",
              "                  'Plant Container', 'Raincoat', 'School Supplies',\n",
              "                  'Smartwatches', 'Specials', 'Syska', 'Tableware',\n",
              "                  'Water Purifiers & Accessories', 'Wonderchef', 'Zebronics'],\n",
              ", ordered=False)"
            ]
          },
          "metadata": {},
          "execution_count": 14
        }
      ]
    },
    {
      "cell_type": "code",
      "source": [
        "# Convert numerical variable to Character and back\n",
        "df_mean[\"PriceAsChar\"] = df_mean[\"Price\"].astype(str)\n",
        "df_mean[\"PriceAsNum\"] = df_mean[\"PriceAsChar\"].astype(float)\n",
        "df_mean.head(10)"
      ],
      "metadata": {
        "colab": {
          "base_uri": "https://localhost:8080/",
          "height": 363
        },
        "id": "WcstqRqvG5nG",
        "outputId": "14dacb4c-20b0-463a-a676-57777d779e91"
      },
      "execution_count": null,
      "outputs": [
        {
          "output_type": "execute_result",
          "data": {
            "text/plain": [
              "                                Name   Brand   Price  DiscountedPrice  \\\n",
              "0             Premia Badam (Almonds)  Premia   451.0            329.0   \n",
              "1             Premia Badam (Almonds)  Premia   109.0             85.0   \n",
              "2             Premia Badam (Almonds)  Premia   202.0            175.0   \n",
              "3  Nutraj California Almonds (Badam)  Nutraj   599.0            349.0   \n",
              "4  Nutraj California Almonds (Badam)  Nutraj  1549.0            659.0   \n",
              "5                          Chana Dal     NaN    49.0             42.0   \n",
              "6                          Chana Dal     NaN    96.0             80.0   \n",
              "7                        Rajma White     NaN   112.0            102.0   \n",
              "8                 Rajma Kashmiri Red     NaN   101.0             81.0   \n",
              "9                 Premia Mamra Badam  Premia   634.0            488.0   \n",
              "\n",
              "  Category         SubCategory Quantity Description  \\\n",
              "0  Grocery  Grocery/Dry Fruits   500 gm       India   \n",
              "1  Grocery  Grocery/Dry Fruits   100 gm       India   \n",
              "2  Grocery  Grocery/Dry Fruits   200 gm       India   \n",
              "3  Grocery          Dry Fruits   500 gm         USA   \n",
              "4  Grocery          Dry Fruits     1 kg         USA   \n",
              "5  Grocery                Dals   500 gm       India   \n",
              "6  Grocery                Dals     1 kg       India   \n",
              "7  Grocery              Pulses   500 gm       India   \n",
              "8  Grocery              Pulses   500 gm       India   \n",
              "9  Grocery          Dry Fruits   200 gm       India   \n",
              "\n",
              "                    BreadCrumbs Category2 PriceAsChar  PriceAsNum  \n",
              "0  Grocery > Grocery/Dry Fruits   Grocery       451.0       451.0  \n",
              "1  Grocery > Grocery/Dry Fruits   Grocery       109.0       109.0  \n",
              "2  Grocery > Grocery/Dry Fruits   Grocery       202.0       202.0  \n",
              "3          Grocery > Dry Fruits   Grocery       599.0       599.0  \n",
              "4          Grocery > Dry Fruits   Grocery      1549.0      1549.0  \n",
              "5                Grocery > Dals   Grocery        49.0        49.0  \n",
              "6                Grocery > Dals   Grocery        96.0        96.0  \n",
              "7              Grocery > Pulses   Grocery       112.0       112.0  \n",
              "8              Grocery > Pulses   Grocery       101.0       101.0  \n",
              "9          Grocery > Dry Fruits   Grocery       634.0       634.0  "
            ],
            "text/html": [
              "\n",
              "  <div id=\"df-274e1ebc-cd98-47cd-920f-edfc31c8f6bc\">\n",
              "    <div class=\"colab-df-container\">\n",
              "      <div>\n",
              "<style scoped>\n",
              "    .dataframe tbody tr th:only-of-type {\n",
              "        vertical-align: middle;\n",
              "    }\n",
              "\n",
              "    .dataframe tbody tr th {\n",
              "        vertical-align: top;\n",
              "    }\n",
              "\n",
              "    .dataframe thead th {\n",
              "        text-align: right;\n",
              "    }\n",
              "</style>\n",
              "<table border=\"1\" class=\"dataframe\">\n",
              "  <thead>\n",
              "    <tr style=\"text-align: right;\">\n",
              "      <th></th>\n",
              "      <th>Name</th>\n",
              "      <th>Brand</th>\n",
              "      <th>Price</th>\n",
              "      <th>DiscountedPrice</th>\n",
              "      <th>Category</th>\n",
              "      <th>SubCategory</th>\n",
              "      <th>Quantity</th>\n",
              "      <th>Description</th>\n",
              "      <th>BreadCrumbs</th>\n",
              "      <th>Category2</th>\n",
              "      <th>PriceAsChar</th>\n",
              "      <th>PriceAsNum</th>\n",
              "    </tr>\n",
              "  </thead>\n",
              "  <tbody>\n",
              "    <tr>\n",
              "      <th>0</th>\n",
              "      <td>Premia Badam (Almonds)</td>\n",
              "      <td>Premia</td>\n",
              "      <td>451.0</td>\n",
              "      <td>329.0</td>\n",
              "      <td>Grocery</td>\n",
              "      <td>Grocery/Dry Fruits</td>\n",
              "      <td>500 gm</td>\n",
              "      <td>India</td>\n",
              "      <td>Grocery &gt; Grocery/Dry Fruits</td>\n",
              "      <td>Grocery</td>\n",
              "      <td>451.0</td>\n",
              "      <td>451.0</td>\n",
              "    </tr>\n",
              "    <tr>\n",
              "      <th>1</th>\n",
              "      <td>Premia Badam (Almonds)</td>\n",
              "      <td>Premia</td>\n",
              "      <td>109.0</td>\n",
              "      <td>85.0</td>\n",
              "      <td>Grocery</td>\n",
              "      <td>Grocery/Dry Fruits</td>\n",
              "      <td>100 gm</td>\n",
              "      <td>India</td>\n",
              "      <td>Grocery &gt; Grocery/Dry Fruits</td>\n",
              "      <td>Grocery</td>\n",
              "      <td>109.0</td>\n",
              "      <td>109.0</td>\n",
              "    </tr>\n",
              "    <tr>\n",
              "      <th>2</th>\n",
              "      <td>Premia Badam (Almonds)</td>\n",
              "      <td>Premia</td>\n",
              "      <td>202.0</td>\n",
              "      <td>175.0</td>\n",
              "      <td>Grocery</td>\n",
              "      <td>Grocery/Dry Fruits</td>\n",
              "      <td>200 gm</td>\n",
              "      <td>India</td>\n",
              "      <td>Grocery &gt; Grocery/Dry Fruits</td>\n",
              "      <td>Grocery</td>\n",
              "      <td>202.0</td>\n",
              "      <td>202.0</td>\n",
              "    </tr>\n",
              "    <tr>\n",
              "      <th>3</th>\n",
              "      <td>Nutraj California Almonds (Badam)</td>\n",
              "      <td>Nutraj</td>\n",
              "      <td>599.0</td>\n",
              "      <td>349.0</td>\n",
              "      <td>Grocery</td>\n",
              "      <td>Dry Fruits</td>\n",
              "      <td>500 gm</td>\n",
              "      <td>USA</td>\n",
              "      <td>Grocery &gt; Dry Fruits</td>\n",
              "      <td>Grocery</td>\n",
              "      <td>599.0</td>\n",
              "      <td>599.0</td>\n",
              "    </tr>\n",
              "    <tr>\n",
              "      <th>4</th>\n",
              "      <td>Nutraj California Almonds (Badam)</td>\n",
              "      <td>Nutraj</td>\n",
              "      <td>1549.0</td>\n",
              "      <td>659.0</td>\n",
              "      <td>Grocery</td>\n",
              "      <td>Dry Fruits</td>\n",
              "      <td>1 kg</td>\n",
              "      <td>USA</td>\n",
              "      <td>Grocery &gt; Dry Fruits</td>\n",
              "      <td>Grocery</td>\n",
              "      <td>1549.0</td>\n",
              "      <td>1549.0</td>\n",
              "    </tr>\n",
              "    <tr>\n",
              "      <th>5</th>\n",
              "      <td>Chana Dal</td>\n",
              "      <td>NaN</td>\n",
              "      <td>49.0</td>\n",
              "      <td>42.0</td>\n",
              "      <td>Grocery</td>\n",
              "      <td>Dals</td>\n",
              "      <td>500 gm</td>\n",
              "      <td>India</td>\n",
              "      <td>Grocery &gt; Dals</td>\n",
              "      <td>Grocery</td>\n",
              "      <td>49.0</td>\n",
              "      <td>49.0</td>\n",
              "    </tr>\n",
              "    <tr>\n",
              "      <th>6</th>\n",
              "      <td>Chana Dal</td>\n",
              "      <td>NaN</td>\n",
              "      <td>96.0</td>\n",
              "      <td>80.0</td>\n",
              "      <td>Grocery</td>\n",
              "      <td>Dals</td>\n",
              "      <td>1 kg</td>\n",
              "      <td>India</td>\n",
              "      <td>Grocery &gt; Dals</td>\n",
              "      <td>Grocery</td>\n",
              "      <td>96.0</td>\n",
              "      <td>96.0</td>\n",
              "    </tr>\n",
              "    <tr>\n",
              "      <th>7</th>\n",
              "      <td>Rajma White</td>\n",
              "      <td>NaN</td>\n",
              "      <td>112.0</td>\n",
              "      <td>102.0</td>\n",
              "      <td>Grocery</td>\n",
              "      <td>Pulses</td>\n",
              "      <td>500 gm</td>\n",
              "      <td>India</td>\n",
              "      <td>Grocery &gt; Pulses</td>\n",
              "      <td>Grocery</td>\n",
              "      <td>112.0</td>\n",
              "      <td>112.0</td>\n",
              "    </tr>\n",
              "    <tr>\n",
              "      <th>8</th>\n",
              "      <td>Rajma Kashmiri Red</td>\n",
              "      <td>NaN</td>\n",
              "      <td>101.0</td>\n",
              "      <td>81.0</td>\n",
              "      <td>Grocery</td>\n",
              "      <td>Pulses</td>\n",
              "      <td>500 gm</td>\n",
              "      <td>India</td>\n",
              "      <td>Grocery &gt; Pulses</td>\n",
              "      <td>Grocery</td>\n",
              "      <td>101.0</td>\n",
              "      <td>101.0</td>\n",
              "    </tr>\n",
              "    <tr>\n",
              "      <th>9</th>\n",
              "      <td>Premia Mamra Badam</td>\n",
              "      <td>Premia</td>\n",
              "      <td>634.0</td>\n",
              "      <td>488.0</td>\n",
              "      <td>Grocery</td>\n",
              "      <td>Dry Fruits</td>\n",
              "      <td>200 gm</td>\n",
              "      <td>India</td>\n",
              "      <td>Grocery &gt; Dry Fruits</td>\n",
              "      <td>Grocery</td>\n",
              "      <td>634.0</td>\n",
              "      <td>634.0</td>\n",
              "    </tr>\n",
              "  </tbody>\n",
              "</table>\n",
              "</div>\n",
              "      <button class=\"colab-df-convert\" onclick=\"convertToInteractive('df-274e1ebc-cd98-47cd-920f-edfc31c8f6bc')\"\n",
              "              title=\"Convert this dataframe to an interactive table.\"\n",
              "              style=\"display:none;\">\n",
              "        \n",
              "  <svg xmlns=\"http://www.w3.org/2000/svg\" height=\"24px\"viewBox=\"0 0 24 24\"\n",
              "       width=\"24px\">\n",
              "    <path d=\"M0 0h24v24H0V0z\" fill=\"none\"/>\n",
              "    <path d=\"M18.56 5.44l.94 2.06.94-2.06 2.06-.94-2.06-.94-.94-2.06-.94 2.06-2.06.94zm-11 1L8.5 8.5l.94-2.06 2.06-.94-2.06-.94L8.5 2.5l-.94 2.06-2.06.94zm10 10l.94 2.06.94-2.06 2.06-.94-2.06-.94-.94-2.06-.94 2.06-2.06.94z\"/><path d=\"M17.41 7.96l-1.37-1.37c-.4-.4-.92-.59-1.43-.59-.52 0-1.04.2-1.43.59L10.3 9.45l-7.72 7.72c-.78.78-.78 2.05 0 2.83L4 21.41c.39.39.9.59 1.41.59.51 0 1.02-.2 1.41-.59l7.78-7.78 2.81-2.81c.8-.78.8-2.07 0-2.86zM5.41 20L4 18.59l7.72-7.72 1.47 1.35L5.41 20z\"/>\n",
              "  </svg>\n",
              "      </button>\n",
              "      \n",
              "  <style>\n",
              "    .colab-df-container {\n",
              "      display:flex;\n",
              "      flex-wrap:wrap;\n",
              "      gap: 12px;\n",
              "    }\n",
              "\n",
              "    .colab-df-convert {\n",
              "      background-color: #E8F0FE;\n",
              "      border: none;\n",
              "      border-radius: 50%;\n",
              "      cursor: pointer;\n",
              "      display: none;\n",
              "      fill: #1967D2;\n",
              "      height: 32px;\n",
              "      padding: 0 0 0 0;\n",
              "      width: 32px;\n",
              "    }\n",
              "\n",
              "    .colab-df-convert:hover {\n",
              "      background-color: #E2EBFA;\n",
              "      box-shadow: 0px 1px 2px rgba(60, 64, 67, 0.3), 0px 1px 3px 1px rgba(60, 64, 67, 0.15);\n",
              "      fill: #174EA6;\n",
              "    }\n",
              "\n",
              "    [theme=dark] .colab-df-convert {\n",
              "      background-color: #3B4455;\n",
              "      fill: #D2E3FC;\n",
              "    }\n",
              "\n",
              "    [theme=dark] .colab-df-convert:hover {\n",
              "      background-color: #434B5C;\n",
              "      box-shadow: 0px 1px 3px 1px rgba(0, 0, 0, 0.15);\n",
              "      filter: drop-shadow(0px 1px 2px rgba(0, 0, 0, 0.3));\n",
              "      fill: #FFFFFF;\n",
              "    }\n",
              "  </style>\n",
              "\n",
              "      <script>\n",
              "        const buttonEl =\n",
              "          document.querySelector('#df-274e1ebc-cd98-47cd-920f-edfc31c8f6bc button.colab-df-convert');\n",
              "        buttonEl.style.display =\n",
              "          google.colab.kernel.accessAllowed ? 'block' : 'none';\n",
              "\n",
              "        async function convertToInteractive(key) {\n",
              "          const element = document.querySelector('#df-274e1ebc-cd98-47cd-920f-edfc31c8f6bc');\n",
              "          const dataTable =\n",
              "            await google.colab.kernel.invokeFunction('convertToInteractive',\n",
              "                                                     [key], {});\n",
              "          if (!dataTable) return;\n",
              "\n",
              "          const docLinkHtml = 'Like what you see? Visit the ' +\n",
              "            '<a target=\"_blank\" href=https://colab.research.google.com/notebooks/data_table.ipynb>data table notebook</a>'\n",
              "            + ' to learn more about interactive tables.';\n",
              "          element.innerHTML = '';\n",
              "          dataTable['output_type'] = 'display_data';\n",
              "          await google.colab.output.renderOutput(dataTable, element);\n",
              "          const docLink = document.createElement('div');\n",
              "          docLink.innerHTML = docLinkHtml;\n",
              "          element.appendChild(docLink);\n",
              "        }\n",
              "      </script>\n",
              "    </div>\n",
              "  </div>\n",
              "  "
            ]
          },
          "metadata": {},
          "execution_count": 15
        }
      ]
    }
  ]
}